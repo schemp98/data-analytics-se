{
  "cells": [
    {
      "cell_type": "markdown",
      "metadata": {
        "id": "view-in-github",
        "colab_type": "text"
      },
      "source": [
        "<a href=\"https://colab.research.google.com/github/schemp98/data-analytics-se/blob/master/hands_on_06_2_SCC.ipynb\" target=\"_parent\"><img src=\"https://colab.research.google.com/assets/colab-badge.svg\" alt=\"Open In Colab\"/></a>"
      ]
    },
    {
      "cell_type": "code",
      "execution_count": null,
      "metadata": {
        "tags": [
          "hide-input"
        ],
        "id": "kNrbhZvoI28z"
      },
      "outputs": [],
      "source": [
        "import numpy as np\n",
        "np.set_printoptions(precision=3)\n",
        "import matplotlib.pyplot as plt\n",
        "%matplotlib inline\n",
        "import seaborn as sns\n",
        "sns.set(rc={\"figure.dpi\":100, 'savefig.dpi':300})\n",
        "sns.set_context('notebook')\n",
        "sns.set_style(\"ticks\")"
      ]
    },
    {
      "cell_type": "markdown",
      "metadata": {
        "id": "_znGG-tNI289"
      },
      "source": [
        "# The Multivariate Normal - Full Covariance Case\n",
        "\n",
        "## Objectives\n",
        "\n",
        "+ To introduce the multivariate normal with full covariance.\n",
        "\n",
        "## The multivariate mormal - Full covariance case\n",
        "\n",
        "Consider the $N$-dimensional multivariate normal:\n",
        "\n",
        "$$\n",
        "\\mathbf{X} \\sim N\\left(\\boldsymbol{\\mu}, \\boldsymbol{\\Sigma}\\right),\n",
        "$$\n",
        "\n",
        "where $\\boldsymbol{\\mu}$ is a $N$-dimensional vector, $\\boldsymbol{\\Sigma}$ is a *positive-definite matrix*.\n",
        "\n",
        "Let's plot contours and take samples."
      ]
    },
    {
      "cell_type": "code",
      "execution_count": null,
      "metadata": {
        "id": "hTZAXDeAI29G",
        "outputId": "29330d70-8105-4ac3-9f0f-7096ffdf4e3e",
        "colab": {
          "base_uri": "https://localhost:8080/",
          "height": 390
        }
      },
      "outputs": [
        {
          "output_type": "error",
          "ename": "ValueError",
          "evalue": "ignored",
          "traceback": [
            "\u001b[0;31m---------------------------------------------------------------------------\u001b[0m",
            "\u001b[0;31mValueError\u001b[0m                                Traceback (most recent call last)",
            "\u001b[0;32m<ipython-input-5-5b6783f8a1c7>\u001b[0m in \u001b[0;36m<module>\u001b[0;34m()\u001b[0m\n\u001b[1;32m     11\u001b[0m )\n\u001b[1;32m     12\u001b[0m \u001b[0;31m# The multivariate normal random vector\u001b[0m\u001b[0;34m\u001b[0m\u001b[0;34m\u001b[0m\u001b[0;34m\u001b[0m\u001b[0m\n\u001b[0;32m---> 13\u001b[0;31m \u001b[0mX\u001b[0m \u001b[0;34m=\u001b[0m \u001b[0mst\u001b[0m\u001b[0;34m.\u001b[0m\u001b[0mmultivariate_normal\u001b[0m\u001b[0;34m(\u001b[0m\u001b[0mmean\u001b[0m\u001b[0;34m=\u001b[0m\u001b[0mmu\u001b[0m\u001b[0;34m,\u001b[0m \u001b[0mcov\u001b[0m\u001b[0;34m=\u001b[0m\u001b[0mSigma\u001b[0m\u001b[0;34m)\u001b[0m\u001b[0;34m\u001b[0m\u001b[0;34m\u001b[0m\u001b[0m\n\u001b[0m\u001b[1;32m     14\u001b[0m \u001b[0;34m\u001b[0m\u001b[0m\n\u001b[1;32m     15\u001b[0m \u001b[0;31m# CONTOURS\u001b[0m\u001b[0;34m\u001b[0m\u001b[0;34m\u001b[0m\u001b[0;34m\u001b[0m\u001b[0m\n",
            "\u001b[0;32m/usr/local/lib/python3.7/dist-packages/scipy/stats/_multivariate.py\u001b[0m in \u001b[0;36m__call__\u001b[0;34m(self, mean, cov, allow_singular, seed)\u001b[0m\n\u001b[1;32m    361\u001b[0m         return multivariate_normal_frozen(mean, cov,\n\u001b[1;32m    362\u001b[0m                                           \u001b[0mallow_singular\u001b[0m\u001b[0;34m=\u001b[0m\u001b[0mallow_singular\u001b[0m\u001b[0;34m,\u001b[0m\u001b[0;34m\u001b[0m\u001b[0;34m\u001b[0m\u001b[0m\n\u001b[0;32m--> 363\u001b[0;31m                                           seed=seed)\n\u001b[0m\u001b[1;32m    364\u001b[0m \u001b[0;34m\u001b[0m\u001b[0m\n\u001b[1;32m    365\u001b[0m     \u001b[0;32mdef\u001b[0m \u001b[0m_process_parameters\u001b[0m\u001b[0;34m(\u001b[0m\u001b[0mself\u001b[0m\u001b[0;34m,\u001b[0m \u001b[0mdim\u001b[0m\u001b[0;34m,\u001b[0m \u001b[0mmean\u001b[0m\u001b[0;34m,\u001b[0m \u001b[0mcov\u001b[0m\u001b[0;34m)\u001b[0m\u001b[0;34m:\u001b[0m\u001b[0;34m\u001b[0m\u001b[0;34m\u001b[0m\u001b[0m\n",
            "\u001b[0;32m/usr/local/lib/python3.7/dist-packages/scipy/stats/_multivariate.py\u001b[0m in \u001b[0;36m__init__\u001b[0;34m(self, mean, cov, allow_singular, seed, maxpts, abseps, releps)\u001b[0m\n\u001b[1;32m    734\u001b[0m         self.dim, self.mean, self.cov = self._dist._process_parameters(\n\u001b[1;32m    735\u001b[0m                                                             None, mean, cov)\n\u001b[0;32m--> 736\u001b[0;31m         \u001b[0mself\u001b[0m\u001b[0;34m.\u001b[0m\u001b[0mcov_info\u001b[0m \u001b[0;34m=\u001b[0m \u001b[0m_PSD\u001b[0m\u001b[0;34m(\u001b[0m\u001b[0mself\u001b[0m\u001b[0;34m.\u001b[0m\u001b[0mcov\u001b[0m\u001b[0;34m,\u001b[0m \u001b[0mallow_singular\u001b[0m\u001b[0;34m=\u001b[0m\u001b[0mallow_singular\u001b[0m\u001b[0;34m)\u001b[0m\u001b[0;34m\u001b[0m\u001b[0;34m\u001b[0m\u001b[0m\n\u001b[0m\u001b[1;32m    737\u001b[0m         \u001b[0;32mif\u001b[0m \u001b[0;32mnot\u001b[0m \u001b[0mmaxpts\u001b[0m\u001b[0;34m:\u001b[0m\u001b[0;34m\u001b[0m\u001b[0;34m\u001b[0m\u001b[0m\n\u001b[1;32m    738\u001b[0m             \u001b[0mmaxpts\u001b[0m \u001b[0;34m=\u001b[0m \u001b[0;36m1000000\u001b[0m \u001b[0;34m*\u001b[0m \u001b[0mself\u001b[0m\u001b[0;34m.\u001b[0m\u001b[0mdim\u001b[0m\u001b[0;34m\u001b[0m\u001b[0;34m\u001b[0m\u001b[0m\n",
            "\u001b[0;32m/usr/local/lib/python3.7/dist-packages/scipy/stats/_multivariate.py\u001b[0m in \u001b[0;36m__init__\u001b[0;34m(self, M, cond, rcond, lower, check_finite, allow_singular)\u001b[0m\n\u001b[1;32m    158\u001b[0m         \u001b[0meps\u001b[0m \u001b[0;34m=\u001b[0m \u001b[0m_eigvalsh_to_eps\u001b[0m\u001b[0;34m(\u001b[0m\u001b[0ms\u001b[0m\u001b[0;34m,\u001b[0m \u001b[0mcond\u001b[0m\u001b[0;34m,\u001b[0m \u001b[0mrcond\u001b[0m\u001b[0;34m)\u001b[0m\u001b[0;34m\u001b[0m\u001b[0;34m\u001b[0m\u001b[0m\n\u001b[1;32m    159\u001b[0m         \u001b[0;32mif\u001b[0m \u001b[0mnp\u001b[0m\u001b[0;34m.\u001b[0m\u001b[0mmin\u001b[0m\u001b[0;34m(\u001b[0m\u001b[0ms\u001b[0m\u001b[0;34m)\u001b[0m \u001b[0;34m<\u001b[0m \u001b[0;34m-\u001b[0m\u001b[0meps\u001b[0m\u001b[0;34m:\u001b[0m\u001b[0;34m\u001b[0m\u001b[0;34m\u001b[0m\u001b[0m\n\u001b[0;32m--> 160\u001b[0;31m             \u001b[0;32mraise\u001b[0m \u001b[0mValueError\u001b[0m\u001b[0;34m(\u001b[0m\u001b[0;34m'the input matrix must be positive semidefinite'\u001b[0m\u001b[0;34m)\u001b[0m\u001b[0;34m\u001b[0m\u001b[0;34m\u001b[0m\u001b[0m\n\u001b[0m\u001b[1;32m    161\u001b[0m         \u001b[0md\u001b[0m \u001b[0;34m=\u001b[0m \u001b[0ms\u001b[0m\u001b[0;34m[\u001b[0m\u001b[0ms\u001b[0m \u001b[0;34m>\u001b[0m \u001b[0meps\u001b[0m\u001b[0;34m]\u001b[0m\u001b[0;34m\u001b[0m\u001b[0;34m\u001b[0m\u001b[0m\n\u001b[1;32m    162\u001b[0m         \u001b[0;32mif\u001b[0m \u001b[0mlen\u001b[0m\u001b[0;34m(\u001b[0m\u001b[0md\u001b[0m\u001b[0;34m)\u001b[0m \u001b[0;34m<\u001b[0m \u001b[0mlen\u001b[0m\u001b[0;34m(\u001b[0m\u001b[0ms\u001b[0m\u001b[0;34m)\u001b[0m \u001b[0;32mand\u001b[0m \u001b[0;32mnot\u001b[0m \u001b[0mallow_singular\u001b[0m\u001b[0;34m:\u001b[0m\u001b[0;34m\u001b[0m\u001b[0;34m\u001b[0m\u001b[0m\n",
            "\u001b[0;31mValueError\u001b[0m: the input matrix must be positive semidefinite"
          ]
        }
      ],
      "source": [
        "import scipy.stats as st\n",
        "\n",
        "# The mean vector\n",
        "mu = np.array([0.0, 1.0])\n",
        "# The covariance matrix\n",
        "Sigma = np.array(\n",
        "    [\n",
        "        [0.4, 0.9],\n",
        "        [0.9, 1.0]\n",
        "    ]\n",
        ")\n",
        "# The multivariate normal random vector\n",
        "X = st.multivariate_normal(mean=mu, cov=Sigma)\n",
        "\n",
        "# CONTOURS\n",
        "fig, ax = plt.subplots(dpi=150)\n",
        "x1 = np.linspace(-3, 5, 64)\n",
        "x2 = np.linspace(-3, 5, 64)\n",
        "X1, X2 = np.meshgrid(x1, x2)\n",
        "X_flat = np.hstack(\n",
        "    [\n",
        "        X1.flatten()[:, None],\n",
        "        X2.flatten()[:, None]\n",
        "    ]\n",
        ")\n",
        "# PDF values\n",
        "pdf_X = X.pdf(X_flat).reshape(X1.shape)\n",
        "c = ax.contour(X1, X2, pdf_X)\n",
        "plt.colorbar(c, label='$p(\\mathbf{x})$')\n",
        "\n",
        "# SAMPLES\n",
        "num_samples = 500\n",
        "x_samples = X.rvs(size=num_samples)\n",
        "ax.plot(\n",
        "    x_samples[:, 0],\n",
        "    x_samples[:, 1],\n",
        "    '.',\n",
        "    markersize=2,\n",
        "    label='Samples'\n",
        ")\n",
        "plt.legend(loc='best')\n",
        "ax.set_xlabel('$x_1$')\n",
        "ax.set_ylabel('$x_2$');"
      ]
    },
    {
      "cell_type": "markdown",
      "metadata": {
        "id": "XUcVgNv4I29P"
      },
      "source": [
        "## Questions\n",
        "+ Rerun the steps above after moving $\\boldsymbol{\\mu}$ to $(0, 1)$. Observe how the contours of the PDF move.\n",
        "+ Rerun the steps above for $\\Sigma_{12} = \\Sigma_{21} = 0.1$. Observe how the contours of the PDF change.\n",
        "+ Rerun the steps above for $\\Sigma_{12} = \\Sigma_{21} = -0.9$. Observe how the contours of the PDF change.\n",
        "+ Rerun the steps above for $\\Sigma_{11} = 0.4$. Why does the code fail?"
      ]
    },
    {
      "cell_type": "markdown",
      "metadata": {
        "id": "rIACC3X_I29U"
      },
      "source": [
        "## The covariance matrix must be positive definite so that $p(\\mathbf{x})$ has a well-defined, unique maximum\n",
        "\n",
        "In the lecture we argued that the covariance matrix $\\boldsymbol{\\Sigma}$ must be positive definite so that the PDF of $\\mathbf{X}$ has a unique maximum. Let's try to understand this step by step.\n",
        "First, what does it mean for a matrix to be positive definite.\n",
        "The mathematical definition stats that for any vector $\\mathbf{v}\\not=\\mathbf{0}$, the quantity $\\mathbf{v}^T\\boldsymbol{\\Sigma}\\mathbf{v}$ is positive.\n",
        "\n",
        "Let's just test this quantity for two different matrices.\n",
        "One will be positive definite.\n",
        "The other won't be.\n",
        "I will draw random vectors $v$, evaluate the expression $\\mathbf{v}^T\\boldsymbol{\\Sigma}\\mathbf{v}$ and see what I get."
      ]
    },
    {
      "cell_type": "code",
      "execution_count": null,
      "metadata": {
        "tags": [
          "hide-input"
        ],
        "id": "Qtv90BhBI29Z",
        "outputId": "94d4bfff-537e-4eba-9d7c-f402dc55d110",
        "colab": {
          "base_uri": "https://localhost:8080/",
          "height": 288
        }
      },
      "outputs": [
        {
          "output_type": "display_data",
          "data": {
            "text/plain": [
              "<Figure size 432x288 with 1 Axes>"
            ],
            "image/png": "[encoded data removed]"
          },
          "metadata": {
            "needs_background": "light"
          }
        }
      ],
      "source": [
        "# A covariane matrix that we know works\n",
        "Sigma_good = np.array(\n",
        "    [\n",
        "        [1.0, -0.9],\n",
        "        [-0.9, 1.0]\n",
        "    ]\n",
        ")\n",
        "\n",
        "# A covariance matrix that we know does not work\n",
        "Sigma_bad = np.array(\n",
        "    [\n",
        "        [0.4, -0.9],\n",
        "        [-0.9, 1.0]\n",
        "    ]\n",
        ")\n",
        "\n",
        "# Take random vectors and compute at quantity\n",
        "num_vectors = 5000\n",
        "Q_good = np.ndarray((num_vectors,))\n",
        "Q_bad = np.ndarray((num_vectors,))\n",
        "for i in range(num_vectors):\n",
        "    v = np.random.randn(2)\n",
        "    Q_good[i] = v @ (Sigma_good @ v)\n",
        "    Q_bad[i] = v @ (Sigma_bad @ v)\n",
        "\n",
        "# Let's do the histograms of these quantities to see whether or not they are positive\n",
        "fig, ax = plt.subplots()\n",
        "ax.hist(\n",
        "    Q_good,\n",
        "    density=True,\n",
        "    alpha=0.5,\n",
        "    bins=100,\n",
        "    label='Positive definite $\\Sigma$'\n",
        ")\n",
        "ax.hist(\n",
        "    Q_bad,\n",
        "    density=True,\n",
        "    alpha=0.5,\n",
        "    bins=100,\n",
        "    label='Not positive definite $\\Sigma$'\n",
        ")\n",
        "ax.set_xlabel(r'$v^T\\Sigma v$')\n",
        "ax.set_ylabel('Frequency')\n",
        "plt.legend(loc='best');"
      ]
    },
    {
      "cell_type": "markdown",
      "metadata": {
        "id": "Wd4CHaj1I29d"
      },
      "source": [
        "Observe that the non-positive definite matrix is giving us quite a few negative value.\n",
        "Is there a way to check if a matrix is positive definite without doing this random test?\n",
        "Yes, you just check if all the eigenvalues of the matrix are positive. Here is how:"
      ]
    },
    {
      "cell_type": "code",
      "execution_count": null,
      "metadata": {
        "id": "QbP97m-AI29g",
        "outputId": "c822e634-e0cc-46af-e603-cbcaafda8f93",
        "colab": {
          "base_uri": "https://localhost:8080/"
        }
      },
      "outputs": [
        {
          "output_type": "stream",
          "name": "stdout",
          "text": [
            "Eigenvalues of Sigma_good [0.1 1.9]\n",
            "Eigenvalues of Sigma_bad [-0.249  1.649]\n"
          ]
        }
      ],
      "source": [
        "print(\"Eigenvalues of Sigma_good\", np.linalg.eigh(Sigma_good)[0])\n",
        "print(\"Eigenvalues of Sigma_bad\", np.linalg.eigh(Sigma_bad)[0])"
      ]
    },
    {
      "cell_type": "markdown",
      "metadata": {
        "id": "XY73blYyI29m"
      },
      "source": [
        "... And you see that the second one has a negative eigenvlue.\n",
        "\n",
        "Finally, let's visualize the contour of the probability densty and see with our own eyes that it does not have a unique minimum when the matrix $\\boldsymbol{\\Sigma}$ is not positive definite.\n",
        "\n",
        "First, I define the PDF:"
      ]
    },
    {
      "cell_type": "code",
      "execution_count": null,
      "metadata": {
        "id": "Kc_qDNdJI29p"
      },
      "outputs": [],
      "source": [
        "def pdf_mvn(x, mu, Sigma):\n",
        "    \"\"\"Compute the PDF of the multivariate Gaussian in a way that does not require\n",
        "    Sigma to be positive definite, so that you can see what happens.\n",
        "    \n",
        "    Just keep in mind that this is not computationally efficient (or stable),\n",
        "    but it is okay for this example.\n",
        "    \n",
        "    Arguments\n",
        "    x     -- A 1D numpy array.\n",
        "    mu    -- The mean vector.\n",
        "    Sigma -- The covariance matrix.\n",
        "    \"\"\"\n",
        "    N = Sigma.shape[0]\n",
        "    return np.exp(\n",
        "        -0.5 * N * np.log(2.0 * np.pi)\n",
        "        - 0.5 * np.linalg.det(Sigma)\n",
        "        - 0.5 * (x - mu) @ np.linalg.inv(Sigma) @ (x - mu)\n",
        "    )"
      ]
    },
    {
      "cell_type": "markdown",
      "metadata": {
        "id": "epsYSTuSI29s"
      },
      "source": [
        "You can evaluate the array PDF at a point like this:"
      ]
    },
    {
      "cell_type": "code",
      "execution_count": null,
      "metadata": {
        "id": "NCGuOANHI29u",
        "outputId": "e9020ec2-9e07-45ae-bc1d-ac41807e28b7",
        "colab": {
          "base_uri": "https://localhost:8080/"
        }
      },
      "outputs": [
        {
          "output_type": "execute_result",
          "data": {
            "text/plain": [
              "0.44444638636832184"
            ]
          },
          "metadata": {},
          "execution_count": 16
        }
      ],
      "source": [
        "pdf_mvn(np.array([0.5, 0.6]), mu, Sigma)"
      ]
    },
    {
      "cell_type": "markdown",
      "metadata": {
        "id": "4bPBgC5oI29z"
      },
      "source": [
        "To do the contour, we have to evaluate the PDF at many points.\n",
        "We can do this with a for loop.\n",
        "But we can also [vectorize](https://numpy.org/doc/stable/reference/generated/numpy.vectorize.html) our function:"
      ]
    },
    {
      "cell_type": "code",
      "execution_count": null,
      "metadata": {
        "id": "D_cdvioHI290"
      },
      "outputs": [],
      "source": [
        "vpdf_mvn = np.vectorize(\n",
        "    pdf_mvn,\n",
        "    excluded=[1, 2],\n",
        "    signature=\"(n)->()\"\n",
        ")"
      ]
    },
    {
      "cell_type": "markdown",
      "metadata": {
        "id": "lXg8Gxf_I292"
      },
      "source": [
        "In the above, `exclude` ensures that inputs 1 (`mu`) and 2 (`Sigma`) are not vectorized.\n",
        "The `signature` tells numpy that `log_pdf_mv` function accepts a 1D array and returns a scalar.\n",
        "Vectorization returns the function `vlog_pdf_mv` that acts on 2D arrays.\n",
        "Each row corresponds to a different $\\mathbf{X}$ sample.\n",
        "Here is how:"
      ]
    },
    {
      "cell_type": "code",
      "execution_count": null,
      "metadata": {
        "id": "YN07ND-6I294",
        "outputId": "cab27335-5201-497b-a106-b97bfea5c97e",
        "colab": {
          "base_uri": "https://localhost:8080/"
        }
      },
      "outputs": [
        {
          "output_type": "execute_result",
          "data": {
            "text/plain": [
              "array([4.444e-01, 2.154e-01, 2.407e+05])"
            ]
          },
          "metadata": {},
          "execution_count": 18
        }
      ],
      "source": [
        "vpdf_mvn(\n",
        "    np.array(\n",
        "        [\n",
        "            [0.5, 0.6],\n",
        "            [-0.1, 0.3],\n",
        "            [1.5, -1.5]\n",
        "        ]\n",
        "    ),\n",
        "    mu,\n",
        "    Sigma\n",
        ")"
      ]
    },
    {
      "cell_type": "markdown",
      "metadata": {
        "id": "cCoHQ0JyI296"
      },
      "source": [
        "And now I can do the contour:"
      ]
    },
    {
      "cell_type": "code",
      "execution_count": null,
      "metadata": {
        "tags": [
          "hide-input"
        ],
        "id": "GMgMwPOyI297",
        "outputId": "64cfcce5-2b0f-49a1-e596-5717d55781f5",
        "colab": {
          "base_uri": "https://localhost:8080/",
          "height": 518
        }
      },
      "outputs": [
        {
          "output_type": "display_data",
          "data": {
            "text/plain": [
              "<Figure size 576x576 with 3 Axes>"
            ],
            "image/png": "[encoded data removed]"
          },
          "metadata": {
            "needs_background": "light"
          }
        }
      ],
      "source": [
        "x1 = np.linspace(-5, 5, 64)\n",
        "x2 = np.linspace(-5, 5, 64)\n",
        "X1, X2 = np.meshgrid(x1, x2)\n",
        "X_flat = np.hstack(\n",
        "    [\n",
        "        X1.flatten()[:, None],\n",
        "        X2.flatten()[:, None]\n",
        "    ]\n",
        ")\n",
        "\n",
        "Z_bad = vpdf_mvn(\n",
        "    X_flat,\n",
        "    mu,\n",
        "    Sigma_bad\n",
        ").reshape(X1.shape)\n",
        "\n",
        "Z_good = vpdf_mvn(\n",
        "    X_flat,\n",
        "    mu,\n",
        "    Sigma_good\n",
        ").reshape(X1.shape)\n",
        "\n",
        "fig, ax = plt.subplots(\n",
        "    nrows=2,\n",
        "    ncols=1,\n",
        "    figsize=(8, 8)\n",
        ")\n",
        "c = ax[0].contourf(\n",
        "    X1,\n",
        "    X2,\n",
        "    Z_bad,\n",
        "    levels=30\n",
        ")\n",
        "ax[0].set_title(\"Bad \\\"covariance\\\"\")\n",
        "c = ax[1].contourf(\n",
        "    X1,\n",
        "    X2,\n",
        "    Z_good,\n",
        "    levels=30\n",
        ")\n",
        "ax[1].set_title(\"Good covariance\")\n",
        "ax[1].set_xlabel('$x_1$')\n",
        "ax[1].set_ylabel('$x_2$')\n",
        "fig.colorbar(\n",
        "    c,\n",
        "    ax=ax.ravel().tolist(),\n",
        "    label=r\"$p(x)$\"\n",
        ");"
      ]
    },
    {
      "cell_type": "markdown",
      "metadata": {
        "id": "isRbEpqBI299"
      },
      "source": [
        "Notice that $\\boldsymbol{\\mu}$ is not a maximum of $\\log p(\\mathbf{x})$ but a saddle point. "
      ]
    },
    {
      "cell_type": "markdown",
      "metadata": {
        "id": "0cmeK-GWI29-"
      },
      "source": [
        "## Questions\n",
        "\n",
        "+ Rerun the code above for $\\Sigma_{12} = \\Sigma_{21} = -0.9$ (both for the \"good\" and the \"bad\" covariance)."
      ]
    },
    {
      "cell_type": "markdown",
      "metadata": {
        "id": "moqc9IotI29_"
      },
      "source": [
        "## Sampling the multivariate normal with diagonal covariance using the standard normal\n",
        "\n",
        "In the lecture we showed that if $\\mathbf{Z}$ is an $N$-dimensional standard normal:\n",
        "\n",
        "$$\n",
        "\\mathbf{Z} \\sim N(0,\\mathbf{I}),\n",
        "$$\n",
        "\n",
        "where $\\mathbf{I}$ is the $N\\times N$ unit matrix (all zeros except the diagonal which is all ones), then the random vector:\n",
        "\n",
        "$$\n",
        "\\mathbf{X} = \\boldsymbol{\\mu} + \\mathbf{A}\\mathbf{Z},\n",
        "$$\n",
        "\n",
        "is a multivariate normal:\n",
        "\n",
        "$$\n",
        "\\mathbf{X} \\sim N\\left(\\boldsymbol{\\mu}, \\boldsymbol{\\Sigma})\\right),\n",
        "$$\n",
        "\n",
        "with\n",
        "\n",
        "$$\n",
        "\\boldsymbol{\\Sigma} = \\mathbf{A}\\mathbf{A}^T.\n",
        "$$\n",
        "\n",
        "Such a matrix $\\mathbf{A}$ is non-unique and is is called a \"square root\" of $\\boldsymbol{\\Sigma}$.\n",
        "The most commonnly used square root of $\\boldsymbol{\\Sigma}$, however, is the [Cholesky](https://www.youtube.com/watch?v=TprfUB3nI8Y) (and pronounced KOLESKI not TSOLESKI or SHOLESKI  -- at least by the people who taught me linear algebra!)\n",
        "In the Cholesky decomposition $\\mathbf{A}$ is a lower triangular matrix (everything above the diagonal is zero) and the diagonal contains only positive numbers.\n",
        "Let's find the Cholesky decomposition of a positive definite $\\boldsymbol{\\Sigma}$:"
      ]
    },
    {
      "cell_type": "code",
      "execution_count": null,
      "metadata": {
        "id": "Qq1syz9hI2-B",
        "outputId": "5bfedcc7-74af-42d3-94cb-745f786a4159",
        "colab": {
          "base_uri": "https://localhost:8080/"
        }
      },
      "outputs": [
        {
          "output_type": "stream",
          "name": "stdout",
          "text": [
            "A =\n",
            "[[1.    0.   ]\n",
            " [0.9   0.436]]\n"
          ]
        }
      ],
      "source": [
        "# A covariane matrix that we know works\n",
        "Sigma = np.array(\n",
        "    [\n",
        "        [1.0, 0.9],\n",
        "        [0.9, 1.0]\n",
        "    ]\n",
        ")\n",
        "A = np.linalg.cholesky(Sigma)\n",
        "print(\"A =\")\n",
        "print(A)"
      ]
    },
    {
      "cell_type": "code",
      "execution_count": null,
      "metadata": {
        "id": "B4EnUNo8I2-D"
      },
      "outputs": [],
      "source": [
        "# As a sanity check let's see if A * A.T gives us Sigma\n",
        "print(\"A * A.T = \")\n",
        "print(A @ A.T)\n",
        "print(\"\\nCompare to Sigma =\")\n",
        "print(Sigma)"
      ]
    },
    {
      "cell_type": "markdown",
      "metadata": {
        "id": "MaNIMd5vI2-F"
      },
      "source": [
        "Let's now verify that if we sample $\\mathbf{Z}$ from $N(\\mathbf{0},\\mathbf{I})$ and evaluate $\\mathbf{X} = \\boldsymbol{\\mu} + \\mathbf{A}\\mathbf{Z}$, then $\\mathbf{X}$ will be distributed according to $N(\\boldsymbol{\\mu},\\boldsymbol{\\Sigma})$."
      ]
    },
    {
      "cell_type": "markdown",
      "metadata": {
        "id": "hrFs4qFKI2-G"
      },
      "source": [
        "Let's write some code to take a single sample and then we will vectorize it."
      ]
    },
    {
      "cell_type": "code",
      "execution_count": null,
      "metadata": {
        "id": "uZt7i6dGI2-H"
      },
      "outputs": [],
      "source": [
        "def sample_mvn(mu, A):\n",
        "    \"\"\"Samples from a multivariate normal.\n",
        "    \n",
        "    Arguments\n",
        "    mu -- The mean vector.\n",
        "    A  -- The Cholesky decomposition of the covariance matrix.\n",
        "    \"\"\"\n",
        "    z = np.random.randn(mu.shape[0])\n",
        "    return mu + A @ z"
      ]
    },
    {
      "cell_type": "markdown",
      "metadata": {
        "id": "fCBjaJySI2-J"
      },
      "source": [
        "Here is how it works:"
      ]
    },
    {
      "cell_type": "code",
      "execution_count": null,
      "metadata": {
        "id": "widCZUhEI2-K",
        "outputId": "cb582c17-757f-4afe-991e-5f05eb3d46ae",
        "colab": {
          "base_uri": "https://localhost:8080/"
        }
      },
      "outputs": [
        {
          "output_type": "stream",
          "name": "stdout",
          "text": [
            "sample 0 = [0.323 1.631]\n",
            "sample 1 = [0.341 1.732]\n",
            "sample 2 = [-1.29  -0.657]\n",
            "sample 3 = [-1.169 -0.366]\n",
            "sample 4 = [-0.573  0.549]\n",
            "sample 5 = [-1.166 -0.263]\n",
            "sample 6 = [-0.551  1.449]\n",
            "sample 7 = [-0.592  0.808]\n",
            "sample 8 = [0.439 1.773]\n",
            "sample 9 = [-0.216  1.094]\n"
          ]
        }
      ],
      "source": [
        "for i in range(10):\n",
        "    print(f\"sample {i} = {sample_mvn(mu, A)}\")"
      ]
    },
    {
      "cell_type": "markdown",
      "metadata": {
        "id": "S9e_KQ7wI2-L"
      },
      "source": [
        "Let's make a function that will help us take many samples at once:"
      ]
    },
    {
      "cell_type": "code",
      "execution_count": null,
      "metadata": {
        "id": "UXQ1PEqiI2-M"
      },
      "outputs": [],
      "source": [
        "def sample_many_mvn(size, mu, A):\n",
        "    \"\"\"Sample many times from a multivariate Normal.\n",
        "    \n",
        "    Arguments\n",
        "    size -- The number of samples.\n",
        "    mu   -- The mean vector.\n",
        "    A    -- The Cholesky decomposition of the covariance matrix.\n",
        "    \"\"\"\n",
        "    return np.array(\n",
        "        [\n",
        "            sample_mvn(mu, A)\n",
        "            for _ in range(size)\n",
        "        ]\n",
        "    )"
      ]
    },
    {
      "cell_type": "markdown",
      "metadata": {
        "id": "32lyYGZII2-N"
      },
      "source": [
        "And it works like this:"
      ]
    },
    {
      "cell_type": "code",
      "execution_count": null,
      "metadata": {
        "id": "zcqei-CMI2-O",
        "outputId": "1af1e597-261f-41bf-92c4-e7e347c7b2b0",
        "colab": {
          "base_uri": "https://localhost:8080/"
        }
      },
      "outputs": [
        {
          "output_type": "execute_result",
          "data": {
            "text/plain": [
              "array([[-0.488,  0.355],\n",
              "       [-0.164,  0.212],\n",
              "       [ 0.487,  1.672],\n",
              "       [ 1.106,  2.218],\n",
              "       [ 0.718,  0.996],\n",
              "       [-0.089,  1.322],\n",
              "       [-1.145,  0.216],\n",
              "       [-0.229,  0.189],\n",
              "       [-0.02 ,  1.197],\n",
              "       [-1.144,  0.835]])"
            ]
          },
          "metadata": {},
          "execution_count": 24
        }
      ],
      "source": [
        "sample_many_mvn(10, mu, A)"
      ]
    },
    {
      "cell_type": "markdown",
      "metadata": {
        "id": "uN8og8ZBI2-P"
      },
      "source": [
        "Let's plot some samples along with the contour of the PDF:"
      ]
    },
    {
      "cell_type": "code",
      "execution_count": null,
      "metadata": {
        "id": "J6hDH9AWI2-Q",
        "outputId": "16cf9195-dc96-4d28-e757-81342c24b172",
        "colab": {
          "base_uri": "https://localhost:8080/",
          "height": 285
        }
      },
      "outputs": [
        {
          "output_type": "display_data",
          "data": {
            "text/plain": [
              "<Figure size 432x288 with 1 Axes>"
            ],
            "image/png": "[encoded data removed]"
          },
          "metadata": {
            "needs_background": "light"
          }
        }
      ],
      "source": [
        "mu = np.array([1.0, 2.0])\n",
        "\n",
        "Sigma = np.array(\n",
        "    [\n",
        "        [1.0, 0.1],\n",
        "        [0.1, 1.0]\n",
        "    ]\n",
        ")\n",
        "A = np.linalg.cholesky(Sigma)\n",
        "num_samples = 500\n",
        "x_samples = sample_many_mvn(num_samples, mu, A)\n",
        "\n",
        "x1 = np.linspace(-3, 5, 64)\n",
        "x2 = np.linspace(-3, 5, 64)\n",
        "X1, X2 = np.meshgrid(x1, x2)\n",
        "X_flat = np.hstack(\n",
        "    [\n",
        "        X1.flatten()[:, None],\n",
        "        X2.flatten()[:, None]\n",
        "    ]\n",
        ")\n",
        "Z = vpdf_mvn(\n",
        "        X_flat,\n",
        "        mu,\n",
        "        Sigma\n",
        ").reshape(X1.shape)\n",
        "\n",
        "fig, ax = plt.subplots()\n",
        "c = ax.contour(X1, X2, Z)\n",
        "ax.plot(\n",
        "    x_samples[:, 0],\n",
        "    x_samples[:, 1],\n",
        "    '.',\n",
        "    markersize=2\n",
        ")\n",
        "ax.set_xlabel('$x_1$')\n",
        "ax.set_ylabel('$x_2$');"
      ]
    },
    {
      "cell_type": "markdown",
      "metadata": {
        "id": "HXNcD16EI2-U"
      },
      "source": [
        "Now, in practice you do not have to use the code above to sample from a multivariate normal.\n",
        "Everything is already implemeneted in `scipy.stats`.\n",
        "Here is what you can do:"
      ]
    },
    {
      "cell_type": "code",
      "execution_count": null,
      "metadata": {
        "id": "o3kxv-tzI2-V",
        "outputId": "012c0ca2-167b-4070-b015-3019d05b2e6e",
        "colab": {
          "base_uri": "https://localhost:8080/",
          "height": 285
        }
      },
      "outputs": [
        {
          "output_type": "display_data",
          "data": {
            "text/plain": [
              "<Figure size 432x288 with 1 Axes>"
            ],
            "image/png": "[encoded data removed]"
          },
          "metadata": {
            "needs_background": "light"
          }
        }
      ],
      "source": [
        "import scipy.stats as st\n",
        "\n",
        "# A multivariate normal object\n",
        "X = st.multivariate_normal(mu, Sigma)\n",
        "\n",
        "# Evaluate the pdf\n",
        "Z = X.pdf(X_flat).reshape(X1.shape)\n",
        "\n",
        "# Take samples\n",
        "x_samples = X.rvs(num_samples)\n",
        "\n",
        "fig, ax = plt.subplots()\n",
        "c = ax.contour(X1, X2, Z)\n",
        "ax.plot(\n",
        "    x_samples[:, 0],\n",
        "    x_samples[:, 1],\n",
        "    '.',\n",
        "    markersize=2\n",
        ")\n",
        "ax.set_xlabel('$x_1$')\n",
        "ax.set_ylabel('$x_2$');"
      ]
    },
    {
      "cell_type": "markdown",
      "metadata": {
        "id": "lA7vQhD_I2-X"
      },
      "source": [
        "## Questions\n",
        "\n",
        "+ Rerun the steps above after moving $\\boldsymbol{\\mu}$ to $(0, 1)$. Observe how the contours of the PDF move.\n",
        "+ Rerun the steps above for $\\Sigma_{12} = \\Sigma_{21} = 0.1$. Observe how the contours of the PDF change.\n",
        "+ Rerun the steps above for $\\Sigma_{12} = \\Sigma_{21} = -0.9$. Observe how the contours of the PDF change."
      ]
    },
    {
      "cell_type": "code",
      "execution_count": null,
      "metadata": {
        "id": "EXD1tx34I2-Y"
      },
      "outputs": [],
      "source": [
        ""
      ]
    }
  ],
  "metadata": {
    "celltoolbar": "Tags",
    "kernelspec": {
      "display_name": "Python 3 (ipykernel)",
      "language": "python",
      "name": "python3"
    },
    "language_info": {
      "codemirror_mode": {
        "name": "ipython",
        "version": 3
      },
      "file_extension": ".py",
      "mimetype": "text/x-python",
      "name": "python",
      "nbconvert_exporter": "python",
      "pygments_lexer": "ipython3",
      "version": "3.9.12"
    },
    "colab": {
      "name": "Copy of hands-on-06.2.ipynb",
      "provenance": [],
      "include_colab_link": true
    }
  },
  "nbformat": 4,
  "nbformat_minor": 0
}