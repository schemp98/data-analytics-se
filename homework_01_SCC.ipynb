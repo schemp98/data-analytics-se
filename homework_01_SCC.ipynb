{
  "cells": [
    {
      "cell_type": "markdown",
      "metadata": {
        "id": "view-in-github",
        "colab_type": "text"
      },
      "source": [
        "<a href=\"https://colab.research.google.com/github/schemp98/data-analytics-se/blob/master/homework_01_SCC.ipynb\" target=\"_parent\"><img src=\"https://colab.research.google.com/assets/colab-badge.svg\" alt=\"Open In Colab\"/></a>"
      ]
    },
    {
      "cell_type": "markdown",
      "metadata": {
        "id": "B6rHE8Grq9rp"
      },
      "source": [
        "# Homework 1\n",
        "\n",
        "## References\n",
        "\n",
        "+ Lectures 1-3 (inclusive).\n",
        "\n",
        "## Instructions\n",
        "\n",
        "+ Type your name and email in the \"Student details\" section below.\n",
        "+ Develop the code and generate the figures you need to solve the problems using this notebook.\n",
        "+ For the answers that require a mathematical proof or derivation you should type them using latex. If you have never written latex before and you find it exceedingly difficult, we will likely accept handwritten solutions.\n",
        "+ The total homework points are 100. Please note that the problems are not weighed equally."
      ]
    },
    {
      "cell_type": "code",
      "execution_count": null,
      "metadata": {
        "tags": [
          "hide-input"
        ],
        "id": "0Z6hD4ekq9rw"
      },
      "outputs": [],
      "source": [
        "import numpy as np\n",
        "import matplotlib.pyplot as plt\n",
        "%matplotlib inline\n",
        "import seaborn as sns\n",
        "sns.set(rc={\"figure.dpi\":100, \"savefig.dpi\":300})\n",
        "sns.set_context(\"notebook\")\n",
        "sns.set_style(\"ticks\")"
      ]
    },
    {
      "cell_type": "markdown",
      "metadata": {
        "id": "MenpSGRHq9r4"
      },
      "source": [
        "## Student details\n",
        "\n",
        "+ **First Name:** Shaun\n",
        "+ **Last Name:** Chemplavil\n",
        "+ **Email:** schempla@purdue.edu"
      ]
    },
    {
      "cell_type": "markdown",
      "metadata": {
        "id": "6MXQ6TGJq9r7"
      },
      "source": [
        "## Problem 1\n",
        "\n",
        "Disclaimer: This example is a modified version of the one found in a 2013 lecture on Bayesian Scientific Computing taught by Prof. Nicholas Zabaras.\n",
        "I am not sure where the original problem is coming from.\n",
        "\n",
        "We are tasked with assessing the usefulness of a tuberculosis test.\n",
        "The prior information I is:\n",
        "\n",
        "> The percentage of the population infected by tuberculosis is 0.4\\%.\n",
        "We have run several experiments and determined that:\n",
        "+ If a tested patient has the disease, then 80\\% of the time the test comes out positive.\n",
        "+ If a tested patient does not have the disease, then 90\\% of the time the test comes out negative.\n",
        "\n",
        "To facilitate your analysis, consider the following logical sentences concerning a patient:\n",
        "\n",
        "> A: The patient is tested and the test is positive.\n",
        "\n",
        "> B: The patient has tuberculosis.\n",
        "\n",
        "A. Find the probability that the patient has tuberculosis (before looking at the result of the test), i.e., $p(B|I)$. This is known as the base rate or the prior probability.<br>\n",
        "**Answer:**\n",
        "<br>\n",
        "$p(B|I) = 0.004$\n",
        "<br><br><br><br><br><br><br><br>"
      ]
    },
    {
      "cell_type": "markdown",
      "metadata": {
        "id": "51_zgbgVq9r-"
      },
      "source": [
        "B. Find the probability that the test is positive given that the patient has tuberculosis, i.e., $p(A|B,I)$.<br>\n",
        "**Answer:**\n",
        "<br>\n",
        "$p(A|B,I) = 0.80$ \n",
        "<br><br><br><br><br><br><br><br>"
      ]
    },
    {
      "cell_type": "markdown",
      "metadata": {
        "id": "wdvEJ9CSq9sB"
      },
      "source": [
        "C. Find the probability that the test is positive given that the patient does not have tuberculosis, i.e., $p(A|\\neg B, I)$.<br>\n",
        "**Answer:**\n",
        "<br>\n",
        "$p(A|\\neg B, I) = 0.10$ \n",
        "<br><br><br><br><br><br><br><br>"
      ]
    },
    {
      "cell_type": "markdown",
      "metadata": {
        "id": "QzcR7Lq_q9sD"
      },
      "source": [
        "D. Find the probability that a patient that tested positive has tuberculosis, i.e., $p(B|A,I)$.<br>\n",
        "**Answer:**\n",
        "<br>\n",
        "Using Bayes Rule:\n",
        "$$p(B|A,I) = \\frac{p(A|B)p(B)}{p(A)}$$\n",
        "\n",
        "Using the obvious rule:\n",
        "$$p(A) = p(A|B)p(B) + p(A|\\neg B)p(\\neg B)$$\n",
        "$$p(A) = 0.80*0.004 + 0.10*(1-0.004)=0.1028$$\n",
        "Plugging all known values yields:\n",
        "$$p(B|A,I) = \\frac{p(A|B)p(B)}{p(A)}=\\frac{(0.80)(0.004)}{0.1028}=0.0311$$\n",
        "<br><br><br><br><br><br><br><br>"
      ]
    },
    {
      "cell_type": "markdown",
      "metadata": {
        "id": "UOFpVfzxq9sG"
      },
      "source": [
        "E. Find the probability that a patient that tested negative has tuberculosis, i.e., $p(B|\\neg A, I)$. Does the test change our prior state of knowledge about about the patient? Is the test useful?<br>\n",
        "**Answer:**\n",
        "\n",
        "<br>\n",
        "Using Bayes Rule:\n",
        "$$p(B|\\neg A,I) = \\frac{p(\\neg A|B)p(B)}{p(\\neg A)}$$\n",
        "\n",
        "Using the obvious rule:\n",
        "$$p(\\neg A) = 1-p(A) = 1-0.1028=0.8972 $$\n",
        "and\n",
        "$$p(\\neg A|B)=1-p(\\neg A|B)=0.2$$\n",
        "Plugging all known values yields:\n",
        "$$p(B|\\neg A,I) = \\frac{p(\\neg A|B)p(B)}{p(\\neg A)}=\\frac{(0.20)(0.004)}{0.8972}=0.00089$$\n",
        "<br>\n",
        "No, it does not change our prior state\n",
        "<br>\n",
        "The test is not very useful since only 3% of people that test positive will actually have tuberculosis\n",
        "<br><br><br><br><br><br><br><br>"
      ]
    },
    {
      "cell_type": "markdown",
      "metadata": {
        "id": "aXFQ_5tuq9sM"
      },
      "source": [
        "F. What would a good test look like? Find values for \n",
        "\n",
        "$$\n",
        "p(A|B,I)= p(\\text{test is positive} |\\text{has tuberculosis},I),\n",
        "$$\n",
        "\n",
        "and\n",
        "\n",
        "$$\n",
        "p(A| \\neg B, I) = p(\\text{test is positive}|\\text{does not have tuberculosis}, I),\n",
        "$$\n",
        "\n",
        "so that\n",
        "\n",
        "$$\n",
        "p(B|A, I) = p(\\text{has tuberculosis}|\\text{test is positive}, I) = 0.99.\n",
        "$$\n",
        "\n",
        "There are more than one solutions. How would you pick a good one? Thinking in this way can help you set goals if you work in R\\&D. If you have time, try to figure out whether or not there exists such an accurate test for tuberculosis<br>\n",
        "**Answer:**\n",
        "<br>\n",
        "Using Bayes Rule:\n",
        "$$p(B|A,I) = \\frac{p(A|B)p(B)}{p(A)}$$\n",
        "\n",
        "Using the obvious rule:\n",
        "$$p(A) = p(A|B)p(B) + p(A|\\neg B)p(\\neg B)$$\n",
        "\n",
        "So we can rewrite this as:\n",
        "$$p(B|A,I) = \\frac{p(A|B)p(B)}{p(A|B)p(B) + p(A|\\neg B)p(\\neg B)}$$\n",
        "<br>\n",
        "$$p(B|A,I) = \\frac{1}{1 + \\frac{p(A|\\neg B)p(\\neg B)}{p(A|B)p(B)}}$$\n",
        "Setting this equal to $0.99$\n",
        "$$0.99 = \\frac{1}{1 + \\frac{p(A|\\neg B)p(\\neg B)}{p(A|B)p(B)}}$$\n",
        "<br>\n",
        "We can rearrange to get\n",
        "$$0.99+ 0.99*\\frac{p(A|\\neg B)p(\\neg B)}{p(A|B)p(B)}= 1$$\n",
        "<br>\n",
        "$$0.99*\\frac{p(A|\\neg B)p(\\neg B)}{p(A|B)p(B)}= 0.01$$\n",
        "\n",
        "Plug in the valuse for $p(B)$ and $p(\\neg B)$:\n",
        "$$0.99*\\frac{p(A|\\neg B)0.996}{p(A|B)0.004}= 0.01$$\n",
        "$$246.51*\\frac{p(A|\\neg B)}{p(A|B)}= 0.01$$\n",
        "Rearrange this:\n",
        "$$24651*p(A|\\neg B)=p(A|B)\\leq 1$$\n",
        "To maintain this relation we can set\n",
        "$$p(A|B)=1$$\n",
        "and\n",
        "$$p(A|\\neg B)=\\frac{1}{24651}≈0.00004$$\n",
        "<br><br><br><br><br><br><br><br>"
      ]
    },
    {
      "cell_type": "markdown",
      "metadata": {
        "id": "Jrih6UF3q9sR"
      },
      "source": [
        "## Problem 2 - Practice with discrete random variables\n",
        "\n",
        "Consider the Categorical random variable:\n",
        "\n",
        "$$\n",
        "X \\sim \\operatorname{Categorical}(0.3, 0.1, 0.2, 0.4),\n",
        "$$\n",
        "\n",
        "taking values in $\\{0,1,2,3\\}$. Find the following (you may use ``scipy.stats.rv_discrete`` or do it by hand):"
      ]
    },
    {
      "cell_type": "markdown",
      "metadata": {
        "id": "kWwiEXUAq9sV"
      },
      "source": [
        "A. The expectation $\\mathbb{E}[X]$.\n",
        "\n",
        "**Answer:**\n",
        "<br><br>"
      ]
    },
    {
      "cell_type": "code",
      "execution_count": 6,
      "metadata": {
        "id": "_WpnIq3Sq9sg",
        "colab": {
          "base_uri": "https://localhost:8080/"
        },
        "outputId": "58eb4a36-c4ea-4f81-f6f9-89096cd74eaa"
      },
      "outputs": [
        {
          "output_type": "stream",
          "name": "stdout",
          "text": [
            "E[X] = 1.70\n"
          ]
        }
      ],
      "source": [
        "import numpy as np\n",
        "\n",
        "import matplotlib.pyplot as plt\n",
        "%matplotlib inline\n",
        "import seaborn as sns\n",
        "sns.set(rc={\"figure.dpi\":100, \"savefig.dpi\":300})\n",
        "sns.set_context(\"notebook\")\n",
        "sns.set_style(\"ticks\")\n",
        "# Import the scipy.stats library\n",
        "import scipy.stats as st\n",
        "\n",
        "# Define the probabilities:\n",
        "ps = [0.3, 0.1, 0.2, 0.4] \n",
        "# Define the corresponding values\n",
        "xs = np.array([0, 1, 2, 3])\n",
        "# Define the categorical rv:\n",
        "X = st.rv_discrete(name=\"Custom Categorical\", values=(xs, ps))\n",
        "\n",
        "print(f\"E[X] = {X.expect():1.2f}\")"
      ]
    },
    {
      "cell_type": "markdown",
      "metadata": {
        "id": "GjbiExYjq9sk"
      },
      "source": [
        "B. The variance $\\mathbb{V}[X]$.\n",
        "\n",
        "**Answer:**\n",
        "<br><br>"
      ]
    },
    {
      "cell_type": "code",
      "execution_count": 7,
      "metadata": {
        "id": "1XDvkvWYq9sl",
        "colab": {
          "base_uri": "https://localhost:8080/"
        },
        "outputId": "4fc29fc2-38ea-4075-d132-00e2ba82ee13"
      },
      "outputs": [
        {
          "output_type": "stream",
          "name": "stdout",
          "text": [
            "V[X] = 1.61\n"
          ]
        }
      ],
      "source": [
        "print(f\"V[X] = {X.var():1.2f}\")"
      ]
    },
    {
      "cell_type": "markdown",
      "metadata": {
        "id": "RnD_HwGhq9sn"
      },
      "source": [
        "C. Plot the probability mass function of $X$."
      ]
    },
    {
      "cell_type": "code",
      "execution_count": 8,
      "metadata": {
        "id": "-l0r9yZFq9sp",
        "colab": {
          "base_uri": "https://localhost:8080/",
          "height": 390
        },
        "outputId": "7c802e19-b672-4a81-f2e2-34bd9d1d6b07"
      },
      "outputs": [
        {
          "output_type": "display_data",
          "data": {
            "text/plain": [
              "<Figure size 600x400 with 1 Axes>"
            ],
            "image/png": "[encoded data removed]"
          },
          "metadata": {}
        }
      ],
      "source": [
        "fig, ax = plt.subplots()\n",
        "ax.bar(xs, X.pmf(xs))\n",
        "ax.set_xlabel(\"$x$\")\n",
        "ax.set_ylabel(\"$p(x)$\");"
      ]
    },
    {
      "cell_type": "markdown",
      "metadata": {
        "id": "8J82m2JVq9sr"
      },
      "source": [
        "D. Find the probability that $X$ is in $\\{0, 2\\}$.\n",
        "\n",
        "**Answer:**\n",
        "<br><br>"
      ]
    },
    {
      "cell_type": "code",
      "execution_count": 9,
      "metadata": {
        "id": "esDr0qigq9ss",
        "colab": {
          "base_uri": "https://localhost:8080/"
        },
        "outputId": "09f85371-d95c-4e63-ec8f-80946834cfca"
      },
      "outputs": [
        {
          "output_type": "stream",
          "name": "stdout",
          "text": [
            "p[0<=X<=2] = 0.60\n"
          ]
        }
      ],
      "source": [
        "print(f\"p[0<=X<=2] = {1-X.pmf(3):1.2f}\")"
      ]
    },
    {
      "cell_type": "markdown",
      "metadata": {
        "id": "lXTxy5mmq9st"
      },
      "source": [
        "E. Find $\\mathbb{E}[4X + 3]$.\n",
        "\n",
        "**Answer:**\n",
        "<br><br>"
      ]
    },
    {
      "cell_type": "code",
      "execution_count": null,
      "metadata": {
        "id": "3jAR8Apcq9sv"
      },
      "outputs": [],
      "source": [
        "# You can also answer with code here:"
      ]
    },
    {
      "cell_type": "markdown",
      "metadata": {
        "id": "9eFCeO-Rq9sw"
      },
      "source": [
        "F. Find $\\mathbb{V}[4X+3]$.\n",
        "\n",
        "**Answer:**\n",
        "<br><br>"
      ]
    },
    {
      "cell_type": "code",
      "execution_count": null,
      "metadata": {
        "id": "xEZ9gGBiq9sx"
      },
      "outputs": [],
      "source": [
        "# You can also answer with code here:"
      ]
    },
    {
      "cell_type": "markdown",
      "metadata": {
        "id": "J8ZxhnFvq9sx"
      },
      "source": [
        "## Problem 3 - Predicting the probability of major earthquakes in Southern California\n",
        "\n",
        "The [San Andreas fault](https://en.wikipedia.org/wiki/San_Andreas_Fault) extends through California forming the boundary between the Pacific and the North American tectonic plates.\n",
        "It has caused some of the major earthquakes on Earth.\n",
        "We are going to focus on Southern California and we would like to assess the probability of a major earthquake, defined as an earthquake of magnitude 6.5 or greater, during the next ten years.\n",
        "\n",
        "A. The first thing we are going to do is go over a [database of past earthquakes](https://scedc.caltech.edu/significant/chron-index.html) that have occured in Southern California and collect the relevant data. We are going to start at 1900 because data before that time may are unreliable.\n",
        "Go over each decade and count the occurence of a major earthquake (i.e., count the number of organge and red colors in each decade). We have done this for you."
      ]
    },
    {
      "cell_type": "code",
      "execution_count": null,
      "metadata": {
        "id": "bYwR6TBFq9sz"
      },
      "outputs": [],
      "source": [
        "eq_data = np.array([\n",
        "    0, # 1900-1909\n",
        "    1, # 1910-1919\n",
        "    2, # 1920-1929\n",
        "    0, # 1930-1939\n",
        "    3, # 1940-1949\n",
        "    2, # 1950-1959\n",
        "    1, # 1960-1969\n",
        "    2, # 1970-1979\n",
        "    1, # 1980-1989\n",
        "    4, # 1990-1999\n",
        "    0, # 2000-2009\n",
        "    2 # 2010-2019 \n",
        "])\n",
        "fig, ax = plt.subplots(dpi=150)\n",
        "ax.bar(np.linspace(1900, 2019, eq_data.shape[0]), eq_data, width=10)\n",
        "ax.set_xlabel('Decade')\n",
        "ax.set_ylabel('# of major earthquakes in Southern CA');"
      ]
    },
    {
      "cell_type": "markdown",
      "metadata": {
        "id": "9lIOHEykq9s0"
      },
      "source": [
        "B. The [Poisson distribution](https://en.wikipedia.org/wiki/Poisson_distribution) is a discrete distribution with values $\\{0,1,2,\\dots\\}$ which is commonly used to model the number of events occuring in a certain time period.\n",
        "It is the right choice when these events are happening independently and the probability of any event happening over a small period of time is constant.\n",
        "Let's use the Poisson to model the number of earthquakes $X$ occuring in a decade.\n",
        "We write:\n",
        "\n",
        "$$\n",
        "X \\sim \\operatorname{Poisson}(r),\n",
        "$$\n",
        "\n",
        "where $r$ is the *rate parameter* of Poisson.\n",
        "The rate is the number of events per time period.\n",
        "Here, $r$ is the number of earthquakes per decade.\n",
        "Using the data above, we can set the rate as the empirical average of the observed number of earthquakes per decade:"
      ]
    },
    {
      "cell_type": "code",
      "execution_count": null,
      "metadata": {
        "id": "pKU9flOVq9s3"
      },
      "outputs": [],
      "source": [
        "r = np.mean(eq_data)\n",
        "print('r = {0:1.2f} major earthquakes per decade'.format(r))"
      ]
    },
    {
      "cell_type": "markdown",
      "metadata": {
        "id": "EVa7XbXWq9s5"
      },
      "source": [
        "Strictly speaking, **this is not how you should be calibrating models!!!**\n",
        "We will learn about the **right** way (which uses Bayes' rule) in the subsequent lectures.\n",
        "But it will do for now as the answer you would get using the **right** way is, for this problem, almost the same.\n",
        "Let's define a Poisson distribution using ``scipy.stats.poisson`` (see documentation [here](https://docs.scipy.org/doc/scipy/reference/generated/scipy.stats.poisson.html)):"
      ]
    },
    {
      "cell_type": "code",
      "execution_count": null,
      "metadata": {
        "id": "EEmjAVgKq9s6"
      },
      "outputs": [],
      "source": [
        "X = st.poisson(r)"
      ]
    },
    {
      "cell_type": "markdown",
      "metadata": {
        "id": "RH1QEozPq9s7"
      },
      "source": [
        "A. Plot the probability mass function of ``X``."
      ]
    },
    {
      "cell_type": "code",
      "execution_count": null,
      "metadata": {
        "id": "iepWsFgZq9s7"
      },
      "outputs": [],
      "source": [
        "# Your code here"
      ]
    },
    {
      "cell_type": "markdown",
      "metadata": {
        "id": "Rb4lCr_Uq9s9"
      },
      "source": [
        "B. What is the probability that at least one major earthquake will occur during the next decade?<br>\n",
        "**Answer:**\n",
        "<br><br><br><br><br><br><br><br>"
      ]
    },
    {
      "cell_type": "code",
      "execution_count": null,
      "metadata": {
        "id": "vpzldNarq9s-"
      },
      "outputs": [],
      "source": [
        "# You can also answer with code here:"
      ]
    },
    {
      "cell_type": "markdown",
      "metadata": {
        "id": "ggVSxYyhq9s_"
      },
      "source": [
        "C. What is the probability that at least one major earthquake will occur during the next two decades?\n",
        "Hint: Consider two independent and identical copies of $X$, say $X_1$ and $X_2$.\n",
        "And consider their sum $Y = X_1 + X_2$. Read [this](https://en.wikipedia.org/wiki/Poisson_distribution#Sums_of_Poisson-distributed_random_variables) about the sum of two independent Poisson distributions.\n",
        "<br>\n",
        "**Answer:**\n",
        "<br><br><br><br><br><br><br><br>"
      ]
    },
    {
      "cell_type": "code",
      "execution_count": null,
      "metadata": {
        "id": "-EyNTbn2q9tB"
      },
      "outputs": [],
      "source": [
        "# You can also answer with code here:"
      ]
    },
    {
      "cell_type": "markdown",
      "metadata": {
        "id": "K17jNeFgq9tC"
      },
      "source": [
        "D. What is the probability that at least one major earthquake will occur during the next five decades?<br>\n",
        "**Answer:**\n",
        "<br><br><br><br><br><br><br><br>"
      ]
    },
    {
      "cell_type": "code",
      "execution_count": null,
      "metadata": {
        "id": "I9arLYTfq9tD"
      },
      "outputs": [],
      "source": [
        "# You can also answer with code here:"
      ]
    }
  ],
  "metadata": {
    "celltoolbar": "Tags",
    "kernelspec": {
      "display_name": "Python 3 (ipykernel)",
      "language": "python",
      "name": "python3"
    },
    "language_info": {
      "codemirror_mode": {
        "name": "ipython",
        "version": 3
      },
      "file_extension": ".py",
      "mimetype": "text/x-python",
      "name": "python",
      "nbconvert_exporter": "python",
      "pygments_lexer": "ipython3",
      "version": "3.9.12"
    },
    "colab": {
      "name": "homework-01_SCC.ipynb",
      "provenance": [],
      "collapsed_sections": [],
      "include_colab_link": true
    }
  },
  "nbformat": 4,
  "nbformat_minor": 0
}