{
  "cells": [
    {
      "cell_type": "code",
      "execution_count": 1,
      "metadata": {
        "tags": [
          "hide-input"
        ],
        "id": "-vtxGj2eNOgy"
      },
      "outputs": [],
      "source": [
        "import numpy as np\n",
        "np.set_printoptions(precision=3)\n",
        "import matplotlib.pyplot as plt\n",
        "%matplotlib inline\n",
        "import seaborn as sns\n",
        "sns.set(rc={\"figure.dpi\":100, 'savefig.dpi':300})\n",
        "sns.set_context('notebook')\n",
        "sns.set_style(\"ticks\")\n",
        "\n",
        "import urllib.request\n",
        "import os\n",
        "\n",
        "def download(\n",
        "    url : str,\n",
        "    local_filename : str = None\n",
        "):\n",
        "    \"\"\"Download a file from a url.\n",
        "    \n",
        "    Arguments\n",
        "    url            -- The url we want to download.\n",
        "    local_filename -- The filemame to write on. If not\n",
        "                      specified \n",
        "    \"\"\"\n",
        "    if local_filename is None:\n",
        "        local_filename = os.path.basename(url)\n",
        "    urllib.request.urlretrieve(url, local_filename)"
      ]
    },
    {
      "cell_type": "markdown",
      "metadata": {
        "id": "08CyiFL3NOhE"
      },
      "source": [
        "# The Principle of Maximum Entropy for Continuous Random Variables\n",
        "\n",
        "## Objectives\n",
        "+ Gain intuition about the maximum entropy solution distribution in various continuous cases\n",
        "\n",
        "## References\n",
        "\n",
        "+ [PyMaxEnt](https://www.sciencedirect.com/science/article/pii/S2352711019302456), a software package by Tony Saad and Giovanna Ruai.\n",
        "\n",
        "## Setting up the code\n",
        "\n",
        "It is not trivial to write generic code for finding the maximum entropy distribution in continuous cases.\n",
        "Instead, we will use the [PyMaxEnt](https://www.sciencedirect.com/science/article/pii/S2352711019302456) Python module.\n",
        "This module is not setup for installation via pip, so we will have to do a bit of manual work.\n",
        "All the code is contained in a single file called ``pymaxent.py`` which you can find [here](https://raw.githubusercontent.com/saadgroup/PyMaxEnt/master/src/pymaxent.py).\n",
        "All we need to do is make this file visible from the current working directory of this Jupyter notebook.\n",
        "We could give OS-specific instructions of how to do this but in Python you could do it as follows:"
      ]
    },
    {
      "cell_type": "code",
      "execution_count": 2,
      "metadata": {
        "id": "IkJk_NhiNOhQ"
      },
      "outputs": [],
      "source": [
        "url = 'https://raw.githubusercontent.com/saadgroup/PyMaxEnt/master/src/pymaxent.py'\n",
        "download(url)"
      ]
    },
    {
      "cell_type": "markdown",
      "metadata": {
        "id": "8yiZMEOeNOhg"
      },
      "source": [
        "After running the code above you should be able to import the library:"
      ]
    },
    {
      "cell_type": "code",
      "execution_count": 3,
      "metadata": {
        "id": "xylif0NZNOhl"
      },
      "outputs": [],
      "source": [
        "# If this fails, please make sure you follow the instructions above to download the file\n",
        "from pymaxent import *"
      ]
    },
    {
      "cell_type": "markdown",
      "metadata": {
        "id": "NfEZ4kbUNOhr"
      },
      "source": [
        "## Examples of maximum entropy distributions\n",
        "\n",
        "We work in a 1D random variable setting.\n",
        "The code by Saad requires that you specify the interval support of the distribution, i.e., an interval $[a,b]$ outside of which the probability density function should be zero, and the $M$ *moments* of the distribution, i.e.,\n",
        "\n",
        "$$\n",
        "\\mathbb{E}[X^m] = \\mu_m,\n",
        "$$\n",
        "\n",
        "for $m=0,\\dots,M$.\n",
        "Then, the maximum entropy distribution that satisfies these constraints is given by:\n",
        "\n",
        "$$\n",
        "p(x) = 1_{[a,b]}(x)\\exp\\left\\{\\sum_{m=1}^M\\lambda_mx^m\\right\\},\n",
        "$$\n",
        "\n",
        "where the $\\lambda_0,\\dots,\\lambda_M$ are fitted so that the constraints are satisfied.\n",
        "Note that there is no need for the normalization constant here because it has been absorbed in $\\lambda_0$.\n",
        "Let's do some examples to gain some intuition.\n",
        "\n",
        "### No constraints in [-1,1]\n",
        "The support is $[-1,1]$ and there are no moment constaints.\n",
        "You only have to specify the normalization constraint and the bounds:"
      ]
    },
    {
      "cell_type": "code",
      "execution_count": 4,
      "metadata": {
        "id": "nV9QA8bwNOhx",
        "outputId": "8e6bc7bb-50cb-4f00-d83f-9f6141edafa5",
        "colab": {
          "base_uri": "https://localhost:8080/",
          "height": 285
        }
      },
      "outputs": [
        {
          "output_type": "display_data",
          "data": {
            "text/plain": [
              "<Figure size 432x288 with 1 Axes>"
            ],
            "image/png": "[encoded data removed]"
          },
          "metadata": {
            "needs_background": "light"
          }
        }
      ],
      "source": [
        "mu = [1.0]\n",
        "pdf, lambdas = reconstruct(mu, bnds=[-1.0, 1.0])\n",
        "\n",
        "# plot the reconstructed solution\n",
        "x = np.linspace(-1.0, 1.0, 100)\n",
        "\n",
        "fig, ax = plt.subplots()\n",
        "ax.plot(x, pdf(x))\n",
        "ax.set_xlabel('$x$')\n",
        "ax.set_ylabel('$p(x)$');"
      ]
    },
    {
      "cell_type": "markdown",
      "metadata": {
        "id": "vixltsXSNOh4"
      },
      "source": [
        "## Mean constraint [-1,1]\n",
        "Same as before, but we are now going to impose a mean constraint:\n",
        "\n",
        "$$\n",
        "\\mathbb{E}[X] = \\mu.\n",
        "$$"
      ]
    },
    {
      "cell_type": "code",
      "execution_count": 11,
      "metadata": {
        "id": "Oodby8e9NOiK",
        "outputId": "2be4c9b8-3a1d-4856-c296-752841c5cdb9",
        "colab": {
          "base_uri": "https://localhost:8080/",
          "height": 285
        }
      },
      "outputs": [
        {
          "output_type": "display_data",
          "data": {
            "text/plain": [
              "<Figure size 432x288 with 1 Axes>"
            ],
            "image/png": "[encoded data removed]"
          },
          "metadata": {
            "needs_background": "light"
          }
        }
      ],
      "source": [
        "mu = [1.0, # The required normalization constraint\n",
        "      0.1] # The mean constraint\n",
        "\n",
        "pdf, lambdas = reconstruct(mu, bnds=[-1.0, 1.0])\n",
        "\n",
        "# plot the reconstructed solution\n",
        "x = np.linspace(-1.0, 1.0, 100)\n",
        "\n",
        "fig, ax = plt.subplots()\n",
        "ax.plot(x, pdf(x))\n",
        "ax.set_xlabel('$x$')\n",
        "ax.set_ylabel('$p(x)$');"
      ]
    },
    {
      "cell_type": "markdown",
      "metadata": {
        "id": "Pa8qEMkDNOia"
      },
      "source": [
        "### Questions\n",
        "\n",
        "+ Modify the mean to $\\mu=0.1$ and observe the resulting maximum entropy pdf.\n",
        "+ Modify the mean to $\\mu=-0.1$ and observe the resulting maximum entropy pdf.\n",
        "+ Try $\\mu=0.9$, what happens to the maximum entropy pdf?\n",
        "+ Try $\\mu=1.1$. Why does the code break down?"
      ]
    },
    {
      "cell_type": "markdown",
      "metadata": {
        "id": "0LpUOM2hNOin"
      },
      "source": [
        "## Variance constraint\n",
        "In addition to the mean constraint, we now include a variance constraint:\n",
        "\n",
        "$$\n",
        "\\mathbb{V}[X] = \\sigma^2.\n",
        "$$\n",
        "\n",
        "However, note that ``PyMaxEnt`` works only with moment constraints.\n",
        "Therefore, we need to connect the variance to the second and first moments.\n",
        "Here is how to do this:\n",
        "\n",
        "$$\n",
        "\\mathbb{E}[X^2] = \\mathbb{V}[X] + \\left(\\mathbb{E}[X]\\right)^2 = \\sigma^2 + \\mu^2.\n",
        "$$"
      ]
    },
    {
      "cell_type": "code",
      "execution_count": 15,
      "metadata": {
        "id": "-Z9qtgFANOit",
        "outputId": "257fb92d-858c-4969-df53-57ae61050120",
        "colab": {
          "base_uri": "https://localhost:8080/",
          "height": 321
        }
      },
      "outputs": [
        {
          "output_type": "stream",
          "name": "stderr",
          "text": [
            "/usr/local/lib/python3.7/dist-packages/scipy/optimize/minpack.py:162: RuntimeWarning: The number of calls to function has reached maxfev = 800.\n",
            "  warnings.warn(msg, RuntimeWarning)\n"
          ]
        },
        {
          "output_type": "display_data",
          "data": {
            "text/plain": [
              "<Figure size 432x288 with 1 Axes>"
            ],
            "image/png": "[encoded data removed]"
          },
          "metadata": {
            "needs_background": "light"
          }
        }
      ],
      "source": [
        "mu = 0.0\n",
        "sigma2 = 1\n",
        "mus = [\n",
        "    1.0, # The required normalization constraint\n",
        "    mu,  # The mean constraint\n",
        "    sigma2 + mu ** 2\n",
        "] # The second moment constraint \n",
        "\n",
        "pdf, lambdas = reconstruct(mus, bnds=[-1.0, 1.0])\n",
        "\n",
        "# plot the reconstructed solution\n",
        "x = np.linspace(-1.0, 1.0, 100)\n",
        "\n",
        "fig, ax = plt.subplots()\n",
        "ax.plot(x, pdf(x))\n",
        "ax.set_xlabel('$x$')\n",
        "ax.set_ylabel('$p(x)$');"
      ]
    },
    {
      "cell_type": "markdown",
      "metadata": {
        "id": "FF9d5q5ANOi5"
      },
      "source": [
        "### Questions\n",
        "\n",
        "+ Modify the variance to $\\sigma^2=0.3$ and observe the resulting maximum entropy pdf.\n",
        "+ Modify the variance to $\\sigma^2=0.4$ and observe the resulting maximum entropy pdf. Why did you get this abrapt change?\n",
        "<br>\n",
        "# ***Because the 3 sigma (0.63) is well outside the bounds of -1,1***\n",
        "+ Try $\\sigma^2=1$. Why does the code break down?\n",
        "<br>\n",
        "# **Because the 1 sigma is AT the bounds of -1,1**\n",
        "\n",
        "\n",
        "\n"
      ]
    }
  ],
  "metadata": {
    "celltoolbar": "Tags",
    "kernelspec": {
      "display_name": "Python 3 (ipykernel)",
      "language": "python",
      "name": "python3"
    },
    "language_info": {
      "codemirror_mode": {
        "name": "ipython",
        "version": 3
      },
      "file_extension": ".py",
      "mimetype": "text/x-python",
      "name": "python",
      "nbconvert_exporter": "python",
      "pygments_lexer": "ipython3",
      "version": "3.9.12"
    },
    "colab": {
      "name": "hands-on-11.3.ipynb",
      "provenance": []
    }
  },
  "nbformat": 4,
  "nbformat_minor": 0
}