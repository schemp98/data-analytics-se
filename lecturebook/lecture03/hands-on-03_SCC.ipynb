{
  "cells": [
    {
      "cell_type": "code",
      "execution_count": 1,
      "metadata": {
        "tags": [
          "hide-input"
        ],
        "id": "xEQo_v_wF6RP"
      },
      "outputs": [],
      "source": [
        "import numpy as np\n",
        "import matplotlib.pyplot as plt\n",
        "%matplotlib inline\n",
        "import seaborn as sns\n",
        "sns.set(rc={\"figure.dpi\":100, \"savefig.dpi\":300})\n",
        "sns.set_context(\"notebook\")\n",
        "sns.set_style(\"ticks\")"
      ]
    },
    {
      "cell_type": "markdown",
      "metadata": {
        "id": "g-KTcqpUF6RU"
      },
      "source": [
        "# Discrete Random Variables in Python\n",
        "\n",
        "## Objectives\n",
        "+ To develop intuition about the probability mass function.\n",
        "+ To learn about the Binomial distribution.\n",
        "+ To learn about the Poisson distribution."
      ]
    },
    {
      "cell_type": "markdown",
      "metadata": {
        "id": "irUVoWH5F6RY"
      },
      "source": [
        "## The Bernoulli Distribution\n",
        "\n",
        "The Bernoulli distribution generalizes the concept of a coin toss.\n",
        "You can think of it as the result of an experiment with two possible outcomes $0$ and $1$.\n",
        "One just needs to specify the probability of one of the outcomes, typically the probability of zero.\n",
        "So, how do we denote mathematically a Bernoulli random variable $X$ that takes the value $1$ with probability $\\theta$ in $[0,1]$?\n",
        "We can write:\n",
        "\n",
        "$$\n",
        "X = \\begin{cases} 1,\\;\\text{with probability}\\;\\theta,\\\\\n",
        "0,\\;\\text{otherwise}.\n",
        "\\end{cases}\n",
        "$$\n",
        "\n",
        "Notice that in defining this random variable we are ignoring the mechanism that is giving rise to it.\n",
        "This is ok. It just means that we have decided to not look into it.\n",
        "The other way we can write this is as follows:\n",
        "\n",
        "$$\n",
        "X \\sim \\operatorname{Bernoulli}(\\theta).\n",
        "$$\n",
        "\n",
        "Let's use the functionality of ``scipy.stats`` to define a Bernoulli random variable and sample from it."
      ]
    },
    {
      "cell_type": "code",
      "execution_count": 12,
      "metadata": {
        "id": "Psu01451F6Rc"
      },
      "outputs": [],
      "source": [
        "# Import the scipy.stats library\n",
        "import scipy.stats as st\n",
        "# This is the probability of 1:\n",
        "theta = 0.8\n",
        "# Define the random variable, Bernoulli(theta)\n",
        "X = st.bernoulli(theta)"
      ]
    },
    {
      "cell_type": "markdown",
      "metadata": {
        "id": "avyOMpg9F6Re"
      },
      "source": [
        "Here is the **support** of the random variable.\n",
        "It tells you which values it takes:"
      ]
    },
    {
      "cell_type": "code",
      "execution_count": 13,
      "metadata": {
        "id": "K993SfyCF6Rf",
        "outputId": "f745e018-9eba-47f7-d39e-b3af4aa5287c",
        "colab": {
          "base_uri": "https://localhost:8080/"
        }
      },
      "outputs": [
        {
          "output_type": "stream",
          "name": "stdout",
          "text": [
            "X takes values in (0, 1)\n"
          ]
        }
      ],
      "source": [
        "print(\"X takes values in\", X.support())"
      ]
    },
    {
      "cell_type": "markdown",
      "metadata": {
        "id": "UuGPmItIF6Rh"
      },
      "source": [
        "Evaluate the probability mass function at every point of the support:"
      ]
    },
    {
      "cell_type": "code",
      "execution_count": 14,
      "metadata": {
        "id": "o83GVmZYF6Ri",
        "outputId": "d01d23b2-5298-446b-9882-346dadc15f86",
        "colab": {
          "base_uri": "https://localhost:8080/"
        }
      },
      "outputs": [
        {
          "output_type": "stream",
          "name": "stdout",
          "text": [
            "p(X=0) = 0.20\n",
            "p(X=1) = 0.80\n"
          ]
        }
      ],
      "source": [
        "for x in X.support():\n",
        "    print(f\"p(X={x}) = {X.pmf(x):.2f}\")"
      ]
    },
    {
      "cell_type": "markdown",
      "metadata": {
        "id": "NpL6i54YF6Rj"
      },
      "source": [
        "The expectation of the Bernoulli:"
      ]
    },
    {
      "cell_type": "code",
      "execution_count": 15,
      "metadata": {
        "id": "KhymZ62UF6Rl",
        "outputId": "461cd8b2-6a8f-4770-ba40-1d2c5caf6226",
        "colab": {
          "base_uri": "https://localhost:8080/"
        }
      },
      "outputs": [
        {
          "output_type": "stream",
          "name": "stdout",
          "text": [
            "E[X] = 0.80\n"
          ]
        }
      ],
      "source": [
        "print(f\"E[X] = {X.expect():1.2f}\")"
      ]
    },
    {
      "cell_type": "markdown",
      "metadata": {
        "id": "-fNNBh5VF6Rm"
      },
      "source": [
        "The variance of the Bernoulli:"
      ]
    },
    {
      "cell_type": "code",
      "execution_count": 16,
      "metadata": {
        "id": "7DnS47MFF6Rp",
        "outputId": "1c804d78-860c-409d-c9ac-9701bf88eb8a",
        "colab": {
          "base_uri": "https://localhost:8080/"
        }
      },
      "outputs": [
        {
          "output_type": "stream",
          "name": "stdout",
          "text": [
            "V[X] = 0.16\n"
          ]
        }
      ],
      "source": [
        "print(f\"V[X] = {X.var():1.2f}\")"
      ]
    },
    {
      "cell_type": "markdown",
      "metadata": {
        "id": "tKsVRx5jF6Rr"
      },
      "source": [
        "Here is how to sample the random variable 10 times:"
      ]
    },
    {
      "cell_type": "code",
      "execution_count": 17,
      "metadata": {
        "id": "LM5OTBSdF6Rr",
        "outputId": "13a93179-1383-41ac-a4cb-0b6aac175b33",
        "colab": {
          "base_uri": "https://localhost:8080/"
        }
      },
      "outputs": [
        {
          "output_type": "stream",
          "name": "stdout",
          "text": [
            "samples: [1 1 1 1 1 0 1 1 0 1 0 0 0 1 1 0 1 1 1 1 1 1 1 0 1 1 0 1 1 0 0 1 1 1 1 1 1\n",
            " 1 1 1 1 1 1 1 1 1 0 1 1 1 1 0 1 1 1 1 1 1 1 1 1 1 1 1 1 1 1 1 1 1 1 1 1 1\n",
            " 1 1 1 1 0 0 1 0 0 1 1 1 1 1 1 1 0 1 0 1 1 1 1 0 1 1 1 0 1 1 1 0 0 0 0 1 1\n",
            " 1 1 1 1 1 0 1 0 1 1 0 1 1 1 1 0 1 0 1 1 1 1 0 1 1 1 1 1 0 0 0 1 0 1 1 1 1\n",
            " 1 1 1 1 1 1 1 1 1 1 1 1 1 1 1 0 1 1 1 1 1 0 1 1 1 1 1 1 1 0 1 1 1 1 0 1 1\n",
            " 0 1 1 0 0 1 1 1 1 0 1 1 1 1 1 1 1 0 1 0 1 1 1 0 1 0 0 1 1 1 1 0 0 0 1 0 0\n",
            " 1 0 1 1 0 1 0 0 1 1 0 1 1 1 0 1 1 1 1 1 1 1 1 1 1 1 1 0 1 1 1 1 0 1 1 0 1\n",
            " 1 1 1 1 0 1 1 1 1 0 1 1 1 0 1 1 0 1 1 0 0 1 1 0 1 0 1 1 1 1 1 1 0 1 1 1 1\n",
            " 0 0 0 0 1 0 1 1 1 1 1 0 1 1 1 1 1 1 1 1 1 1 0 1 0 1 1 1 1 1 1 0 1 1 1 1 0\n",
            " 0 0 0 0 1 1 1 1 1 1 1 1 1 1 1 1 1 0 1 0 0 1 0 1 1 0 1 1 1 1 1 0 1 0 1 1 1\n",
            " 1 1 0 1 1 0 0 1 1 1 0 1 0 0 1 1 1 1 1 1 1 1 1 1 1 1 1 0 1 1 1 1 1 1 1 1 0\n",
            " 1 1 1 0 0 1 1 0 1 1 1 1 1 1 1 1 0 1 1 0 1 1 1 0 1 1 1 1 1 1 1 0 1 1 1 1 0\n",
            " 0 1 0 1 1 0 1 1 1 1 1 1 0 1 1 1 1 1 1 1 1 1 1 0 1 0 1 1 1 0 1 1 1 0 1 1 0\n",
            " 1 1 1 1 1 1 1 0 1 1 1 1 1 0 1 1 1 1 0 0 1 1 0 1 1 1 1 1 1 1 1 0 1 0 1 0 1\n",
            " 1 1 1 0 1 1 1 1 1 1 1 1 0 1 1 1 1 0 1 1 1 0 0 1 1 1 1 1 1 0 1 1 1 1 1 1 1\n",
            " 1 1 0 1 1 1 1 0 1 1 1 1 1 0 1 1 1 1 1 1 1 1 1 1 0 1 1 0 0 1 1 1 1 1 1 0 1\n",
            " 1 0 0 0 1 1 1 0 1 1 0 1 1 1 1 1 1 1 1 1 1 1 1 1 1 1 1 1 1 1 1 1 1 0 1 1 1\n",
            " 1 0 1 1 1 1 1 1 1 1 0 1 1 1 0 1 1 1 1 0 0 1 0 1 0 0 1 0 1 1 1 0 1 1 1 1 0\n",
            " 1 0 1 1 1 1 1 1 1 1 0 1 1 1 0 1 1 1 1 1 1 1 1 1 1 1 1 0 1 1 1 1 1 1 1 1 1\n",
            " 0 1 1 1 1 1 1 1 1 1 1 1 1 1 1 1 1 1 1 1 1 1 1 1 1 1 0 1 1 0 1 1 1 1 1 0 1\n",
            " 0 1 1 0 0 1 1 0 1 1 0 0 1 0 1 1 1 1 1 1 0 1 1 1 1 0 1 1 1 1 1 1 1 1 0 1 0\n",
            " 0 1 1 1 0 0 1 1 1 0 1 1 0 1 1 1 1 1 1 0 0 1 1 1 1 0 0 1 1 1 0 0 0 1 1 1 0\n",
            " 1 1 1 1 0 1 1 1 1 0 1 0 1 1 1 0 0 1 1 1 1 1 1 1 1 0 1 0 1 1 1 0 1 1 1 1 1\n",
            " 0 1 1 0 1 1 1 1 1 1 0 1 1 1 1 0 1 1 1 0 1 1 1 1 1 1 1 0 1 0 1 0 0 1 1 0 1\n",
            " 0 1 1 1 1 1 1 1 1 1 1 1 1 1 1 0 1 1 1 1 1 1 1 1 1 0 1 1 0 1 1 1 0 1 0 1 1\n",
            " 0 1 1 1 0 1 1 1 1 1 0 1 0 1 1 0 1 1 0 1 1 1 1 1 1 1 0 1 1 0 1 1 1 1 1 1 0\n",
            " 0 1 1 1 1 1 1 1 1 0 1 1 1 1 1 1 1 1 1 1 1 1 1 1 1 1 1 0 0 1 1 1 1 1 1 1 1\n",
            " 1]\n"
          ]
        }
      ],
      "source": [
        "xs = X.rvs(size=1000)\n",
        "print(f\"samples: {xs}\")"
      ]
    },
    {
      "cell_type": "markdown",
      "metadata": {
        "id": "b45pzUYTF6Rs"
      },
      "source": [
        "Let's plot the histogram of these samples (simply counts how many samples are zero or one):"
      ]
    },
    {
      "cell_type": "code",
      "execution_count": 18,
      "metadata": {
        "id": "cUri81piF6Ru",
        "outputId": "db5dcc11-92c4-4cb8-c8d6-9948390edf77",
        "colab": {
          "base_uri": "https://localhost:8080/",
          "height": 285
        }
      },
      "outputs": [
        {
          "output_type": "display_data",
          "data": {
            "text/plain": [
              "<Figure size 432x288 with 1 Axes>"
            ],
            "image/png": "[encoded data removed]"
          },
          "metadata": {
            "needs_background": "light"
          }
        }
      ],
      "source": [
        "fig, ax = plt.subplots()\n",
        "ax.hist(xs)\n",
        "ax.set_xlabel(\"$x$\")\n",
        "ax.set_ylabel(\"Counts\");"
      ]
    },
    {
      "cell_type": "markdown",
      "metadata": {
        "id": "j1IhH6H3F6Ru"
      },
      "source": [
        "Compare the histogram to the graph of the probability mass function:"
      ]
    },
    {
      "cell_type": "code",
      "execution_count": 19,
      "metadata": {
        "id": "V4KYFiFQF6Ru",
        "outputId": "c55cd79b-9b2f-45f7-846d-9762ef413e64",
        "colab": {
          "base_uri": "https://localhost:8080/",
          "height": 285
        }
      },
      "outputs": [
        {
          "output_type": "display_data",
          "data": {
            "text/plain": [
              "<Figure size 432x288 with 1 Axes>"
            ],
            "image/png": "[encoded data removed]"
          },
          "metadata": {
            "needs_background": "light"
          }
        }
      ],
      "source": [
        "fig, ax = plt.subplots()\n",
        "ax.bar(X.support(), X.pmf(X.support()))\n",
        "ax.set_xlabel(\"$x$\")\n",
        "ax.set_ylabel(\"$p(x)$\");"
      ]
    },
    {
      "cell_type": "markdown",
      "metadata": {
        "id": "heP1-3eMF6Rv"
      },
      "source": [
        "### Questions\n",
        "+ Modify the code above to take $1000$ samples from the random variable instead of just 10.\n",
        "+ Rerun the code above for $\\theta = 0.8$."
      ]
    },
    {
      "cell_type": "markdown",
      "metadata": {
        "id": "07iFKgxrF6Rw"
      },
      "source": [
        "## The Categorical Distribution\n",
        "\n",
        "This is a generalization of the Bernoulli also known as *multinulli*.\n",
        "It is the probability distribution assigned to a random variable taking $K$ different values each one with a given, but different, probability.\n",
        "It is:\n",
        "\n",
        "$$\n",
        "p(X=k) = p_k.\n",
        "$$\n",
        "\n",
        "For example, if all the different values are equally probably, then we could have:\n",
        "\n",
        "$$\n",
        "p(X=k) = \\frac{1}{K}.\n",
        "$$\n",
        "\n",
        "Let's see how we can sample from it."
      ]
    },
    {
      "cell_type": "code",
      "execution_count": 33,
      "metadata": {
        "id": "jAs5Tu-xF6Rw"
      },
      "outputs": [],
      "source": [
        "# Define the probabilities:\n",
        "ps = [0.1, 0.1, 0.4, 0.2,0.2] \n",
        "# And here are the corresponding values\n",
        "xs = np.array([1, 2, 3, 4,5])\n",
        "# Here is how you can define a categorical rv:\n",
        "X = st.rv_discrete(name=\"Custom Categorical\", values=(xs, ps))"
      ]
    },
    {
      "cell_type": "markdown",
      "metadata": {
        "id": "XzkBhUOzF6Rx"
      },
      "source": [
        "Here is how to sample from it 10 times:"
      ]
    },
    {
      "cell_type": "code",
      "execution_count": 34,
      "metadata": {
        "id": "FzpTMjA8F6Rx",
        "outputId": "19749d6d-a262-43f7-8495-7adaa9fdd06b",
        "colab": {
          "base_uri": "https://localhost:8080/"
        }
      },
      "outputs": [
        {
          "output_type": "stream",
          "name": "stdout",
          "text": [
            "samples: [1 3 2 3 5 3 1 2 3 1]\n"
          ]
        }
      ],
      "source": [
        "x_samples = X.rvs(size=10)\n",
        "print(f\"samples: {x_samples}\")"
      ]
    },
    {
      "cell_type": "markdown",
      "metadata": {
        "id": "QEeuWWY6F6Ry"
      },
      "source": [
        "Evaluate the probability mass function at a point $X=2$:"
      ]
    },
    {
      "cell_type": "code",
      "execution_count": 35,
      "metadata": {
        "id": "FB_UtYXIF6Rz",
        "outputId": "2bbc3ba4-e691-473c-bc4c-2e42719d42a3",
        "colab": {
          "base_uri": "https://localhost:8080/"
        }
      },
      "outputs": [
        {
          "output_type": "stream",
          "name": "stdout",
          "text": [
            "p(X=2) = 0.10\n"
          ]
        }
      ],
      "source": [
        "print(f\"p(X=2) = {X.pmf(2):.2f}\")"
      ]
    },
    {
      "cell_type": "markdown",
      "metadata": {
        "id": "mhK9_Gm7F6Rz"
      },
      "source": [
        "Here is the expectation:"
      ]
    },
    {
      "cell_type": "code",
      "execution_count": 36,
      "metadata": {
        "id": "7wVpe97VF6R0",
        "outputId": "a1fa405a-4a38-4888-9d16-a9cb1aad73e1",
        "colab": {
          "base_uri": "https://localhost:8080/"
        }
      },
      "outputs": [
        {
          "output_type": "stream",
          "name": "stdout",
          "text": [
            "E[X] = 3.30\n"
          ]
        }
      ],
      "source": [
        "print(f\"E[X] = {X.expect():.2f}\")"
      ]
    },
    {
      "cell_type": "markdown",
      "metadata": {
        "id": "jR5mQxviF6R0"
      },
      "source": [
        "And the variance:"
      ]
    },
    {
      "cell_type": "code",
      "execution_count": 24,
      "metadata": {
        "id": "G1z73_SrF6R1",
        "outputId": "627eae23-59d7-4657-c39e-d78554da2806",
        "colab": {
          "base_uri": "https://localhost:8080/"
        }
      },
      "outputs": [
        {
          "output_type": "stream",
          "name": "stdout",
          "text": [
            "V[X] = 0.81\n"
          ]
        }
      ],
      "source": [
        "print(f\"V[X] = {X.var():.2f}\")"
      ]
    },
    {
      "cell_type": "markdown",
      "metadata": {
        "id": "GKJ9mJsbF6R1"
      },
      "source": [
        "Let's plot the PMF:"
      ]
    },
    {
      "cell_type": "code",
      "execution_count": 25,
      "metadata": {
        "id": "5p6ZBea8F6R2",
        "outputId": "18350d9c-6134-4bb4-8803-ba0f1d4e6a52",
        "colab": {
          "base_uri": "https://localhost:8080/",
          "height": 285
        }
      },
      "outputs": [
        {
          "output_type": "display_data",
          "data": {
            "text/plain": [
              "<Figure size 432x288 with 1 Axes>"
            ],
            "image/png": "[encoded data removed]"
          },
          "metadata": {
            "needs_background": "light"
          }
        }
      ],
      "source": [
        "fig, ax = plt.subplots()\n",
        "ax.bar(xs, X.pmf(xs))\n",
        "ax.set_xlabel(\"$x$\")\n",
        "ax.set_ylabel(\"$p(x)$\");"
      ]
    },
    {
      "cell_type": "markdown",
      "metadata": {
        "id": "aq3y8L89F6R3"
      },
      "source": [
        "Let's now compute the expectation of a function of $X$.\n",
        "Say, $Y = e^X$.\n",
        "The formula is:\n",
        "\n",
        "$$\n",
        "\\mathbb{E}[e^X] = \\sum_x e^x p(x).\n",
        "$$\n",
        "\n",
        "Here is how you can do this sumation mannually:"
      ]
    },
    {
      "cell_type": "code",
      "execution_count": 26,
      "metadata": {
        "id": "Yo3ppr7kF6R4",
        "outputId": "7da432e5-569a-467b-b4f7-ccaf3bb30ed8",
        "colab": {
          "base_uri": "https://localhost:8080/"
        }
      },
      "outputs": [
        {
          "output_type": "stream",
          "name": "stdout",
          "text": [
            "E[exp(X)] = 21.44\n"
          ]
        }
      ],
      "source": [
        "E_eX = np.sum(np.exp(xs) * X.pmf(xs))\n",
        "print(f\"E[exp(X)] = {E_eX:.2f}\")"
      ]
    },
    {
      "cell_type": "markdown",
      "metadata": {
        "id": "PLA_sBUiF6R5"
      },
      "source": [
        "What if we wanted to find the variance of $Y = e^X$.\n",
        "We have to use this formula:\n",
        "\n",
        "$$\n",
        "\\mathbb{V}[e^X] = \\mathbb{E}\\left[\\left(e^{X}\\right)^2\\right] - \\left\\{\\mathbb{E}\\left[e^X\\right]\\right\\}^2.\n",
        "$$\n",
        "\n",
        "Let's do it:"
      ]
    },
    {
      "cell_type": "code",
      "execution_count": 27,
      "metadata": {
        "id": "bsb7FsqKF6R6",
        "outputId": "923e3fa4-f080-4394-948b-15a267392021",
        "colab": {
          "base_uri": "https://localhost:8080/"
        }
      },
      "outputs": [
        {
          "output_type": "stream",
          "name": "stdout",
          "text": [
            "V[exp(X)] = 314.91\n"
          ]
        }
      ],
      "source": [
        "E_e2X = np.sum(np.exp(xs) ** 2 * X.pmf(xs))\n",
        "V_eX = E_e2X - E_eX ** 2\n",
        "print(f\"V[exp(X)] = {V_eX:.2f}\")"
      ]
    },
    {
      "cell_type": "markdown",
      "metadata": {
        "id": "yo6VPzAUF6R7"
      },
      "source": [
        "### Questions\n",
        "\n",
        "+ Rerun all code segements above for the Categorical $X\\sim \\operatorname{Categorical}(0.1, 0.1, 0.4, 0.2, 0.2)$ taking values $1, 2, 3, 4$ and $5$.\n",
        "+ Write code that finds the expectation of $\\sin(X)$.\n",
        "+ Write code that finds the variance of $\\sin(X)$."
      ]
    },
    {
      "cell_type": "code",
      "source": [
        "E_eX = np.sum(np.sin(xs) * X.pmf(xs))\n",
        "print(f\"E[exp(X)] = {E_eX:.2f}\")"
      ],
      "metadata": {
        "id": "VUGjHyHzZtM6",
        "outputId": "aae3fe6d-7ad8-43c6-b682-fde987591b7e",
        "colab": {
          "base_uri": "https://localhost:8080/"
        }
      },
      "execution_count": 37,
      "outputs": [
        {
          "output_type": "stream",
          "name": "stdout",
          "text": [
            "E[exp(X)] = -0.11\n"
          ]
        }
      ]
    },
    {
      "cell_type": "code",
      "source": [
        "E_e2X = np.sum(np.sin(xs) ** 2 * X.pmf(xs))\n",
        "V_eX = E_e2X - E_eX ** 2\n",
        "\n",
        "print(f\"V[exp(X)] = {V_eX:.2f}\")"
      ],
      "metadata": {
        "id": "57l9Qlh0Z4dP",
        "outputId": "27d51a79-3806-401d-9104-269c6058ea50",
        "colab": {
          "base_uri": "https://localhost:8080/"
        }
      },
      "execution_count": 39,
      "outputs": [
        {
          "output_type": "stream",
          "name": "stdout",
          "text": [
            "V[exp(X)] = 0.45\n"
          ]
        }
      ]
    },
    {
      "cell_type": "markdown",
      "metadata": {
        "id": "rTqA9cZ3F6R8"
      },
      "source": [
        "## The Binomial Distribution\n",
        "\n",
        "Suppose that you tossing $n$ times a coin with probability of heads $\\theta$ and let $X$ be the number of heads.\n",
        "The random variable $X$ is called the binomial random variable.\n",
        "We write:\n",
        "\n",
        "$$\n",
        "X\\sim B(n, \\theta).\n",
        "$$\n",
        "\n",
        "It is easy to show that its pmf is:\n",
        "\n",
        "$$\n",
        "p(X = k) = {n\\choose{k}}\\theta^k(1-\\theta)^{n-k},\n",
        "$$\n",
        "\n",
        "where ${n\\choose{k}}$ is the number of $k$ combinations out of $n$ elements:\n",
        "\n",
        "$$\n",
        "{n\\choose{k}} = \\frac{n!}{k!(n-k)!}.\n",
        "$$\n",
        "\n",
        "Here is how to define the binomial in scipy.stats:"
      ]
    },
    {
      "cell_type": "code",
      "execution_count": 28,
      "metadata": {
        "id": "mTlHeU2kF6R8"
      },
      "outputs": [],
      "source": [
        "n = 5       \n",
        "theta = 0.6\n",
        "X = st.binom(n, theta)"
      ]
    },
    {
      "cell_type": "markdown",
      "metadata": {
        "id": "tcKssbgeF6R8"
      },
      "source": [
        "Here are some samples:"
      ]
    },
    {
      "cell_type": "code",
      "execution_count": 29,
      "metadata": {
        "id": "cCdFI8b2F6R9",
        "outputId": "1aecf0fc-74aa-4a1b-93a8-2bf7709dedc1",
        "colab": {
          "base_uri": "https://localhost:8080/"
        }
      },
      "outputs": [
        {
          "output_type": "stream",
          "name": "stdout",
          "text": [
            "[3 2 3 4 4 3 1 2 0 5 4 3 5 4 3 3 1 4 2 3 3 5 2 1 5 2 3 2 2 4 3 2 3 3 2 4 4\n",
            " 2 5 4 2 4 3 1 2 3 3 2 3 3 1 3 3 1 3 2 2 1 4 3 3 2 4 3 1 2 5 4 4 5 2 3 2 1\n",
            " 2 2 4 3 3 3 4 2 2 3 5 4 2 3 4 4 4 4 3 3 2 3 2 3 1 3]\n"
          ]
        }
      ],
      "source": [
        "print(X.rvs(100))"
      ]
    },
    {
      "cell_type": "markdown",
      "metadata": {
        "id": "AMPkdfLLF6R9"
      },
      "source": [
        "Here is the expectation:"
      ]
    },
    {
      "cell_type": "code",
      "execution_count": 30,
      "metadata": {
        "id": "EO9n6np2F6R-",
        "outputId": "b793c7ef-9470-4926-c775-3fd831893a66",
        "colab": {
          "base_uri": "https://localhost:8080/"
        }
      },
      "outputs": [
        {
          "output_type": "stream",
          "name": "stdout",
          "text": [
            "E[X] = 3.00\n"
          ]
        }
      ],
      "source": [
        "print(f\"E[X] = {X.expect():.2f}\")"
      ]
    },
    {
      "cell_type": "markdown",
      "metadata": {
        "id": "PfpHQcQqF6R-"
      },
      "source": [
        "And the variance:"
      ]
    },
    {
      "cell_type": "code",
      "execution_count": 31,
      "metadata": {
        "id": "dx1FGl4wF6R_",
        "outputId": "3fe56754-3e75-4e52-d4c2-4d3df001f74a",
        "colab": {
          "base_uri": "https://localhost:8080/"
        }
      },
      "outputs": [
        {
          "output_type": "stream",
          "name": "stdout",
          "text": [
            "V[X] = 1.20\n"
          ]
        }
      ],
      "source": [
        "print(f\"V[X] = {X.var():1.2f}\")"
      ]
    },
    {
      "cell_type": "markdown",
      "metadata": {
        "id": "Re4iECvSF6R_"
      },
      "source": [
        "Let's draw the PMF:"
      ]
    },
    {
      "cell_type": "code",
      "execution_count": 32,
      "metadata": {
        "id": "zXjAd1I2F6SA",
        "outputId": "4599b855-85a2-4e72-dcbe-b30bab82cf85",
        "colab": {
          "base_uri": "https://localhost:8080/",
          "height": 285
        }
      },
      "outputs": [
        {
          "output_type": "display_data",
          "data": {
            "text/plain": [
              "<Figure size 432x288 with 1 Axes>"
            ],
            "image/png": "[encoded data removed]"
          },
          "metadata": {
            "needs_background": "light"
          }
        }
      ],
      "source": [
        "fig, ax = plt.subplots()\n",
        "xs = range(n)\n",
        "ax.bar(xs, X.pmf(xs))\n",
        "ax.set_xlabel(\"$x$\")\n",
        "ax.set_ylabel(\"$p(x)$\");"
      ]
    },
    {
      "cell_type": "markdown",
      "metadata": {
        "id": "9idRw6SRF6SB"
      },
      "source": [
        "### Questions\n",
        "\n",
        "+ Start increasing the number of trials $n$. Gradually take it up to $n=100$. How does the resulting pmf look like?\n",
        "This starts to look like a bell curve. And indeed it is!"
      ]
    },
    {
      "cell_type": "markdown",
      "metadata": {
        "id": "Ga1Fn0VQF6SB"
      },
      "source": [
        "## The Poisson Distribution\n",
        "\n",
        "The Poisson distribution models the number of times an event occurs in an interval of space or time.\n",
        "For example, a Poisson random variable $X$ may be:\n",
        "\n",
        "+ The number earthquakes greater than 6 Richter occuring over the next 100 years.\n",
        "+ The number of major floods over the next 100 years.\n",
        "+ The number of patients arriving at the emergency room during the night shift.\n",
        "+ The number of electrons hitting a detector in a specific time interval.\n",
        "\n",
        "The Poisson is a good model when the following assumptions are true:\n",
        "+ The number of times an event occurs in an interval takes values $0,1,2,\\dots$.\n",
        "+ Events occur independently.\n",
        "+ The probability that an event occurs is constant per unit of time.\n",
        "+ The average rate at which events occur is constant.\n",
        "+ Events cannot occur at the same time.\n",
        "\n",
        "When these assumptions are valid, we can write:\n",
        "\n",
        "$$\n",
        "X\\sim \\operatorname{Pois}(\\lambda),\n",
        "$$\n",
        "\n",
        "where $\\lambda>0$ is the rate with each the events occur.\n",
        "The pmf of the Poisson is:\n",
        "\n",
        "$$\n",
        "p(X=k) = \\frac{\\lambda^ke^{-\\lambda}}{k!}.\n",
        "$$\n",
        "\n",
        "The expectation of the Poisson is:\n",
        "\n",
        "$$\n",
        "\\mathbb{E}[X] = \\sum_{k=0}^\\infty k p(X=k) = \\lambda.\n",
        "$$\n",
        "\n",
        "The variance is:\n",
        "\n",
        "$$\n",
        "\\mathbb{V}[X] = \\dots = \\lambda.\n",
        "$$\n",
        "\n",
        "Let's look at a specific example.\n",
        "Historical data show that at a given region a major earthquake occurs once every 100 years on average.\n",
        "What is the probability that $k$ such earthquakes will occur within the next 100 years.\n",
        "Let $X$ be the random variable corresponding to the number of earthquakes over the next 100 years.\n",
        "Assuming the Poisson model is valid, the rate parameter is $\\lambda = 1$ and we have:\n",
        "\n",
        "$$\n",
        "X\\sim \\operatorname{Pois}(1).\n",
        "$$\n",
        "\n",
        "The probabilities are:"
      ]
    },
    {
      "cell_type": "code",
      "execution_count": null,
      "metadata": {
        "id": "IVhzZiqEF6SB",
        "outputId": "35c61dc4-ddc0-46d7-af7f-d608a48b5f57"
      },
      "outputs": [
        {
          "data": {
            "image/png": "[encoded data removed]",
            "text/plain": [
              "<Figure size 600x400 with 1 Axes>"
            ]
          },
          "metadata": {},
          "output_type": "display_data"
        }
      ],
      "source": [
        "X = st.poisson(1.0)\n",
        "ks = range(6)\n",
        "fig, ax = plt.subplots()\n",
        "ax.bar(ks, X.pmf(ks))\n",
        "ax.set_xlabel('Number of major earthquakes in next 100 years')\n",
        "ax.set_ylabel('Probability of occurance');"
      ]
    },
    {
      "cell_type": "markdown",
      "metadata": {
        "id": "zrMw0doKF6SB"
      },
      "source": [
        "### Questions\n",
        "\n",
        "+ How would the rate parameter $\\lambda$ change if the rate with each major earthquakes occured in the past was 2 every 100 years? Plot the pmf of the new Poisson random variable. You may have to add more points in the x-axis."
      ]
    },
    {
      "cell_type": "code",
      "source": [
        ""
      ],
      "metadata": {
        "id": "0d94eEySaZIj"
      },
      "execution_count": null,
      "outputs": []
    },
    {
      "cell_type": "code",
      "execution_count": 43,
      "metadata": {
        "outputId": "d686fa4e-e016-4090-a829-f1a272db0300",
        "id": "uncimS6sadlJ",
        "colab": {
          "base_uri": "https://localhost:8080/",
          "height": 285
        }
      },
      "outputs": [
        {
          "output_type": "display_data",
          "data": {
            "text/plain": [
              "<Figure size 432x288 with 1 Axes>"
            ],
            "image/png": "[encoded data removed]"
          },
          "metadata": {
            "needs_background": "light"
          }
        }
      ],
      "source": [
        "X = st.poisson(2.0)\n",
        "ks = range(9)\n",
        "fig, ax = plt.subplots()\n",
        "ax.bar(ks, X.pmf(ks))\n",
        "ax.set_xlabel('Number of major earthquakes in next 100 years')\n",
        "ax.set_ylabel('Probability of occurance');"
      ]
    }
  ],
  "metadata": {
    "celltoolbar": "Tags",
    "kernelspec": {
      "display_name": "Python 3 (ipykernel)",
      "language": "python",
      "name": "python3"
    },
    "language_info": {
      "codemirror_mode": {
        "name": "ipython",
        "version": 3
      },
      "file_extension": ".py",
      "mimetype": "text/x-python",
      "name": "python",
      "nbconvert_exporter": "python",
      "pygments_lexer": "ipython3",
      "version": "3.9.7"
    },
    "colab": {
      "name": "hands-on-03.ipynb",
      "provenance": []
    }
  },
  "nbformat": 4,
  "nbformat_minor": 0
}