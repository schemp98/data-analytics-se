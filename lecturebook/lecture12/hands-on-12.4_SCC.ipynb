{
  "cells": [
    {
      "cell_type": "markdown",
      "metadata": {
        "id": "view-in-github",
        "colab_type": "text"
      },
      "source": [
        "<a href=\"https://colab.research.google.com/github/schemp98/data-analytics-se/blob/master/lecturebook/lecture12/hands-on-12.4_SCC.ipynb\" target=\"_parent\"><img src=\"https://colab.research.google.com/assets/colab-badge.svg\" alt=\"Open In Colab\"/></a>"
      ]
    },
    {
      "cell_type": "code",
      "execution_count": 29,
      "metadata": {
        "tags": [
          "hide-input"
        ],
        "id": "ytgN8UhmJBUx"
      },
      "outputs": [],
      "source": [
        "import numpy as np\n",
        "np.set_printoptions(precision=3)\n",
        "import matplotlib.pyplot as plt\n",
        "%matplotlib inline\n",
        "import seaborn as sns\n",
        "sns.set(rc={\"figure.dpi\":100, \"savefig.dpi\":300})\n",
        "sns.set_context(\"notebook\")\n",
        "sns.set_style(\"ticks\")"
      ]
    },
    {
      "cell_type": "markdown",
      "metadata": {
        "id": "BRezCCvnJBU5"
      },
      "source": [
        "# Posterior Predictive Checking\n",
        "\n",
        "## Objectives\n",
        "\n",
        "+ Introduce the concept of posterior predictive checking\n",
        "\n",
        "## Posterior Predictive Checking\n",
        "\n",
        "Assume that we have built a model using some data, say $x_{1:n}$.\n",
        "Now, assume that you do the experiment again under the same conditions.\n",
        "What data does your model tell you that you would observe?\n",
        "The posterior predictive distribution of the *replicated data* $x^{\\text{rep}}_{1:n}$ is simply:\n",
        "\n",
        "$$\n",
        "p(x^{\\text{rep}}_{1:n}|x_{1:n}) = \\int p(x^{\\text{rep}}_{1:n}|\\theta)p(\\theta|x_{1:n})d\\theta,\n",
        "$$\n",
        "\n",
        "where $p(x^{\\text{rep}}_{1:n}|\\theta)$ is just the likelihood and $p(\\theta|x_{1:n})$ the posterior.\n",
        "The idea of *posterior predictive checking* is to repeatedly sample $x^{\\text{rep}}_{1:n}$ and compare their characteristics to the true data.\n",
        "You may reject a model that performs very poorly under predictive checking.\n",
        "However, you cannot accept a model that performs very well.\n",
        "There are other methods for doing this which are more involved.\n",
        "Predictive checking is good for identifying bugs in your code or coming up with ideas to extend the models in a way that better matches the data.\n",
        "\n",
        "## Visual Inspections of Replicated Data\n",
        "\n",
        "The idea here is to simply sample $x^{\\text{rep}}_{1:n}$ and compare it visually to $x_{1:n}$.\n",
        "Let's see this on the coin toss example.\n",
        "\n",
        "## Demonstration with the Coin Toss Example\n",
        "\n",
        "Consider $n$ coin-tosses with probability of heads ($1$) $\\theta$, i.e.,\n",
        "\n",
        "$$\n",
        "x_{i}|\\theta \\sim \\operatorname{Ber}(\\theta).\n",
        "$$\n",
        "\n",
        "We put a uniform prior on $\\theta$:\n",
        "\n",
        "$$\n",
        "\\theta\\sim U([0,1]),\n",
        "$$\n",
        "\n",
        "and we have already seen that the posterior is a Beta:\n",
        "\n",
        "$$\n",
        "\\theta|x_{1:n} \\sim \\operatorname{Beta}\\left(1 + \\sum_{i=1}^nx_i, 1 + n - \\sum_{i=1}^nx_i\\right).\n",
        "$$\n",
        "\n",
        "Now, it is actually possible to get $p(x^{\\text{rep}}_{1:n} | x_{1:n})$ analytically in this case.\n",
        "However, we will not bother doing it.\n",
        "We can simply sampling from it as follows:\n",
        "+ First, sample a $\\theta$ from the posterior $p(\\theta|x_{1:n})$.\n",
        "+ Second, sample a $x^{\\text{rep}}$ from the likelihood $p(x^{\\text{rep}}|\\theta)$.\n",
        "+ Repeat steps one and two as many times as needed.\n",
        "\n",
        "Ok, let's start with a dataset that is 100\\% known that it is compatible from the model because we are simply simulating it.\n",
        "Here you go:"
      ]
    },
    {
      "cell_type": "code",
      "execution_count": 30,
      "metadata": {
        "id": "VwwsRkzHJBVG",
        "outputId": "5bc4f6e0-7780-4d0a-a111-81a781aae10c",
        "colab": {
          "base_uri": "https://localhost:8080/"
        }
      },
      "outputs": [
        {
          "output_type": "execute_result",
          "data": {
            "text/plain": [
              "array([1, 0, 1, 0, 1, 1, 0, 0, 0, 1, 0, 1, 1, 0, 0, 1, 1, 0, 1, 0, 0, 1,\n",
              "       1, 1, 1, 0, 1, 0, 1, 1, 1, 1, 0, 1, 0, 0, 0, 0, 0, 1, 0, 0, 0, 0,\n",
              "       0, 1, 1, 0, 0, 1, 1, 1, 0, 0, 1, 1, 1, 1, 0, 1, 1, 0, 0, 1, 0, 1,\n",
              "       0, 0, 1, 1, 0, 1, 0, 0, 0, 1, 0, 0, 1, 0, 0, 0, 0, 1, 1, 1, 0, 0,\n",
              "       1, 1, 0, 0, 0, 0, 1, 1, 1, 1, 0, 1])"
            ]
          },
          "metadata": {},
          "execution_count": 30
        }
      ],
      "source": [
        "import scipy.stats as st\n",
        "\n",
        "theta_true = 0.5\n",
        "X = st.bernoulli(theta_true)\n",
        "\n",
        "N = 50*2\n",
        "data = X.rvs(size=N)\n",
        "data"
      ]
    },
    {
      "cell_type": "markdown",
      "metadata": {
        "id": "rSLl--igJBVM"
      },
      "source": [
        "The posterior is as follows:"
      ]
    },
    {
      "cell_type": "code",
      "execution_count": 31,
      "metadata": {
        "tags": [
          "hide-input"
        ],
        "id": "5hj_o7-TJBVQ",
        "outputId": "f245010a-8dc9-4ce1-b1e5-4ca03e77501d",
        "colab": {
          "base_uri": "https://localhost:8080/",
          "height": 413
        }
      },
      "outputs": [
        {
          "output_type": "display_data",
          "data": {
            "text/plain": [
              "<Figure size 600x400 with 1 Axes>"
            ],
            "image/png": "[encoded data removed]"
          },
          "metadata": {}
        }
      ],
      "source": [
        "alpha = 1.0 + data.sum()\n",
        "beta = 1.0 + N - data.sum()\n",
        "Theta_post = st.beta(alpha, beta)\n",
        "\n",
        "fig, ax = plt.subplots()\n",
        "thetas = np.linspace(0, 1, 100)\n",
        "ax.plot(\n",
        "    [theta_true],\n",
        "    [0.0],\n",
        "    'o',\n",
        "    markeredgewidth=2,\n",
        "    markersize=10,\n",
        "    label='True value')\n",
        "ax.plot(\n",
        "    thetas,\n",
        "    Theta_post.pdf(thetas),\n",
        "    label=r'$p(\\theta|x_{1:N})$'\n",
        ")\n",
        "ax.set_xlabel(r'$\\theta$')\n",
        "ax.set_ylabel('Probability density')\n",
        "ax.set_title('$N={N}$')\n",
        "plt.legend(loc='best');"
      ]
    },
    {
      "cell_type": "markdown",
      "metadata": {
        "id": "p_M4KaXPJBVY"
      },
      "source": [
        "Now that we have fitted the model, let's draw many replicated data $y^{\\text{rep}}$ from the posterior predictive and compare them to the original dataset.\n",
        "We are going to write a function to do this.\n",
        "We will use it several times later."
      ]
    },
    {
      "cell_type": "code",
      "execution_count": 32,
      "metadata": {
        "id": "8CLWvg9gJBVb"
      },
      "outputs": [],
      "source": [
        "def replicate_experiment(post_rv, n=N, n_rep=9):\n",
        "    \"\"\"Replicate the experiment.\n",
        "    \n",
        "    Arguments\n",
        "    post_rv -- The random variable object corresponding to\n",
        "               the posterior from which to sample.\n",
        "    n       -- The number of observations.\n",
        "    nrep    -- The number of repetitions.\n",
        "    \n",
        "    Returns:\n",
        "    A numpy array of size n_rep x n.\n",
        "    \"\"\"\n",
        "    x_rep = np.ndarray((n_rep, n), dtype=\"i\")\n",
        "    for i in range(n_rep):\n",
        "        theta_post_sample = post_rv.rvs()\n",
        "        x_rep[i, :] = st.bernoulli(\n",
        "            theta_post_sample\n",
        "        ).rvs(size=n)\n",
        "    return x_rep"
      ]
    },
    {
      "cell_type": "markdown",
      "metadata": {
        "id": "SzLynFePJBVd"
      },
      "source": [
        "And here is how to use it:"
      ]
    },
    {
      "cell_type": "code",
      "execution_count": 33,
      "metadata": {
        "tags": [
          "hide-output"
        ],
        "id": "YCvJbPIJJBVf",
        "outputId": "aae9518a-c3bd-4613-88d0-f30fada5d756",
        "colab": {
          "base_uri": "https://localhost:8080/"
        }
      },
      "outputs": [
        {
          "output_type": "execute_result",
          "data": {
            "text/plain": [
              "array([[1, 0, 1, 0, 0, 0, 1, 0, 1, 0, 0, 1, 0, 0, 0, 0, 0, 1, 0, 0, 1, 1,\n",
              "        1, 1, 0, 0, 0, 0, 0, 0, 1, 1, 0, 1, 0, 0, 0, 1, 0, 1, 0, 1, 0, 0,\n",
              "        0, 0, 0, 1, 1, 0, 1, 0, 1, 1, 0, 0, 1, 0, 0, 0, 1, 0, 0, 1, 0, 1,\n",
              "        1, 0, 0, 1, 1, 1, 1, 1, 0, 0, 1, 0, 0, 1, 0, 1, 1, 0, 1, 0, 1, 1,\n",
              "        1, 1, 0, 1, 0, 0, 1, 0, 0, 1, 1, 0],\n",
              "       [0, 0, 1, 1, 1, 1, 0, 1, 0, 1, 1, 1, 0, 0, 0, 0, 1, 0, 0, 1, 1, 0,\n",
              "        1, 1, 1, 1, 1, 1, 0, 0, 0, 1, 1, 1, 0, 1, 0, 0, 1, 0, 0, 1, 1, 1,\n",
              "        0, 1, 1, 0, 1, 1, 0, 0, 0, 1, 1, 1, 1, 1, 1, 0, 1, 0, 1, 1, 1, 1,\n",
              "        1, 1, 0, 1, 0, 1, 0, 0, 1, 1, 0, 0, 1, 0, 0, 0, 1, 1, 0, 1, 1, 1,\n",
              "        1, 1, 1, 0, 0, 1, 0, 0, 0, 1, 0, 1],\n",
              "       [0, 1, 0, 0, 1, 0, 1, 1, 0, 1, 0, 1, 0, 1, 0, 1, 1, 0, 1, 0, 0, 0,\n",
              "        1, 1, 1, 0, 0, 0, 0, 1, 0, 0, 0, 1, 0, 0, 1, 1, 0, 0, 1, 1, 1, 0,\n",
              "        0, 1, 0, 0, 0, 0, 1, 1, 0, 0, 0, 1, 1, 0, 0, 0, 1, 0, 1, 0, 0, 0,\n",
              "        1, 1, 0, 0, 0, 1, 0, 0, 0, 0, 1, 1, 0, 1, 0, 1, 1, 1, 1, 0, 0, 0,\n",
              "        1, 0, 1, 0, 1, 0, 0, 0, 1, 0, 1, 1],\n",
              "       [0, 1, 1, 0, 0, 0, 0, 0, 0, 0, 0, 1, 0, 0, 0, 1, 0, 1, 1, 1, 0, 0,\n",
              "        0, 0, 1, 0, 1, 1, 0, 1, 1, 1, 0, 1, 0, 0, 1, 0, 1, 0, 1, 0, 1, 1,\n",
              "        1, 1, 0, 0, 1, 1, 0, 1, 0, 0, 0, 0, 1, 1, 0, 1, 0, 1, 0, 1, 1, 1,\n",
              "        0, 0, 1, 0, 0, 0, 0, 0, 1, 1, 0, 1, 1, 0, 0, 0, 0, 0, 0, 1, 0, 0,\n",
              "        0, 0, 0, 0, 0, 0, 0, 0, 1, 1, 1, 0],\n",
              "       [0, 0, 0, 0, 0, 1, 1, 0, 0, 1, 0, 1, 0, 0, 0, 1, 1, 1, 1, 1, 0, 1,\n",
              "        0, 0, 0, 0, 0, 0, 1, 0, 0, 1, 0, 1, 1, 1, 0, 1, 0, 1, 0, 1, 1, 1,\n",
              "        0, 0, 0, 1, 1, 0, 0, 1, 0, 1, 1, 1, 0, 0, 1, 1, 0, 1, 1, 1, 0, 1,\n",
              "        1, 1, 1, 1, 0, 1, 0, 1, 0, 0, 1, 0, 0, 1, 0, 1, 0, 1, 1, 0, 0, 0,\n",
              "        0, 0, 0, 1, 0, 0, 0, 0, 0, 0, 0, 0],\n",
              "       [1, 1, 0, 1, 0, 0, 0, 1, 1, 0, 0, 0, 0, 0, 1, 1, 1, 1, 0, 1, 0, 0,\n",
              "        0, 0, 0, 0, 0, 0, 1, 1, 1, 1, 0, 0, 0, 0, 1, 1, 0, 0, 0, 1, 0, 1,\n",
              "        0, 1, 1, 0, 1, 0, 0, 1, 0, 0, 0, 0, 0, 0, 1, 1, 0, 0, 0, 0, 0, 0,\n",
              "        1, 1, 1, 1, 0, 1, 0, 0, 0, 0, 0, 1, 0, 0, 1, 1, 0, 0, 1, 1, 0, 1,\n",
              "        1, 1, 0, 1, 0, 0, 1, 1, 1, 1, 0, 1],\n",
              "       [1, 0, 0, 1, 0, 0, 0, 1, 0, 1, 1, 1, 1, 1, 0, 0, 0, 1, 0, 1, 1, 0,\n",
              "        1, 1, 1, 0, 1, 1, 1, 0, 0, 0, 0, 0, 0, 1, 1, 0, 1, 0, 1, 1, 1, 1,\n",
              "        0, 0, 0, 1, 1, 1, 0, 0, 0, 0, 1, 1, 1, 0, 0, 1, 0, 0, 0, 1, 1, 0,\n",
              "        0, 0, 1, 0, 1, 1, 0, 1, 0, 0, 1, 1, 0, 0, 1, 1, 1, 0, 1, 1, 0, 1,\n",
              "        1, 0, 1, 1, 1, 1, 0, 0, 1, 1, 1, 1],\n",
              "       [0, 0, 0, 1, 0, 0, 0, 0, 0, 0, 0, 0, 1, 0, 1, 1, 0, 1, 0, 1, 0, 0,\n",
              "        1, 0, 0, 0, 1, 1, 1, 1, 1, 1, 1, 1, 0, 1, 0, 0, 1, 0, 1, 0, 0, 0,\n",
              "        1, 0, 0, 0, 0, 0, 1, 0, 0, 0, 1, 0, 1, 1, 1, 0, 0, 0, 0, 0, 0, 0,\n",
              "        0, 1, 0, 0, 1, 0, 1, 1, 0, 0, 1, 1, 0, 0, 1, 0, 0, 0, 0, 1, 0, 0,\n",
              "        0, 1, 1, 0, 1, 1, 0, 0, 1, 1, 0, 1],\n",
              "       [1, 1, 0, 0, 0, 1, 0, 1, 1, 0, 1, 1, 0, 0, 1, 1, 1, 1, 0, 1, 1, 0,\n",
              "        1, 1, 0, 1, 1, 0, 0, 1, 0, 1, 1, 1, 0, 0, 0, 0, 0, 0, 1, 1, 1, 1,\n",
              "        0, 0, 0, 1, 0, 1, 0, 1, 0, 0, 1, 1, 1, 1, 1, 1, 1, 1, 1, 1, 0, 1,\n",
              "        0, 0, 0, 0, 1, 0, 0, 0, 0, 0, 0, 1, 0, 0, 1, 0, 1, 1, 1, 1, 0, 1,\n",
              "        1, 1, 1, 0, 0, 0, 1, 1, 1, 0, 1, 1]], dtype=int32)"
            ]
          },
          "metadata": {},
          "execution_count": 33
        }
      ],
      "source": [
        "x_rep = replicate_experiment(Theta_post)\n",
        "x_rep"
      ]
    },
    {
      "cell_type": "markdown",
      "metadata": {
        "id": "W2rs1h-SJBVi"
      },
      "source": [
        "We can visualize the data as images.\n",
        "The first row of pixels is are the observed data."
      ]
    },
    {
      "cell_type": "code",
      "execution_count": 34,
      "metadata": {
        "id": "WJkp-yuCJBVl",
        "outputId": "ebb57409-482d-41af-f29b-34d5ea96dd23",
        "colab": {
          "base_uri": "https://localhost:8080/",
          "height": 231
        }
      },
      "outputs": [
        {
          "output_type": "display_data",
          "data": {
            "text/plain": [
              "<Figure size 3000x1000 with 1 Axes>"
            ],
            "image/png": "[encoded data removed]"
          },
          "metadata": {}
        }
      ],
      "source": [
        "fig, ax = plt.subplots(figsize=(30, 10))\n",
        "ax.imshow(np.vstack([data, x_rep]));"
      ]
    },
    {
      "cell_type": "markdown",
      "metadata": {
        "id": "cZ4d21hAJBVp"
      },
      "source": [
        "This visual inspection does not reveal anything strange.\n",
        "Let's now repeat this excersize with a dataset that is completely artificial and does not match the model.\n",
        "This a dataset that I picked by hand trying to emulate a coin toss with probability of heads equal to $0.5$:"
      ]
    },
    {
      "cell_type": "code",
      "execution_count": 35,
      "metadata": {
        "id": "f15qzhRrJBVr"
      },
      "outputs": [],
      "source": [
        "data_fake = np.array(\n",
        "    [\n",
        "        0, 1, 0, 0, 1, 0, 0, 1, 1, 0,\n",
        "        0, 1, 0, 1, 0, 1, 1, 0, 0, 1,\n",
        "        0, 1, 0, 1, 0, 1, 0, 1, 0, 1,\n",
        "        0, 0, 0, 1, 0, 1, 1, 1, 0, 0,\n",
        "        0, 0, 1, 0, 1, 0, 1, 0, 1, 0,\n",
        "     0, 1, 0, 0, 1, 0, 0, 1, 1, 1,\n",
        "        0, 1, 0, 1, 0, 1, 0, 0, 0, 1,\n",
        "        1, 1, 0, 1, 0, 0, 0, 1, 0, 1,\n",
        "        0, 1, 0, 1, 0, 1, 1, 1, 1, 0,\n",
        "        0, 0, 1, 0, 0, 0, 1, 0, 1, 0\n",
        "    ]\n",
        ")"
      ]
    },
    {
      "cell_type": "markdown",
      "metadata": {
        "id": "FtWytBNzJBVs"
      },
      "source": [
        "Here is the posterior for this fake dataset:"
      ]
    },
    {
      "cell_type": "code",
      "execution_count": 36,
      "metadata": {
        "id": "klaBGDRaJBVu",
        "outputId": "550b1f22-dfab-4b0e-c6d1-c17f1c49a09c",
        "colab": {
          "base_uri": "https://localhost:8080/",
          "height": 413
        }
      },
      "outputs": [
        {
          "output_type": "display_data",
          "data": {
            "text/plain": [
              "<Figure size 600x400 with 1 Axes>"
            ],
            "image/png": "[encoded data removed]"
          },
          "metadata": {}
        }
      ],
      "source": [
        "alpha_2 = 1.0 + data_fake.sum()\n",
        "beta_2 = 1.0 + N - data_fake.sum()\n",
        "Theta_2_post = st.beta(alpha_2, beta_2)\n",
        "\n",
        "fig, ax = plt.subplots()\n",
        "thetas = np.linspace(0, 1, 100)\n",
        "ax.plot(\n",
        "    thetas,\n",
        "    Theta_2_post.pdf(thetas),\n",
        "    label=r'$p(\\theta|x_{1:n})$'\n",
        ")\n",
        "ax.set_xlabel(r'$\\theta$')\n",
        "ax.set_title('$n={N}$')\n",
        "plt.legend(loc='best');"
      ]
    },
    {
      "cell_type": "markdown",
      "metadata": {
        "id": "M339JH16JBVw"
      },
      "source": [
        "Let's see if the visual comparison to replicated data reveals that the data did not really come from a fair coin."
      ]
    },
    {
      "cell_type": "code",
      "execution_count": 37,
      "metadata": {
        "id": "yiZjY4cLJBVx",
        "outputId": "bfd6d149-3fe3-4b18-9dde-497d5aa48ab7",
        "colab": {
          "base_uri": "https://localhost:8080/",
          "height": 231
        }
      },
      "outputs": [
        {
          "output_type": "display_data",
          "data": {
            "text/plain": [
              "<Figure size 3000x1000 with 1 Axes>"
            ],
            "image/png": "[encoded data removed]"
          },
          "metadata": {}
        }
      ],
      "source": [
        "x_2_rep = replicate_experiment(Theta_2_post)\n",
        "    \n",
        "fig, ax = plt.subplots(figsize=(30, 10))\n",
        "ax.imshow(np.vstack([data_fake, x_2_rep]));"
      ]
    },
    {
      "cell_type": "markdown",
      "metadata": {
        "id": "TU28a_oxJBVz"
      },
      "source": [
        "If you pay close attention you will notice that the data I picked by hand has more transitions from heads to tails than the replicated data.\n",
        "In other words, the replicated data seem to have longer consecutive series of either heads or tails.\n",
        "How can we see this more clearly?"
      ]
    },
    {
      "cell_type": "markdown",
      "metadata": {
        "id": "-Ym17RjeJBV0"
      },
      "source": [
        "### Test quantities and visual inspections\n",
        "\n",
        "We use *test quantities* to characterize the discrepancy between the model and the data.\n",
        "In particular, test quantities help us zoom into the characteristsics of the data that are of particular interest to us.\n",
        "Mathematically, a test quantity is a scalar function of the data and the model parameters $T(x_{1:n},\\theta)$.\n",
        "There are some general recipies for creating test quantities for regression and classification.\n",
        "However, in general, you must use common sense in selecting them.\n",
        "What are the important characteristics of the data that your model should be capturing.\n",
        "We will be seeing specific examples below.\n",
        "\n",
        "Now, assume that you have selected one, or more, test quantities.\n",
        "What do you do with them?\n",
        "Well, the easiest thing to do is a visual comparison of the histogram of the test quantity over replicated data, i.e., of\n",
        "$p(T(x^{\\text{rep}}_{1:n},\\theta) | x_{1:n})$, and compare it to the observe value $T(x_{1:n},\\theta)$.\n",
        "In these plots you are trying to see how likely or unlikely is observed test quantity according to your model.\n",
        "We will be visualizing them next for the coin toss example.\n",
        "\n",
        "### Test quantities and Bayesian $p$-values\n",
        "\n",
        "Antother thing that you can do to check your model is to evaluate the probability that the replicated data give you a test quantity that is more extreme than the observed value.\n",
        "This probability is known as the posterior (or Bayesian) $p$-value and it is defined by:\n",
        "\n",
        "$$\n",
        "p_B = \\mathbb{P}(T(x^{\\text{rep}}_{1:n},\\theta) > T(x_{1:n},\\theta) | x_{1:n}) = \\int 1_{[T(x_{1:n},\\theta),\\infty]}(T(x^{\\text{rep}}_{1:n})) p(x^{\\text{rep}}_{1:n}, \\theta|x_{1:n}) dx^{\\text{rep}}_{1:n}d\\theta.\n",
        "$$\n",
        "\n",
        "Of course, you can just estimate the Bayesian $p$-value using Monte Carlo sampling from the joint posterior of $x^{\\text{rep}}_{1:n}$ and $\\theta$ conditioned on the data $x_{1:n}$.\n",
        "\n",
        "How should I interpret the Bayesian $p$-values?\n",
        "**It is not the probability that your model is correct.**\n",
        "We will derive this probability in the Bayesian model selection lecture.\n",
        "The Bayesian $p$-value is the probability that replications of the experiment will yield test quantitys that exceed the observed value under the assumption that your model is correct.\n",
        "So, here is a nice way to interpret them:\n",
        "+ A Bayesian $p$-value close to $0$ or $1$ indicates that the observed test quantity is unlikely under the assumption that your model is correct. So your model does not capture this aspect of the data. You probably need expand/modify your model somehow.\n",
        "\n",
        "## Back to the coin toss example\n",
        "\n",
        "What are some good test quantities that we can pick for this example.\n",
        "An obvious one is the number of heads.\n",
        "This is only a function of the data.\n",
        "It is:\n",
        "\n",
        "$$\n",
        "T_{h}(x_{1:n}) = \\sum_{i=1}^nx_i.\n",
        "$$\n",
        "\n",
        "Let's implement this as a Python function of the data:"
      ]
    },
    {
      "cell_type": "code",
      "execution_count": 38,
      "metadata": {
        "id": "W_aiD8TqJBV2"
      },
      "outputs": [],
      "source": [
        "def T_h(x):\n",
        "    \"\"\"Return the sum of x.\"\"\"\n",
        "    return x.sum()"
      ]
    },
    {
      "cell_type": "markdown",
      "metadata": {
        "id": "MRwrZEWnJBV4"
      },
      "source": [
        "Remember, that we have run this example with two datasets: one that was generated from the correct model and one that was generated by hand.\n",
        "We will see the results that we get from both.\n",
        "\n",
        "Let's put everything in a function because we are going to be using this repeatedly:"
      ]
    },
    {
      "cell_type": "code",
      "execution_count": 39,
      "metadata": {
        "tags": [
          "hide-input"
        ],
        "id": "SihC7-YwJBV6"
      },
      "outputs": [],
      "source": [
        "def perform_diagnostics(post_rv, data, test_func, n_rep=1000):\n",
        "    \"\"\"Calculate Bayesian p-values.\n",
        "    \n",
        "    Arguments\n",
        "    post_rv   -- The random variable object corresponding to\n",
        "                 the posterior from which to sample.\n",
        "    data      -- The training data.\n",
        "    test_func -- The test function.\n",
        "    n         -- The number of observations.\n",
        "    nrep      -- The number of repetitions.\n",
        "    \n",
        "    Returns a dictionary that includes the observed value of\n",
        "    the test function (T_obs), the Bayesian p-value (p_val),\n",
        "    the replicated test statistic (T_rep),\n",
        "    and all the replicated data (data_rep).\n",
        "    \"\"\"\n",
        "    T_obs = test_func(data)\n",
        "    n = data.shape[0]\n",
        "    data_rep = replicate_experiment(post_rv, n_rep=n_rep)\n",
        "    T_rep = np.array(\n",
        "        tuple(\n",
        "            test_func(x)\n",
        "            for x in data_rep\n",
        "        )\n",
        "    )\n",
        "    p_val = (\n",
        "        np.sum(np.ones((n_rep,))[T_rep > T_obs]) / n_rep\n",
        "    )\n",
        "    return dict(\n",
        "        T_obs=T_obs,\n",
        "        p_val=p_val,\n",
        "        T_rep=T_rep,\n",
        "        data_rep=data_rep\n",
        "    )"
      ]
    },
    {
      "cell_type": "markdown",
      "metadata": {
        "id": "D2dthWi0JBV8"
      },
      "source": [
        "Here is how to use it:"
      ]
    },
    {
      "cell_type": "code",
      "execution_count": 40,
      "metadata": {
        "id": "sFTZ2FkBJBV9",
        "outputId": "37375c66-5893-4b7e-ccd9-36695d7fb4c8",
        "colab": {
          "base_uri": "https://localhost:8080/"
        }
      },
      "outputs": [
        {
          "output_type": "stream",
          "name": "stdout",
          "text": [
            "The observed test quantity is 49\n",
            "The Bayesian p_value is 0.4940\n"
          ]
        }
      ],
      "source": [
        "res = perform_diagnostics(\n",
        "    Theta_post,\n",
        "    data,\n",
        "    T_h\n",
        ")\n",
        "\n",
        "T_h_obs = res[\"T_obs\"]\n",
        "p_val = res[\"p_val\"]\n",
        "\n",
        "print(f'The observed test quantity is {T_h_obs}')\n",
        "print(f'The Bayesian p_value is {p_val:.4f}')"
      ]
    },
    {
      "cell_type": "markdown",
      "metadata": {
        "id": "OSI4pJ6BJBV-"
      },
      "source": [
        "Let's now write a function that makes a diagnostics plot:"
      ]
    },
    {
      "cell_type": "code",
      "execution_count": 41,
      "metadata": {
        "tags": [
          "hide-input"
        ],
        "id": "z9tWNS3RJBV_"
      },
      "outputs": [],
      "source": [
        "def plot_diagnostics(diagnostics):\n",
        "    \"\"\"Make the diagnostics plot.\n",
        "    \n",
        "    Arguments:\n",
        "    diagnostics -- The dictionary returned by perform_diagnostics()\n",
        "    \"\"\"\n",
        "    fig, ax = plt.subplots()\n",
        "    tmp = ax.hist(\n",
        "        diagnostics[\"T_rep\"],\n",
        "        density=True,\n",
        "        alpha=0.25,\n",
        "        label='Replicated test quantity'\n",
        "    )[0]\n",
        "    ax.plot(\n",
        "        diagnostics[\"T_obs\"] * np.ones((50,)),\n",
        "        np.linspace(0, tmp.max(), 50),\n",
        "        'k',\n",
        "        label='Observed test quantity'\n",
        "    )\n",
        "    plt.legend(loc='best');"
      ]
    },
    {
      "cell_type": "markdown",
      "metadata": {
        "id": "kZBDg8SJJBWA"
      },
      "source": [
        "And let's use it:"
      ]
    },
    {
      "cell_type": "code",
      "execution_count": 42,
      "metadata": {
        "tags": [
          "hide-input"
        ],
        "id": "GMIGRcJqJBWC",
        "outputId": "d7f06ed7-37d5-4e65-8cf9-26bae0875c78",
        "colab": {
          "base_uri": "https://localhost:8080/",
          "height": 370
        }
      },
      "outputs": [
        {
          "output_type": "display_data",
          "data": {
            "text/plain": [
              "<Figure size 600x400 with 1 Axes>"
            ],
            "image/png": "[encoded data removed]"
          },
          "metadata": {}
        }
      ],
      "source": [
        "plot_diagnostics(res)"
      ]
    },
    {
      "cell_type": "markdown",
      "metadata": {
        "id": "1EoCZ1e6JBWD"
      },
      "source": [
        "To save us some typing, let's combine the calculation and the plots in a single function:"
      ]
    },
    {
      "cell_type": "code",
      "execution_count": 43,
      "metadata": {
        "tags": [
          "hide-input"
        ],
        "id": "-ODH5N_xJBWE"
      },
      "outputs": [],
      "source": [
        "def do_diagnostics(post_rv, data, test_func, n_rep=1000):\n",
        "    \"\"\"Calculate Bayesian p-values and make the corresponding\n",
        "    diagnostic plot.\n",
        "    \n",
        "    Arguments\n",
        "    post_rv   -- The random variable object corresponding to\n",
        "                 the posterior from which to sample.\n",
        "    data      -- The training data.\n",
        "    test_func -- The test function.\n",
        "    n         -- The number of observations.\n",
        "    nrep      -- The number of repetitions.\n",
        "    \n",
        "    Returns a dictionary that includes the observed value of\n",
        "    the test function (T_obs), the Bayesian p-value (p_val),\n",
        "    and the replicated experiment (data_rep).\n",
        "    \"\"\"\n",
        "    res = perform_diagnostics(\n",
        "        post_rv,\n",
        "        data,\n",
        "        test_func,\n",
        "        n_rep=n_rep\n",
        "    )\n",
        "\n",
        "    T_obs = res[\"T_obs\"]\n",
        "    p_val = res[\"p_val\"]\n",
        "\n",
        "    print(f'The observed test quantity is {T_obs}')\n",
        "    print(f'The Bayesian p_value is {p_val:.4f}')\n",
        "    \n",
        "    plot_diagnostics(res)"
      ]
    },
    {
      "cell_type": "markdown",
      "metadata": {
        "id": "1gMPVgC0JBWG"
      },
      "source": [
        "Now, let's look also at the other dataset (the one we picked by hand):"
      ]
    },
    {
      "cell_type": "code",
      "execution_count": 44,
      "metadata": {
        "id": "M6_EF_-eJBWH",
        "outputId": "403cb416-4e05-4631-aa96-068a40affa7d",
        "colab": {
          "base_uri": "https://localhost:8080/",
          "height": 403
        }
      },
      "outputs": [
        {
          "output_type": "stream",
          "name": "stdout",
          "text": [
            "The observed test quantity is 45\n",
            "The Bayesian p_value is 0.4520\n"
          ]
        },
        {
          "output_type": "display_data",
          "data": {
            "text/plain": [
              "<Figure size 600x400 with 1 Axes>"
            ],
            "image/png": "[encoded data removed]"
          },
          "metadata": {}
        }
      ],
      "source": [
        "do_diagnostics(\n",
        "    Theta_2_post,\n",
        "    data_fake,\n",
        "    T_h\n",
        ")"
      ]
    },
    {
      "cell_type": "markdown",
      "metadata": {
        "id": "20aswXu4JBWJ"
      },
      "source": [
        "It looks about the same. This just means that I was able to replicate this particular test quantity when I picked values by hand.\n",
        "Can we find a better statistic?\n",
        "Remember our observation when we plotted the replicated data vs the true data for the second case.\n",
        "We observed that my hand-picked data included more transitions from heads to tails.\n",
        "Let's build a statistic that captures that.\n",
        "We are going to take this:\n",
        "\n",
        "$$\n",
        "T_s(x) = \\text{# number of switches from 0 and 1 in the sequence}\\;x.\n",
        "$$\n",
        "\n",
        "This is not easy to write in an analytical form, but we can program it:"
      ]
    },
    {
      "cell_type": "code",
      "execution_count": 45,
      "metadata": {
        "id": "WjdwC6APJBWL"
      },
      "outputs": [],
      "source": [
        "def T_s(x):\n",
        "    \"\"\"Return the number of switches between 0s and 1s.\"\"\"\n",
        "    s = 0\n",
        "    for i in range(1, x.shape[0]):\n",
        "        if x[i] != x[i-1]:\n",
        "            s += 1\n",
        "    return s"
      ]
    },
    {
      "cell_type": "markdown",
      "metadata": {
        "id": "YMUtF7ypJBWM"
      },
      "source": [
        "Let's look first at the original dataset:"
      ]
    },
    {
      "cell_type": "code",
      "execution_count": 46,
      "metadata": {
        "id": "Tje5f913JBWN",
        "outputId": "3b7c72db-af6a-41d1-ed35-fc9eb4f51e68",
        "colab": {
          "base_uri": "https://localhost:8080/",
          "height": 403
        }
      },
      "outputs": [
        {
          "output_type": "stream",
          "name": "stdout",
          "text": [
            "The observed test quantity is 50\n",
            "The Bayesian p_value is 0.3960\n"
          ]
        },
        {
          "output_type": "display_data",
          "data": {
            "text/plain": [
              "<Figure size 600x400 with 1 Axes>"
            ],
            "image/png": "[encoded data removed]"
          },
          "metadata": {}
        }
      ],
      "source": [
        "do_diagnostics(\n",
        "    Theta_post,\n",
        "    data,\n",
        "    T_s\n",
        ")"
      ]
    },
    {
      "cell_type": "markdown",
      "metadata": {
        "id": "6aBuRRKYJBWO"
      },
      "source": [
        "This looks okay. \n",
        "\n",
        "Let's now look at the one I picked by hand:"
      ]
    },
    {
      "cell_type": "code",
      "execution_count": 47,
      "metadata": {
        "id": "tj1t-T79JBWQ",
        "outputId": "d8de76b3-86c4-4cb5-c5f2-4639b331fd45",
        "colab": {
          "base_uri": "https://localhost:8080/",
          "height": 403
        }
      },
      "outputs": [
        {
          "output_type": "stream",
          "name": "stdout",
          "text": [
            "The observed test quantity is 68\n",
            "The Bayesian p_value is 0.0000\n"
          ]
        },
        {
          "output_type": "display_data",
          "data": {
            "text/plain": [
              "<Figure size 600x400 with 1 Axes>"
            ],
            "image/png": "[encoded data removed]"
          },
          "metadata": {}
        }
      ],
      "source": [
        "do_diagnostics(\n",
        "    Theta_2_post,\n",
        "    data_fake,\n",
        "    T_s\n",
        ")"
      ]
    },
    {
      "cell_type": "markdown",
      "metadata": {
        "id": "hhQXHNyBJBWQ"
      },
      "source": [
        "The data are highly unlikely under the assumptions of this model.\n",
        "\n",
        "## Questions\n",
        "+ Rerun all the steps above with a larger number $N$ of coin toss observations."
      ]
    },
    {
      "cell_type": "markdown",
      "source": [
        "Doubling the number of observations made the observed test quantity fall more likely in the range (in the middle of the histogram, instead of within a side bin...)"
      ],
      "metadata": {
        "id": "WILFmEMTPZga"
      }
    }
  ],
  "metadata": {
    "celltoolbar": "Tags",
    "kernelspec": {
      "display_name": "Python 3 (ipykernel)",
      "language": "python",
      "name": "python3"
    },
    "language_info": {
      "codemirror_mode": {
        "name": "ipython",
        "version": 3
      },
      "file_extension": ".py",
      "mimetype": "text/x-python",
      "name": "python",
      "nbconvert_exporter": "python",
      "pygments_lexer": "ipython3",
      "version": "3.9.12"
    },
    "colab": {
      "name": "hands-on-12.4.ipynb",
      "provenance": [],
      "include_colab_link": true
    }
  },
  "nbformat": 4,
  "nbformat_minor": 0
}