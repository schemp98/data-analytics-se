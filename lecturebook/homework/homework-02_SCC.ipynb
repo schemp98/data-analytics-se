{
  "cells": [
    {
      "cell_type": "markdown",
      "metadata": {
        "id": "view-in-github",
        "colab_type": "text"
      },
      "source": [
        "<a href=\"https://colab.research.google.com/github/schemp98/data-analytics-se/blob/master/lecturebook/homework/homework-02_SCC.ipynb\" target=\"_parent\"><img src=\"https://colab.research.google.com/assets/colab-badge.svg\" alt=\"Open In Colab\"/></a>"
      ]
    },
    {
      "cell_type": "markdown",
      "metadata": {
        "id": "hqDYODiCQKrP"
      },
      "source": [
        "# Homework 2\n",
        "\n",
        "\n",
        "## References\n",
        "\n",
        "+ Lectures 3-6 (inclusive).\n",
        "\n",
        "## Instructions\n",
        "\n",
        "+ Type your name and email in the \"Student details\" section below.\n",
        "+ Develop the code and generate the figures you need to solve the problems using this notebook.\n",
        "+ For the answers that require a mathematical proof or derivation you should type them using latex. If you have never written latex before and you find it exceedingly difficult, we will likely accept handwritten solutions.\n",
        "+ The total homework points are 100. Please note that the problems are not weighed equally."
      ]
    },
    {
      "cell_type": "code",
      "execution_count": 1,
      "metadata": {
        "tags": [
          "hide-input"
        ],
        "id": "fBseIDxgQKrY"
      },
      "outputs": [],
      "source": [
        "import numpy as np\n",
        "np.set_printoptions(precision=3)\n",
        "import matplotlib.pyplot as plt\n",
        "%matplotlib inline\n",
        "import seaborn as sns\n",
        "sns.set(rc={\"figure.dpi\":100, \"savefig.dpi\":300})\n",
        "sns.set_context(\"notebook\")\n",
        "sns.set_style(\"ticks\")\n",
        "\n",
        "import scipy\n",
        "import scipy.stats as st\n",
        "import urllib.request\n",
        "import os\n",
        "\n",
        "def download(\n",
        "    url : str,\n",
        "    local_filename : str = None\n",
        "):\n",
        "    \"\"\"Download a file from a url.\n",
        "    \n",
        "    Arguments\n",
        "    url            -- The url we want to download.\n",
        "    local_filename -- The filemame to write on. If not\n",
        "                      specified \n",
        "    \"\"\"\n",
        "    if local_filename is None:\n",
        "        local_filename = os.path.basename(url)\n",
        "    urllib.request.urlretrieve(url, local_filename)"
      ]
    },
    {
      "cell_type": "markdown",
      "metadata": {
        "id": "ap5g63Y1QKrd"
      },
      "source": [
        "## Student details\n",
        "\n",
        "+ **First Name:** Shaun\n",
        "+ **Last Name:** Chemplavil\n",
        "+ **Email:** schempla@purdue.edu"
      ]
    },
    {
      "cell_type": "markdown",
      "metadata": {
        "id": "eoLnl1K6QKrh"
      },
      "source": [
        "## Problem 1 - Failure of a mechanical component\n",
        "\n",
        "Assume that you designing a gear for a mechanical system.\n",
        "Under normal operating conditions the gear is expected to fail at a random time.\n",
        "Let $T$ be a random variable capturing the time the gear fails.\n",
        "What should the probability density of $T$ look like?\n",
        "\n",
        "Here are some hypothetical data to work with.\n",
        "Suppose that we took ten gears and we worked them until failure.\n",
        "The failure times (say in years) are as follows:"
      ]
    },
    {
      "cell_type": "code",
      "execution_count": 2,
      "metadata": {
        "id": "m3rB1vJNQKrm"
      },
      "outputs": [],
      "source": [
        "time_to_fail_data = np.array(\n",
        "    [\n",
        "        10.5,\n",
        "        7.5,\n",
        "        8.1,\n",
        "        8.4,\n",
        "        11.2,\n",
        "        9.3,\n",
        "        8.9,\n",
        "        12.4\n",
        "    ]\n",
        ")"
      ]
    },
    {
      "cell_type": "markdown",
      "metadata": {
        "id": "isRRo-r5QKrp"
      },
      "source": [
        "Why does each gear fail at different times?\n",
        "There are several sources of uncertainty.\n",
        "The most important are:\n",
        "\n",
        "- Manufacturing imperfections.\n",
        "- Different loading conditions.\n",
        "\n",
        "If this was a controlled fatigue experiment, then we could eliminate the second source of uncertainty by using exactly the same loading conditions.\n",
        "\n",
        "Now, we are going to fit a probability density function to these data.\n",
        "Which one should we use?\n",
        "Well, new gears do not fail easily.\n",
        "So, the probability density function of $T$ should be close to zero for small $T$.\n",
        "As time goes by, the probability density should increase because various things start happening to the material, e.g., crack formation, fatigue, etc. \n",
        "Finally, the probability density must again start going to zero as time further increases because nothing lasts forever...\n",
        "A probability distribution that is commonly used to model this situation is the [Weibull](https://en.wikipedia.org/wiki/Weibull_distribution).\n",
        "We are going to fit some fail time data to a Weibull distribution and then you will have to answer a few questions about failing times.\n",
        "\n",
        "The Weibull has parameters and we are going to fit them to the available data.\n",
        "The method we are going to use is called the *maximum likelihood method*.\n",
        "We haven't really talked about this, and it is not important to know what it is to do this homework problem.\n",
        "We will learn about maximum likelihood in later lectures.\n",
        "Here is how we fit the parameters using `scipy.stats`:"
      ]
    },
    {
      "cell_type": "code",
      "execution_count": 3,
      "metadata": {
        "id": "YySdwoacQKrt",
        "outputId": "bdffaa57-c01a-475c-8746-08f77e27a67d",
        "colab": {
          "base_uri": "https://localhost:8080/"
        }
      },
      "outputs": [
        {
          "output_type": "stream",
          "name": "stdout",
          "text": [
            "Fitted parameters: (448.066965711728, 0.7099665338918923, 3.4218808260575804, 0.41627831297126994)\n"
          ]
        }
      ],
      "source": [
        "fitted_params = st.exponweib.fit(time_to_fail_data, loc=0)\n",
        "T = st.exponweib(*fitted_params)\n",
        "print(f\"Fitted parameters: {fitted_params}\")"
      ]
    },
    {
      "cell_type": "markdown",
      "metadata": {
        "id": "2YISsVkxQKrv"
      },
      "source": [
        "Let's plot the fitted Weibul PDF and the data we used:"
      ]
    },
    {
      "cell_type": "code",
      "execution_count": 4,
      "metadata": {
        "tags": [
          "hide-input"
        ],
        "id": "fj7iAimGQKry",
        "outputId": "1511f0e9-c07e-4dd4-b528-53cf69126035",
        "colab": {
          "base_uri": "https://localhost:8080/",
          "height": 289
        }
      },
      "outputs": [
        {
          "output_type": "display_data",
          "data": {
            "text/plain": [
              "<Figure size 432x288 with 1 Axes>"
            ],
            "image/png": "[encoded data removed]"
          },
          "metadata": {
            "needs_background": "light"
          }
        }
      ],
      "source": [
        "fig, ax = plt.subplots()\n",
        "ts = np.linspace(0.0, 20.0, 100)\n",
        "ax.plot(\n",
        "    ts,\n",
        "    T.pdf(ts),\n",
        "    label=\"Fitted PDF\"\n",
        ")\n",
        "ax.plot(\n",
        "    time_to_fail_data,\n",
        "    np.zeros_like(time_to_fail_data),\n",
        "    \"x\",\n",
        "    label=\"Experimental data\"\n",
        ")\n",
        "ax.set_xlabel(r\"$t$ (years)\")\n",
        "ax.set_ylabel(r\"$p(t)$\")\n",
        "plt.legend(loc=\"best\");"
      ]
    },
    {
      "cell_type": "markdown",
      "metadata": {
        "id": "az5WkhA3QKr2"
      },
      "source": [
        "Now you have to answer a series of questions about the random variable $T$ that we just fitted."
      ]
    },
    {
      "cell_type": "markdown",
      "metadata": {
        "id": "m7j4LfSEQKr4"
      },
      "source": [
        "A. Find the mean fail time and its variance.\n",
        "Hint: Do not integrate anything by hand. Just use the functionality of ``scipy.stats``."
      ]
    },
    {
      "cell_type": "code",
      "execution_count": 5,
      "metadata": {
        "id": "jjgc6NRBQKr6",
        "outputId": "b09077cf-f255-4df9-a891-457988f8a91b",
        "colab": {
          "base_uri": "https://localhost:8080/"
        }
      },
      "outputs": [
        {
          "output_type": "stream",
          "name": "stdout",
          "text": [
            "E[T] = 0.00\n",
            "V[T] = 0.00\n"
          ]
        }
      ],
      "source": [
        "# Your code here\n",
        "t_mean = 0.0 # Change me\n",
        "t_var = 0.0 # Change me\n",
        "print(f\"E[T] = {t_mean:.2f}\")\n",
        "print(f\"V[T] = {t_var:.2f}\")"
      ]
    },
    {
      "cell_type": "markdown",
      "metadata": {
        "id": "PGEy_7BlQKr8"
      },
      "source": [
        "B. Plot the cumulative distribution function $F(t) = P(T\\le t)$ of $T$."
      ]
    },
    {
      "cell_type": "code",
      "execution_count": 6,
      "metadata": {
        "id": "Jsxeaw8_QKr-",
        "colab": {
          "base_uri": "https://localhost:8080/",
          "height": 289
        },
        "outputId": "88ece837-02b0-4747-b163-e0a777fbbb72"
      },
      "outputs": [
        {
          "output_type": "display_data",
          "data": {
            "text/plain": [
              "<Figure size 432x288 with 1 Axes>"
            ],
            "image/png": "[encoded data removed]"
          },
          "metadata": {
            "needs_background": "light"
          }
        }
      ],
      "source": [
        "fig, ax = plt.subplots()\n",
        "ax.plot(ts, T.cdf(ts), lw=2)\n",
        "ax.set_xlabel(\"$t$ (years)\")\n",
        "ax.set_ylabel(\"$F(t)$\");"
      ]
    },
    {
      "cell_type": "markdown",
      "metadata": {
        "id": "XtGeRoOnQKsA"
      },
      "source": [
        "C. Plot the probability that gear survives for more than $t$ as a function of $t$.\n",
        "That is, plot the function:\n",
        "\n",
        "$$\n",
        "S(t) = p(T > t).\n",
        "$$\n",
        "\n",
        "Hint: First connect $S(t)$ to the cumulative distribution function $F(t)$ of $T$."
      ]
    },
    {
      "cell_type": "code",
      "execution_count": 7,
      "metadata": {
        "id": "_70z__S6QKsC",
        "colab": {
          "base_uri": "https://localhost:8080/",
          "height": 289
        },
        "outputId": "acb175ab-7d9e-48d5-f528-39ba67bffec0"
      },
      "outputs": [
        {
          "output_type": "display_data",
          "data": {
            "text/plain": [
              "<Figure size 432x288 with 1 Axes>"
            ],
            "image/png": "[encoded data removed]"
          },
          "metadata": {
            "needs_background": "light"
          }
        }
      ],
      "source": [
        "fig, ax = plt.subplots()\n",
        "\n",
        "ax.plot(ts, 1-T.cdf(ts), lw=2)\n",
        "ax.set_xlabel(\"$t$ (years)\")\n",
        "ax.set_ylabel(\"$S(t)$\");"
      ]
    },
    {
      "cell_type": "markdown",
      "metadata": {
        "id": "7GUcFJSfQKsE"
      },
      "source": [
        "D. Find the probability that the gear lasts anywhere between 8 and 10 years."
      ]
    },
    {
      "cell_type": "code",
      "execution_count": 8,
      "metadata": {
        "id": "Cc4hvTNgQKsG",
        "colab": {
          "base_uri": "https://localhost:8080/"
        },
        "outputId": "8a8b1a80-a819-4fbb-bf01-32085254c64d"
      },
      "outputs": [
        {
          "output_type": "stream",
          "name": "stdout",
          "text": [
            "p(8.00 <= T <= 10.00) = 0.47\n"
          ]
        }
      ],
      "source": [
        "a = 8\n",
        "b = 10\n",
        "prob_T_is_in_ab = 1 - (T.cdf(b)-T.cdf(a))\n",
        "\n",
        "print(f\"p({a:.2f} <= T <= {b:.2f}) = {prob_T_is_in_ab:.2f}\")"
      ]
    },
    {
      "cell_type": "markdown",
      "metadata": {
        "id": "4IJDdujIQKsI"
      },
      "source": [
        "E. If you were to sell the gear, how many years \"warranty\" would you offer?\n",
        "<br>\n",
        "Hint: This is subjective. There are many correct answers.\n",
        "But as a manufacturer of the gear, you really do not want to be replacing any...\n",
        "**Answer:**\n",
        "<br><br><br><br><br><br>"
      ]
    },
    {
      "cell_type": "code",
      "execution_count": 9,
      "metadata": {
        "id": "RQlLfZdCQKsK",
        "colab": {
          "base_uri": "https://localhost:8080/"
        },
        "outputId": "5b7e2f0f-1bfb-46eb-9ede-c076fc6f31ef"
      },
      "outputs": [
        {
          "output_type": "stream",
          "name": "stdout",
          "text": [
            "Probability of failure in 6.00 years = 0.00\n"
          ]
        }
      ],
      "source": [
        "zeroFail_Time = 6  # Chosen based on CDF of S(t)\n",
        "T.cdf(zeroFail_Time)\n",
        "print(f\"Probability of failure in {(zeroFail_Time):.2f} years = {T.cdf(zeroFail_Time):.2f}\")"
      ]
    },
    {
      "cell_type": "markdown",
      "metadata": {
        "id": "GB1MG7RXQKsL"
      },
      "source": [
        "## Problem 2 - Joint probability mass function of two discrete random variables\n",
        "\n",
        "Consider two random variables $X$ and $Y$.\n",
        "$X$ takes values $\\{0,1,\\dots,4\\}$ and $Y$ takes values $\\{0,1,\\dots,8\\}$.\n",
        "Their joint probability mass function, can be described using a matrix:"
      ]
    },
    {
      "cell_type": "code",
      "execution_count": 10,
      "metadata": {
        "id": "B4jXsa_0QKsM"
      },
      "outputs": [],
      "source": [
        "P = np.array(\n",
        "    [\n",
        "        [0.03607908, 0.03760034, 0.00503184, 0.0205082 , 0.01051408,\n",
        "         0.03776221, 0.00131325, 0.03760817, 0.01770659],\n",
        "        [0.03750162, 0.04317351, 0.03869997, 0.03069872, 0.02176718,\n",
        "         0.04778769, 0.01021053, 0.00324185, 0.02475319],\n",
        "        [0.03770951, 0.01053285, 0.01227089, 0.0339596 , 0.02296711,\n",
        "         0.02187814, 0.01925662, 0.0196836 , 0.01996279],\n",
        "        [0.02845139, 0.01209429, 0.02450163, 0.00874645, 0.03612603,\n",
        "         0.02352593, 0.00300314, 0.00103487, 0.04071951],\n",
        "        [0.00940187, 0.04633153, 0.01094094, 0.00172007, 0.00092633,\n",
        "         0.02032679, 0.02536328, 0.03552956, 0.01107725]\n",
        "    ]\n",
        ")"
      ]
    },
    {
      "cell_type": "markdown",
      "metadata": {
        "id": "LHJ7TS7GQKsN"
      },
      "source": [
        "The rows of the matrix correspond to the values of $X$ and the columns to the values of $Y$.\n",
        "So, if you wanted to find the probability of $p(X=2, Y=3)$ you would do:"
      ]
    },
    {
      "cell_type": "code",
      "execution_count": 11,
      "metadata": {
        "id": "dWrMCpYMQKsO",
        "outputId": "9660d505-79b6-4a9f-d43b-164d3eab8e31",
        "colab": {
          "base_uri": "https://localhost:8080/"
        }
      },
      "outputs": [
        {
          "output_type": "stream",
          "name": "stdout",
          "text": [
            "p(X=2, Y=3) = 0.034\n"
          ]
        }
      ],
      "source": [
        "print(f\"p(X=2, Y=3) = {P[2, 3]:.3f}\")"
      ]
    },
    {
      "cell_type": "markdown",
      "metadata": {
        "id": "KjWLUFqjQKsQ"
      },
      "source": [
        "A. Verify that all the elements of $P$ sum to one, i.e., that $\\sum_{x,y}p(X=x, Y=y) = 1$."
      ]
    },
    {
      "cell_type": "code",
      "execution_count": 15,
      "metadata": {
        "id": "CvmsGd8dQKsR",
        "colab": {
          "base_uri": "https://localhost:8080/"
        },
        "outputId": "1850b46c-f87a-4904-d482-5af88e34ad51"
      },
      "outputs": [
        {
          "output_type": "stream",
          "name": "stdout",
          "text": [
            "sum of P = 1.00\n"
          ]
        }
      ],
      "source": [
        "# First Marginalize over Y then sum the result\n",
        "print(f\"sum of P = {np.sum(np.sum(P, axis=1)):.2f}\")"
      ]
    },
    {
      "cell_type": "markdown",
      "metadata": {
        "id": "KneCTKTTQKsS"
      },
      "source": [
        "B. Find the marginal probability density of $X$:\n",
        "\n",
        "$$\n",
        "p(x) = \\sum_{y}p(x,y).\n",
        "$$\n",
        "\n",
        "You can represent this as a 5-dimensional vector."
      ]
    },
    {
      "cell_type": "code",
      "execution_count": 18,
      "metadata": {
        "id": "aEmvfBgVQKsT",
        "outputId": "6467c729-d8b8-4fdd-a452-17ee15e07f61",
        "colab": {
          "base_uri": "https://localhost:8080/"
        }
      },
      "outputs": [
        {
          "output_type": "stream",
          "name": "stdout",
          "text": [
            "sum of p_x = [0.204 0.258 0.198 0.178 0.162]\n"
          ]
        }
      ],
      "source": [
        "# Hint, you can do this in one line if you read this:\n",
        "p_x = np.sum(P, axis=1) # Marginalize over Y\n",
        "print(f\"sum of p_x = {p_x}\")"
      ]
    },
    {
      "cell_type": "markdown",
      "metadata": {
        "id": "seNI76dsQKsU"
      },
      "source": [
        "C. Find the marginal probability density of $Y$. This is a 9-dimensional vector."
      ]
    },
    {
      "cell_type": "code",
      "execution_count": 19,
      "metadata": {
        "id": "TV_js_OcQKsY",
        "colab": {
          "base_uri": "https://localhost:8080/"
        },
        "outputId": "3ccbb2d2-7b1c-4be8-f4c7-71ae3f8594e2"
      },
      "outputs": [
        {
          "output_type": "stream",
          "name": "stdout",
          "text": [
            "sum of p_y = [0.149 0.15  0.091 0.096 0.092 0.151 0.059 0.097 0.114]\n"
          ]
        }
      ],
      "source": [
        "p_y = np.sum(P, axis=0) # Marginalize over X\n",
        "print(f\"sum of p_y = {p_y}\")"
      ]
    },
    {
      "cell_type": "markdown",
      "metadata": {
        "id": "ZnKuqrIoQKsa"
      },
      "source": [
        "D. Find the expectation and variance of $X$ and $Y$."
      ]
    },
    {
      "cell_type": "code",
      "execution_count": 22,
      "metadata": {
        "id": "NUz9TPpZQKsb",
        "colab": {
          "base_uri": "https://localhost:8080/"
        },
        "outputId": "eb38e99d-b4da-436a-f65b-dad196f522de"
      },
      "outputs": [
        {
          "output_type": "stream",
          "name": "stdout",
          "text": [
            "E[X] = 1.84\n",
            "V[X] = 1.87\n",
            "E[Y] = 3.69\n",
            "V[Y] = 7.19\n"
          ]
        }
      ],
      "source": [
        "# Expectation of X\n",
        "E_X = np.sum(np.arange(5) * p_x)\n",
        "print(f\"E[X] = {E_X:.2f}\")\n",
        "# Variance of X\n",
        "E_X2 = np.sum(np.arange(5) ** 2 * p_x)\n",
        "V_X = E_X2 - E_X ** 2\n",
        "print(f\"V[X] = {V_X:.2f}\")\n",
        "\n",
        "\n",
        "# Expectation of Y\n",
        "E_Y = np.sum(np.arange(9) * p_y)\n",
        "print(f\"E[Y] = {E_Y:.2f}\")\n",
        "# Variance of Y\n",
        "E_Y2 = np.sum(np.arange(9) ** 2 * p_y)\n",
        "V_Y = E_Y2 - E_Y ** 2\n",
        "print(f\"V[Y] = {V_Y:.2f}\")"
      ]
    },
    {
      "cell_type": "markdown",
      "metadata": {
        "id": "I1NPYJWNQKsc"
      },
      "source": [
        "E. Find the expectation of $E[X + Y]$."
      ]
    },
    {
      "cell_type": "code",
      "execution_count": 23,
      "metadata": {
        "id": "T_1yNfvCQKsd"
      },
      "outputs": [],
      "source": [
        "def expectation(f, A):\n",
        "    \"\"\"Returns the expectation of the function f(X, Y).\n",
        "    \n",
        "    Arguments:\n",
        "    f -- A function f(X, Y).\n",
        "    A -- A matrix containing the joint probability mass\n",
        "         function of X and Y. Say that A has dimensions\n",
        "         n x m. We assume that X takes values\n",
        "         1, 2, ..., n and that Y takes values\n",
        "         1, 2, ..., m.\n",
        "    \"\"\"\n",
        "    n, m = A.shape\n",
        "    res = 0.\n",
        "    for i in range(n):\n",
        "        for j in range(m):\n",
        "            res += f(i - 1, j - 1) * A[i, j]\n",
        "    return res"
      ]
    },
    {
      "cell_type": "markdown",
      "source": [
        "Create a function to calculate:\n",
        " $f(X, Y) = X + Y$\n",
        "\n"
      ],
      "metadata": {
        "id": "QPRM84WONxYz"
      }
    },
    {
      "cell_type": "code",
      "source": [
        "def f(x, y):\n",
        "    return x + y"
      ],
      "metadata": {
        "id": "CSqdYTkPNUnc"
      },
      "execution_count": 24,
      "outputs": []
    },
    {
      "cell_type": "code",
      "source": [
        "E_f = expectation(f, P)\n",
        "\n",
        "print(f\"E[f(X.Y)] = {E_f:.2f}\")"
      ],
      "metadata": {
        "colab": {
          "base_uri": "https://localhost:8080/"
        },
        "id": "tPDmd1myNYyo",
        "outputId": "45a2604e-5838-47d8-d7c4-eb14936aa901"
      },
      "execution_count": 26,
      "outputs": [
        {
          "output_type": "stream",
          "name": "stdout",
          "text": [
            "E[f(X.Y)] = 3.53\n"
          ]
        }
      ]
    },
    {
      "cell_type": "markdown",
      "metadata": {
        "id": "LKINOUeHQKsf"
      },
      "source": [
        "F. Find the covariance of $X$ and $Y$. Are the two variable correlated? If yes, are they positively or negatively correlated?"
      ]
    },
    {
      "cell_type": "markdown",
      "source": [
        "the formula of covariance of the two random variables is\n",
        "\n",
        "\n",
        "$$\n",
        "\\mathbb{C}[X,Y] = \\sum_{x,y} (x-\\mathbb{E}[X])(y-\\mathbb{E}[Y])p(x,y).\n",
        "$$"
      ],
      "metadata": {
        "id": "YYIZuQRTO5x6"
      }
    },
    {
      "cell_type": "code",
      "execution_count": 31,
      "metadata": {
        "id": "wFmYGn6fQKsg"
      },
      "outputs": [],
      "source": [
        "def covariance(A):\n",
        "    \"\"\"Returns the Covariance of A.\n",
        "    \n",
        "    Arguments:    \n",
        "    A -- A matrix containing the joint probability mass\n",
        "         function of X and Y. Say that A has dimensions\n",
        "         n x m. We assume that X takes values\n",
        "         1, 2, ..., n and that Y takes values\n",
        "         1, 2, ..., m.         \n",
        "    \"\"\"\n",
        "    \n",
        "    n, m = A.shape\n",
        "\n",
        "    # Calculate the Expection of X and Y\n",
        "    E_X = np.sum(np.arange(n) * np.sum(A, axis= 1))\n",
        "    E_Y = np.sum(np.arange(m) * np.sum(A, axis= 0))\n",
        "    \n",
        "    # We will loop over all the possible values\n",
        "    C_XY = 0.0 # Keeping track of the sum\n",
        "    for x in range(n):\n",
        "      for y in range(m):\n",
        "          C_XY += (x - E_X) * (y - E_Y) * A[x, y] # the += means add to the left hand side\n",
        "    return C_XY"
      ]
    },
    {
      "cell_type": "code",
      "source": [
        "print(f\"C[X, Y] = {covariance(P)}\")"
      ],
      "metadata": {
        "colab": {
          "base_uri": "https://localhost:8080/"
        },
        "id": "ZYl6o65QQRQ-",
        "outputId": "c1c32056-f576-40d0-deb3-9c5d43f2cc84"
      },
      "execution_count": 32,
      "outputs": [
        {
          "output_type": "stream",
          "name": "stdout",
          "text": [
            "C[X, Y] = 0.31867736582709294\n"
          ]
        }
      ]
    },
    {
      "cell_type": "markdown",
      "source": [
        " Yes, $X$ and $Y$ are positively correlated"
      ],
      "metadata": {
        "id": "ulosD-zIRGsg"
      }
    },
    {
      "cell_type": "markdown",
      "metadata": {
        "id": "aPcfOt2XQKsh"
      },
      "source": [
        "G. Find the variance of $X + Y$."
      ]
    },
    {
      "cell_type": "markdown",
      "source": [
        " Define a function that corresponds to the square of $f(X,Y)$."
      ],
      "metadata": {
        "id": "lZIvDSxKR0aW"
      }
    },
    {
      "cell_type": "code",
      "source": [
        "def g(x, y):\n",
        "    return f(x, y) ** 2"
      ],
      "metadata": {
        "id": "efxq4V3_RvF3"
      },
      "execution_count": 34,
      "outputs": []
    },
    {
      "cell_type": "markdown",
      "source": [
        "Function to calculate Variance"
      ],
      "metadata": {
        "id": "N4LQLobXSKlW"
      }
    },
    {
      "cell_type": "code",
      "source": [
        "def variance(f,A):\n",
        "  V_f = expectation(g, A) - expectation(f, A) ** 2\n",
        "  return V_f"
      ],
      "metadata": {
        "id": "SBevg8tuSP8k"
      },
      "execution_count": 39,
      "outputs": []
    },
    {
      "cell_type": "markdown",
      "source": [
        "Now calculate the variance"
      ],
      "metadata": {
        "id": "Sqhd8D0OR_Ir"
      }
    },
    {
      "cell_type": "code",
      "execution_count": 42,
      "metadata": {
        "id": "nx2vzPUNQKsi",
        "colab": {
          "base_uri": "https://localhost:8080/"
        },
        "outputId": "bd230aac-0e46-458e-ebab-50e5daed7f0a"
      },
      "outputs": [
        {
          "output_type": "stream",
          "name": "stdout",
          "text": [
            "V[f(X, Y)] = 9.70\n"
          ]
        }
      ],
      "source": [
        "V_f = variance(f,P)\n",
        "\n",
        "print(f\"V[f(X, Y)] = {V_f:.2f}\")"
      ]
    },
    {
      "cell_type": "markdown",
      "metadata": {
        "id": "NK22WojrQKsk"
      },
      "source": [
        "J. Find the probability that $X+Y$ is less than or equal to 5.\n",
        "That is, find $p(X + Y \\le 5)$.\n",
        "Hint: Use two for loops to go over all the combinations of $X$ and $Y$ values, check if $X+Y\\le 5$, and sum up the probabilities."
      ]
    },
    {
      "cell_type": "code",
      "execution_count": 44,
      "metadata": {
        "id": "UDnIG15UQKsl",
        "colab": {
          "base_uri": "https://localhost:8080/"
        },
        "outputId": "6b234443-01eb-4683-8b91-9900f7634387"
      },
      "outputs": [
        {
          "output_type": "stream",
          "name": "stdout",
          "text": [
            "p[X + Y <= 5] = 0.53\n"
          ]
        }
      ],
      "source": [
        "n, m = P.shape\n",
        "\n",
        "p_f = 0.0 # Keeping track of the sum\n",
        "for x in range(n):\n",
        "    for y in range(m):\n",
        "      if f(x,y) <= 5:\n",
        "        p_f += P[x, y] # the += means add to the left hand side\n",
        "print(f\"p[X + Y <= 5] = {p_f:.2f}\")"
      ]
    },
    {
      "cell_type": "markdown",
      "metadata": {
        "id": "kJmDkWBpQKsn"
      },
      "source": [
        "## Problem 3 - Creating a stochastic model for the magnetic properties of steel\n",
        "\n",
        "The magnetic properties of steel are captured in the so called [$B-H$ curve](https://en.wikipedia.org/wiki/Saturation_(magnetic)) which connects the magnetic field $H$ to the magnetic flux density $B$.\n",
        "The shape of this curve depends on the manufacturing process of the steel. As a result the $B-H$ differs across different suppliers but also across time for the same supplier.\n",
        "\n",
        "Let's use some real manufacturer data to visualize these differences.\n",
        "The data are [here](https://github.com/PredictiveScienceLab/data-analytics-se/raw/master/homework/B_data.csv).\n",
        "It will take a while to explain how to upload data on Google Colab.\n",
        "We will do it in the next homework set.\n",
        "For now, you should just know that the data file ``B_data.csv`` needs to be in the same working directory as this Jupyter notebook.\n",
        "I have written a bit of code that allows you to put the data file in the right place without too much trouble.\n",
        "Simply run the following:"
      ]
    },
    {
      "cell_type": "code",
      "execution_count": 46,
      "metadata": {
        "id": "hgtbb73CQKso"
      },
      "outputs": [],
      "source": [
        "# TODO - Update link to new repository\n",
        "url = \"https://github.com/PredictiveScienceLab/data-analytics-se/tree/master/lecturebook/data/B_data.csv\"\n",
        "download(url)"
      ]
    },
    {
      "cell_type": "markdown",
      "metadata": {
        "id": "hnsH4iD4QKsp"
      },
      "source": [
        "If everything worked well, then the following will work:"
      ]
    },
    {
      "cell_type": "code",
      "execution_count": 51,
      "metadata": {
        "id": "KbTece4HQKsq",
        "outputId": "7d404e73-0bb5-4adf-db13-a4ae971bbf66",
        "colab": {
          "base_uri": "https://localhost:8080/"
        }
      },
      "outputs": [
        {
          "output_type": "execute_result",
          "data": {
            "text/plain": [
              "array([[0.   , 0.005, 0.019, ..., 1.793, 1.793, 1.794],\n",
              "       [0.   , 0.004, 0.014, ..., 1.837, 1.837, 1.837],\n",
              "       [0.   , 0.004, 0.014, ..., 1.776, 1.776, 1.776],\n",
              "       ...,\n",
              "       [0.   , 0.003, 0.012, ..., 1.767, 1.767, 1.767],\n",
              "       [0.   , 0.008, 0.031, ..., 1.777, 1.778, 1.778],\n",
              "       [0.   , 0.003, 0.014, ..., 1.765, 1.765, 1.765]])"
            ]
          },
          "metadata": {},
          "execution_count": 51
        }
      ],
      "source": [
        "B_data = np.loadtxt('B_data.txt')\n",
        "B_data"
      ]
    },
    {
      "cell_type": "markdown",
      "metadata": {
        "id": "fb5hyKdFQKsr"
      },
      "source": [
        "The shape of this dataset is:"
      ]
    },
    {
      "cell_type": "code",
      "execution_count": 52,
      "metadata": {
        "id": "SiOIYi2oQKsr",
        "outputId": "605b36ce-bb55-4e9c-ab9b-e07c666ea71f",
        "colab": {
          "base_uri": "https://localhost:8080/"
        }
      },
      "outputs": [
        {
          "output_type": "execute_result",
          "data": {
            "text/plain": [
              "(200, 1500)"
            ]
          },
          "metadata": {},
          "execution_count": 52
        }
      ],
      "source": [
        "B_data.shape"
      ]
    },
    {
      "cell_type": "markdown",
      "metadata": {
        "id": "IwxrrM2pQKst"
      },
      "source": [
        "The rows (200) corresponds to different samples of the $B-H$ curves (different suppliers and different times).\n",
        "The columns (1500) corresponds to different values of $H$.\n",
        "That is, the $i, j$ element is the value of $B$ at the a specific value of $H$, say $H_j$. The values of $H$ are the equidistant and identical and we are going to ignore them in this analysis.\n",
        "Let's visualize some of the samples.\n",
        "\n",
        "Here is one sample:"
      ]
    },
    {
      "cell_type": "code",
      "execution_count": 53,
      "metadata": {
        "tags": [
          "hide-input"
        ],
        "id": "NYglGW2AQKsu",
        "outputId": "029e5d41-eb5a-4c25-d4f7-ac9695f662ec",
        "colab": {
          "base_uri": "https://localhost:8080/",
          "height": 289
        }
      },
      "outputs": [
        {
          "output_type": "display_data",
          "data": {
            "text/plain": [
              "<Figure size 432x288 with 1 Axes>"
            ],
            "image/png": "[encoded data removed]"
          },
          "metadata": {
            "needs_background": "light"
          }
        }
      ],
      "source": [
        "fig, ax = plt.subplots()\n",
        "ax.plot(B_data[0, :])\n",
        "ax.set_xlabel(r\"Index $j$\")\n",
        "ax.set_ylabel(r\"$B$ (T)\");"
      ]
    },
    {
      "cell_type": "markdown",
      "metadata": {
        "id": "pc3Duii6QKsu"
      },
      "source": [
        "Here are five samples:"
      ]
    },
    {
      "cell_type": "code",
      "execution_count": 54,
      "metadata": {
        "tags": [
          "hide-input"
        ],
        "id": "EtrOvS5sQKsv",
        "outputId": "f0fc019d-7bdf-4b64-f2af-cb7409b4382d",
        "colab": {
          "base_uri": "https://localhost:8080/",
          "height": 289
        }
      },
      "outputs": [
        {
          "output_type": "display_data",
          "data": {
            "text/plain": [
              "<Figure size 432x288 with 1 Axes>"
            ],
            "image/png": "[encoded data removed]"
          },
          "metadata": {
            "needs_background": "light"
          }
        }
      ],
      "source": [
        "fig, ax = plt.subplots()\n",
        "ax.plot(B_data[:5, :].T)\n",
        "ax.set_xlabel(r\"Index $j$\")\n",
        "ax.set_ylabel(r\"$B$ (T)\");"
      ]
    },
    {
      "cell_type": "markdown",
      "metadata": {
        "id": "j7oRuWi0QKsx"
      },
      "source": [
        "Here are all the samples:"
      ]
    },
    {
      "cell_type": "code",
      "execution_count": 55,
      "metadata": {
        "tags": [
          "hide-input"
        ],
        "id": "Lz5HgzU7QKsy",
        "outputId": "09005eeb-6018-4fa3-c7eb-edb9e1419f44",
        "colab": {
          "base_uri": "https://localhost:8080/",
          "height": 289
        }
      },
      "outputs": [
        {
          "output_type": "display_data",
          "data": {
            "text/plain": [
              "<Figure size 432x288 with 1 Axes>"
            ],
            "image/png": "[encoded data removed]"
          },
          "metadata": {
            "needs_background": "light"
          }
        }
      ],
      "source": [
        "fig, ax = plt.subplots()\n",
        "ax.plot(B_data[:, :].T, 'r', lw=0.1)\n",
        "ax.set_xlabel(r\"Index $j$\")\n",
        "ax.set_ylabel(r\"$B$ (T)\");"
      ]
    },
    {
      "cell_type": "markdown",
      "metadata": {
        "id": "gM2xzVM0QKsz"
      },
      "source": [
        "A. We are going to start by studying the data at only one index. Say index $j=500$.\n",
        "Let's define a random variable\n",
        "\n",
        "$$\n",
        "X = B(H_{500}),\n",
        "$$\n",
        "\n",
        "for this reason. Extract and do a histogram of the data for $X$:"
      ]
    },
    {
      "cell_type": "code",
      "execution_count": 56,
      "metadata": {
        "tags": [
          "hide-input"
        ],
        "id": "gH1NGUPRQKs0",
        "outputId": "1ebaeb01-707d-4c74-d2cb-09538b2944ab",
        "colab": {
          "base_uri": "https://localhost:8080/",
          "height": 286
        }
      },
      "outputs": [
        {
          "output_type": "display_data",
          "data": {
            "text/plain": [
              "<Figure size 432x288 with 1 Axes>"
            ],
            "image/png": "[encoded data removed]"
          },
          "metadata": {
            "needs_background": "light"
          }
        }
      ],
      "source": [
        "X_data = B_data[:, 500]\n",
        "fig, ax = plt.subplots()\n",
        "ax.hist(X_data, alpha=0.5, density=True)\n",
        "ax.set_xlabel(r\"$x$\")\n",
        "ax.set_ylabel(r\"p(x)\");"
      ]
    },
    {
      "cell_type": "markdown",
      "metadata": {
        "id": "QGSQo6_vQKs3"
      },
      "source": [
        "This looks like a Gaussian $N(\\mu_{500}, \\sigma_{500}^2)$. Let's try to find a mean and variance for that Gaussian.\n",
        "A good choice for the mean is the empirical average of the data:\n",
        "\n",
        "$$\n",
        "\\mu_j = \\frac{1}{N}\\sum_{i=1}^NB_{ij}.\n",
        "$$\n",
        "\n",
        "Later we will learn that this is what the *maximum likelihood method* gives us.\n",
        "\n",
        "So, the mean is:"
      ]
    },
    {
      "cell_type": "code",
      "execution_count": 57,
      "metadata": {
        "id": "FM0eX617QKs4",
        "outputId": "2ed0a442-3a27-4c25-86e0-60b4aca3c294",
        "colab": {
          "base_uri": "https://localhost:8080/"
        }
      },
      "outputs": [
        {
          "output_type": "stream",
          "name": "stdout",
          "text": [
            "mu_500 = 1.61\n"
          ]
        }
      ],
      "source": [
        "mu_500 = X_data.mean()\n",
        "print(f\"mu_500 = {mu_500:.2f}\")"
      ]
    },
    {
      "cell_type": "markdown",
      "metadata": {
        "id": "LMSG-WDXQKs5"
      },
      "source": [
        "Similarly, for the variance a good choice is the empirical variance defined by:\n",
        "\n",
        "$$\n",
        "\\sigma_j^2 = \\frac{1}{N}\\sum_{i=1}^N(B_{ij} - \\mu_j)^2.\n",
        "$$\n",
        "\n",
        "That is:"
      ]
    },
    {
      "cell_type": "code",
      "execution_count": 58,
      "metadata": {
        "id": "xLnoLvx3QKs7",
        "outputId": "444656a8-ccde-4524-81a8-31789a706218",
        "colab": {
          "base_uri": "https://localhost:8080/"
        }
      },
      "outputs": [
        {
          "output_type": "stream",
          "name": "stdout",
          "text": [
            "sigma_500 = 7.42e-04\n"
          ]
        }
      ],
      "source": [
        "sigma2_500 = np.var(X_data)\n",
        "print(f\"sigma_500 = {sigma2_500:.2e}\")"
      ]
    },
    {
      "cell_type": "markdown",
      "metadata": {
        "id": "J7Km1LGiQKs8"
      },
      "source": [
        "Repeat the plot of the histogram of $X$ along with the PDF of the normal variable we have just identified using the functionality of ``scipy.stats``."
      ]
    },
    {
      "cell_type": "code",
      "source": [
        "\n",
        "sigma_500 = np.sqrt(sigma2_500)\n",
        "\n",
        "\n",
        "X = st.norm(mu_500, sigma_500)\n",
        "xs = np.linspace(mu_500 - 6.0 * sigma_500, mu_500+ 6.0 * sigma_500, 100)\n"
      ],
      "metadata": {
        "id": "35WuGfovh8AN"
      },
      "execution_count": 60,
      "outputs": []
    },
    {
      "cell_type": "code",
      "execution_count": 61,
      "metadata": {
        "id": "0SPaH1EPQKs9",
        "colab": {
          "base_uri": "https://localhost:8080/",
          "height": 286
        },
        "outputId": "4cf597f7-ccbd-4893-b17d-4295675243c7"
      },
      "outputs": [
        {
          "output_type": "display_data",
          "data": {
            "text/plain": [
              "<Figure size 432x288 with 1 Axes>"
            ],
            "image/png": "[encoded data removed]"
          },
          "metadata": {
            "needs_background": "light"
          }
        }
      ],
      "source": [
        "\n",
        "fig, ax = plt.subplots()\n",
        "ax.hist(X_data, alpha=0.5, density=True)\n",
        "ax.plot(xs, X.pdf(xs))\n",
        "ax.set_xlabel(r\"$x$\")\n",
        "ax.set_ylabel(r\"p(x)\");\n"
      ]
    },
    {
      "cell_type": "markdown",
      "metadata": {
        "id": "9AK4SPWwQKs-"
      },
      "source": [
        "B. Using your normal approximation to the PDF of $X$, find the probability that $X = B(H_{500})$ is geater than 1.66 T."
      ]
    },
    {
      "cell_type": "code",
      "execution_count": null,
      "metadata": {
        "id": "bTceWtreQKs-"
      },
      "outputs": [],
      "source": [
        "# Your code here"
      ]
    },
    {
      "cell_type": "markdown",
      "metadata": {
        "id": "MGs_sCslQKs_"
      },
      "source": [
        "C. Let us now consider another random variable\n",
        "\n",
        "$$\n",
        "Y = B(H_{1000}).\n",
        "$$\n",
        "\n",
        "Isolate the data for this as well:"
      ]
    },
    {
      "cell_type": "code",
      "execution_count": null,
      "metadata": {
        "id": "-oOdkt-aQKtA"
      },
      "outputs": [],
      "source": [
        "Y_data = B_data[:, 1000]"
      ]
    },
    {
      "cell_type": "markdown",
      "metadata": {
        "id": "wRqYE38xQKtC"
      },
      "source": [
        "Do the ``scatter`` plot of $X$ and $Y$:"
      ]
    },
    {
      "cell_type": "code",
      "execution_count": null,
      "metadata": {
        "id": "_mYIBTwBQKtD"
      },
      "outputs": [],
      "source": [
        "# Your code here"
      ]
    },
    {
      "cell_type": "markdown",
      "metadata": {
        "id": "7sG6ttKkQKtD"
      },
      "source": [
        "D. From the scatter plot, it looks like the random vector\n",
        "\n",
        "$$\n",
        "\\mathbf{X} = (X, Y),\n",
        "$$\n",
        "\n",
        "follows a multivariate normal distribution. What would be the mean and covariance of the distribution.\n",
        "Well, first organize the samples of $X$ and $Y$ in a matrix with the number of rows being the number of samples and two columns (one corresponding to $X$ and one to $Y$)."
      ]
    },
    {
      "cell_type": "code",
      "execution_count": null,
      "metadata": {
        "id": "4AcfqlGNQKtE"
      },
      "outputs": [],
      "source": [
        "XY_data = np.hstack([X_data[:, None], Y_data[:, None]])"
      ]
    },
    {
      "cell_type": "markdown",
      "metadata": {
        "id": "uE_QuCL7QKtG"
      },
      "source": [
        "The mean vector is:"
      ]
    },
    {
      "cell_type": "code",
      "execution_count": null,
      "metadata": {
        "id": "fVu7t7VSQKtH"
      },
      "outputs": [],
      "source": [
        "mu_XY = np.mean(XY_data, axis=0)\n",
        "print(f\"mu_XY = {mu_XY}\")"
      ]
    },
    {
      "cell_type": "markdown",
      "metadata": {
        "id": "OPuDGYjoQKtI"
      },
      "source": [
        "The covariance matrix is a little bit trickier. \n",
        "We have already discussed how to find the diagonals of the covariance matrix (it is simply the variance).\n",
        "For the off-diagonal terms, this is the formula that is being used:\n",
        "\n",
        "$$\n",
        "C_{jk} = \\frac{1}{N}\\sum_{i=1}^N(B_{ij} - \\mu_j)(B_{ik} - \\mu_k).\n",
        "$$\n",
        "\n",
        "This is how you can find it:"
      ]
    },
    {
      "cell_type": "code",
      "execution_count": null,
      "metadata": {
        "id": "RUq2ZJbjQKtJ"
      },
      "outputs": [],
      "source": [
        "# Careful with np.cov because it requires you to transpose the matrix\n",
        "C_XY = np.cov(XY_data.T)\n",
        "print(f\"C_XY =\")\n",
        "print(C_XY)"
      ]
    },
    {
      "cell_type": "markdown",
      "metadata": {
        "id": "ZKYOja6oQKtM"
      },
      "source": [
        "Are the two variables $X$ and $Y$ positively or negatively correlated?<br>\n",
        "**Answer:**\n",
        "<br><br>"
      ]
    },
    {
      "cell_type": "markdown",
      "metadata": {
        "id": "XsWs1n4vQKtM"
      },
      "source": [
        "E. Use ``np.linalg.eigh`` to check that the matrix ``C_XY`` is indeed positive definite."
      ]
    },
    {
      "cell_type": "code",
      "execution_count": null,
      "metadata": {
        "id": "HP57Kk50QKtN"
      },
      "outputs": [],
      "source": [
        "# Your code here"
      ]
    },
    {
      "cell_type": "markdown",
      "metadata": {
        "id": "5I0yuuZuQKtO"
      },
      "source": [
        "F. Use the functionality of ``scipy.stats.multivariate_normal`` to plot the joint probability function of the samples of $X$ and $Y$ in the same plot as the scatter plot of $X$ and $Y$."
      ]
    },
    {
      "cell_type": "code",
      "execution_count": null,
      "metadata": {
        "id": "VPx03RqHQKtP"
      },
      "outputs": [],
      "source": [
        "# Your code here"
      ]
    },
    {
      "cell_type": "markdown",
      "metadata": {
        "id": "mBq7QzqQQKtR"
      },
      "source": [
        "G. Now, let's think each $B-H$ curve as a random vector.\n",
        "That is, the random vector $\\mathbf{B}$ corresponds to the values of the magnetic flux density at a fixed number of $H$-values. It is:\n",
        "\n",
        "$$\n",
        "\\mathbf{B} = (B(H_1), \\dots, B(H_{1500})).\n",
        "$$\n",
        "\n",
        "It is like $\\mathbf{X} = (X, Y)$ only now we have 1500 dimensions instead of $2$.\n",
        "\n",
        "First, let's find the mean of this random vector:"
      ]
    },
    {
      "cell_type": "code",
      "execution_count": null,
      "metadata": {
        "id": "QAcwIU4rQKtT"
      },
      "outputs": [],
      "source": [
        "B_mu = np.mean(B_data, axis=0)\n",
        "B_mu"
      ]
    },
    {
      "cell_type": "markdown",
      "metadata": {
        "id": "oPXPpqR6QKtU"
      },
      "source": [
        "Let's plot the mean on top of all the data we have:"
      ]
    },
    {
      "cell_type": "code",
      "execution_count": null,
      "metadata": {
        "tags": [
          "hide-input"
        ],
        "id": "PEi2A1OEQKtV"
      },
      "outputs": [],
      "source": [
        "fig, ax = plt.subplots()\n",
        "ax.plot(B_data[:, :].T, 'r', lw=0.1)\n",
        "plt.plot([],[], 'r', label='Data')\n",
        "ax.plot(B_mu, label=\"Mean vector\")\n",
        "ax.set_xlabel(r\"Index $j$\")\n",
        "ax.set_ylabel(r\"$B$ (T)\")\n",
        "plt.legend(loc=\"best\");"
      ]
    },
    {
      "cell_type": "markdown",
      "metadata": {
        "id": "qQy_YT59QKtZ"
      },
      "source": [
        "It looks good. Now, find the covariance matrix of $\\mathbf{B}$. This is going to be a 1500x1500 matrix."
      ]
    },
    {
      "cell_type": "code",
      "execution_count": null,
      "metadata": {
        "id": "wihvxqq-QKta"
      },
      "outputs": [],
      "source": [
        "B_cov = np.cov(B_data.T)\n",
        "B_cov"
      ]
    },
    {
      "cell_type": "markdown",
      "metadata": {
        "id": "4q3SkdkEQKtc"
      },
      "source": [
        "Let's plot this matrix:"
      ]
    },
    {
      "cell_type": "code",
      "execution_count": null,
      "metadata": {
        "tags": [
          "hide-input"
        ],
        "id": "A-UN-1foQKtd"
      },
      "outputs": [],
      "source": [
        "fig, ax = plt.subplots()\n",
        "c = ax.imshow(B_cov, interpolation='nearest')\n",
        "plt.colorbar(c, label=\"Covariance\");"
      ]
    },
    {
      "cell_type": "markdown",
      "metadata": {
        "id": "MPbCogVWQKtd"
      },
      "source": [
        "The numbers are very small.\n",
        "This is because the covariance depends on the scale of $X$ and $Y$.\n",
        "If we change the units it will change.\n",
        "To get a more objective measure, we should be using the [correlation](https://en.wikipedia.org/wiki/Correlation).\n",
        "The correlation is essentially the covariance of $X$ and $Y$ scaled by their standard deviation, i.e.:\n",
        "\n",
        "$$\n",
        "\\rho(X, Y) = \\frac{\\mathbb{C}[X, Y]}{\\sqrt{\\mathbb{V}[X]\\mathbb{V}[Y]}}.\n",
        "$$\n",
        "\n",
        "Obviously the correlation has the same sign as the covariance.\n",
        "The addendum is that it is unitless and unambiguously scaled between -1 and +1.\n",
        "Here is how you can find it:"
      ]
    },
    {
      "cell_type": "code",
      "execution_count": null,
      "metadata": {
        "id": "lLVCGiAyQKte"
      },
      "outputs": [],
      "source": [
        "# Note that I have to remove the first point because it is always zero\n",
        "# and it has zero variance.\n",
        "B_corr = np.corrcoef(B_data[:,1:].T)\n",
        "B_corr"
      ]
    },
    {
      "cell_type": "markdown",
      "metadata": {
        "id": "P4Ii7AO2QKtf"
      },
      "source": [
        "Here is the correlation visualized:"
      ]
    },
    {
      "cell_type": "code",
      "execution_count": null,
      "metadata": {
        "id": "TvMTP1xgQKtg"
      },
      "outputs": [],
      "source": [
        "fig, ax = plt.subplots()\n",
        "c = ax.imshow(B_corr, interpolation='nearest')\n",
        "plt.colorbar(c, label=\"Correlation\");"
      ]
    },
    {
      "cell_type": "markdown",
      "metadata": {
        "id": "z_lm_k1EQKth"
      },
      "source": [
        "You see that the values are quite a bit correlated. This makes sense because the curves are all very smooth and they look very much alike. \n",
        "\n",
        "Let's check if the covariance is indeed positive definite:"
      ]
    },
    {
      "cell_type": "code",
      "execution_count": null,
      "metadata": {
        "id": "wX15NLKdQKti"
      },
      "outputs": [],
      "source": [
        "print(\"Eigenvalues of B_cov:\")\n",
        "print(np.linalg.eigh(B_cov)[0])"
      ]
    },
    {
      "cell_type": "markdown",
      "metadata": {
        "id": "7OnOkjpyQKtj"
      },
      "source": [
        "Hmm, notice that there are several eigenvalues that are negative, but they are too small. Very close to zero. This happens very often in practice when you are finding the covariance of a very large random vectors. It arises from the fact that we are using floating point arithmetic instead of a real numbers. It is a numerical artifact.\n",
        "If you tried to use this covariance to make a multivariate normal random vector using ``scipy.stats`` it would fail.\n",
        "Try this:"
      ]
    },
    {
      "cell_type": "code",
      "execution_count": null,
      "metadata": {
        "tags": [
          "hide-output"
        ],
        "id": "JkZNuZp7QKtk"
      },
      "outputs": [],
      "source": [
        "B = st.multivariate_normal(mean=B_mu, cov=B_cov)"
      ]
    },
    {
      "cell_type": "markdown",
      "metadata": {
        "id": "pXWG-Yl1QKtl"
      },
      "source": [
        "The way to overcome this problem is to add a small positive number to the diagonal. This needs to be very small so that the distribution does not change very much. It must be the smallest possible number that makes the covariance matrix behave well. This is known as the *jitter* or the *nugget*. Find the nugget playing with the code below. Every time you try, multiply the nugget by ten."
      ]
    },
    {
      "cell_type": "code",
      "execution_count": null,
      "metadata": {
        "id": "EbFXnSaZQKtl"
      },
      "outputs": [],
      "source": [
        "# Pick the nugget here\n",
        "nugget = 1e-12\n",
        "# This is the modified covariance matrix\n",
        "B_cov_w_nugget = B_cov + nugget * np.eye(B_cov.shape[0])\n",
        "# Try building the distribution:\n",
        "try:\n",
        "    B = st.multivariate_normal(mean=B_mu, cov=B_cov_w_nugget)\n",
        "    print('It worked! Move on.')\n",
        "except:\n",
        "    print('It did not work. Increase nugget by 10.')"
      ]
    },
    {
      "cell_type": "markdown",
      "metadata": {
        "id": "sK2lnmgQQKtm"
      },
      "source": [
        "H. Now you have created your first stochastic model of a complicated physical quantity. By sampling from your newly constructed random vector $\\mathbf{B}$ you have essentially quantified your uncertainty about the $B-H$ curve as induced by the inability to perfectly control the production of steel. Take 10 samples of this random vector and plot them."
      ]
    },
    {
      "cell_type": "code",
      "execution_count": null,
      "metadata": {
        "id": "rvZOVfDNQKto"
      },
      "outputs": [],
      "source": [
        "# Your code here"
      ]
    },
    {
      "cell_type": "markdown",
      "metadata": {
        "id": "-SR2pYJpQKtr"
      },
      "source": [
        "Congratulations!\n",
        "You have made your first stochastic model of a physical field quantity.\n",
        "You have now the ability to sample $B-H$ curves in a way that honors the manufacturing uncertainties.\n",
        "This is the first step to uncertainty quantification studies.\n",
        "The next step would be to propagate these samples through Maxwell's equations to characterize the effect on performance of an electric machine.\n",
        "If you are interested to see how that looks take a look at {cite}`sahu2020` and {cite}`beltran2020`."
      ]
    },
    {
      "cell_type": "code",
      "execution_count": null,
      "metadata": {
        "id": "Jbs2s8JFQKtu"
      },
      "outputs": [],
      "source": [
        ""
      ]
    }
  ],
  "metadata": {
    "celltoolbar": "Tags",
    "kernelspec": {
      "display_name": "Python 3 (ipykernel)",
      "language": "python",
      "name": "python3"
    },
    "language_info": {
      "codemirror_mode": {
        "name": "ipython",
        "version": 3
      },
      "file_extension": ".py",
      "mimetype": "text/x-python",
      "name": "python",
      "nbconvert_exporter": "python",
      "pygments_lexer": "ipython3",
      "version": "3.9.12"
    },
    "colab": {
      "name": "homework-02.ipynb",
      "provenance": [],
      "include_colab_link": true
    }
  },
  "nbformat": 4,
  "nbformat_minor": 0
}