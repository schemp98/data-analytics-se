{
  "cells": [
    {
      "cell_type": "markdown",
      "metadata": {
        "id": "view-in-github",
        "colab_type": "text"
      },
      "source": [
        "<a href=\"https://colab.research.google.com/github/schemp98/data-analytics-se/blob/master/lecturebook/homework/homework-03_SCC.ipynb\" target=\"_parent\"><img src=\"https://colab.research.google.com/assets/colab-badge.svg\" alt=\"Open In Colab\"/></a>"
      ]
    },
    {
      "cell_type": "markdown",
      "metadata": {
        "id": "1V3vN9dyPDRU"
      },
      "source": [
        "# Homework 3\n",
        "\n",
        "\n",
        "## References\n",
        "\n",
        "+ Lectures 7-12 (inclusive).\n",
        "\n",
        "## Instructions\n",
        "\n",
        "+ Type your name and email in the \"Student details\" section below.\n",
        "+ Develop the code and generate the figures you need to solve the problems using this notebook.\n",
        "+ For the answers that require a mathematical proof or derivation you should type them using latex. If you have never written latex before and you find it exceedingly difficult, we will likely accept handwritten solutions.\n",
        "+ The total homework points are 100. Please note that the problems are not weighed equally."
      ]
    },
    {
      "cell_type": "code",
      "execution_count": 1,
      "metadata": {
        "tags": [
          "hide-input"
        ],
        "id": "Kx-CIr2LPDRf"
      },
      "outputs": [],
      "source": [
        "import numpy as np\n",
        "np.set_printoptions(precision=3)\n",
        "import matplotlib.pyplot as plt\n",
        "%matplotlib inline\n",
        "import seaborn as sns\n",
        "sns.set(rc={\"figure.dpi\":100, \"savefig.dpi\":300})\n",
        "sns.set_context(\"notebook\")\n",
        "sns.set_style(\"ticks\")\n",
        "\n",
        "import scipy\n",
        "import scipy.stats as st\n",
        "import urllib.request\n",
        "import os\n",
        "\n",
        "def download(\n",
        "    url : str,\n",
        "    local_filename : str = None\n",
        "):\n",
        "    \"\"\"Download a file from a url.\n",
        "    \n",
        "    Arguments\n",
        "    url            -- The url we want to download.\n",
        "    local_filename -- The filemame to write on. If not\n",
        "                      specified \n",
        "    \"\"\"\n",
        "    if local_filename is None:\n",
        "        local_filename = os.path.basename(url)\n",
        "    urllib.request.urlretrieve(url, local_filename)"
      ]
    },
    {
      "cell_type": "markdown",
      "metadata": {
        "id": "t2mLOoF7PDRo"
      },
      "source": [
        "## Student details\n",
        "\n",
        "+ **First Name:** Shaun\n",
        "+ **Last Name:** Chemplavil\n",
        "+ **Email:** schempla@purdue.edu"
      ]
    },
    {
      "cell_type": "markdown",
      "metadata": {
        "id": "-Q8OzBcuPDRu"
      },
      "source": [
        "## Problem 1 - Propagating uncertainty through a differential equation \n",
        "\n",
        "This is a classic uncertainty propagation problem that you will have to solve using Monte Carlo sampling.\n",
        "Consider the following stochastic harmonic oscillator:\n",
        "\n",
        "$$\n",
        "\\begin{array}{ccc}\n",
        "\\ddot{y} + 2 \\zeta \\omega(X) \\dot{y} + \\omega^2(X)y &=& 0,\\\\\n",
        "y(0) &=& y_0(X),\\\\\n",
        "\\dot{y}(0) &=& v_0(X),\n",
        "\\end{array}\n",
        "$$\n",
        "\n",
        "where:\n",
        "+ $X = (X_1, X_2, X_3)$,\n",
        "+ $X_i \\sim N(0, 1)$,\n",
        "+ $\\omega(X) = 2\\pi + X_1$, \n",
        "+ $\\zeta = 0.01$,\n",
        "+ $y_0(X) = 1+ 0.1 X_2$, and\n",
        "+ $v_0 = 0.1 X_3$.\n",
        "\n",
        "In words, this stochastic harmonic oscillator has an uncertain natural frequency and uncertain initial conditions.\n",
        "\n",
        "Our goal is to propagate uncertainty through this dynamical system, i.e., estimate the mean and variance of its solution.\n",
        "A solver for this dynamical system is given below:"
      ]
    },
    {
      "cell_type": "code",
      "execution_count": 2,
      "metadata": {
        "tags": [
          "hide-input"
        ],
        "id": "xKS_7SriPDRy"
      },
      "outputs": [],
      "source": [
        "class Solver(object):\n",
        "    def __init__(\n",
        "        self,\n",
        "        nt=100,\n",
        "        T= 5\n",
        "    ):\n",
        "        \"\"\"This is the initializer of the class.\n",
        "        \n",
        "        Arguments:\n",
        "            nt -- The number of timesteps.\n",
        "            T  -- The final time.\n",
        "        \"\"\"\n",
        "        self.nt = nt\n",
        "        self.T = T\n",
        "        # The timesteps on which we will get the solution\n",
        "        self.t = np.linspace(0, T, nt) \n",
        "        # The number of inputs the class accepts\n",
        "        self.num_input = 3\n",
        "        # The number of outputs the class returns\n",
        "        self.num_output = nt\n",
        "        \n",
        "    def __call__(self, x):\n",
        "        \"\"\"This special class method emulates a function call.\n",
        "        \n",
        "        Arguments:\n",
        "            x -- A 1D numpy array with 3 elements.\n",
        "                 This represents the stochastic input x = (x1, x2, x3).\n",
        "        \n",
        "        Returns the solution to the differential equation evaluated\n",
        "        at discrete timesteps.\n",
        "        \"\"\"\n",
        "        # uncertain quantities \n",
        "        x1 = x[0]\n",
        "        x2 = x[1]\n",
        "        x3 = x[2]\n",
        "        \n",
        "        # ODE parameters \n",
        "        omega = 2*np.pi + x1 \n",
        "        y10 = 1 + 0.1*x2\n",
        "        y20 = 0.1*x3\n",
        "        # initial conditions \n",
        "        y0 = np.array([y10, y20])   \n",
        "        \n",
        "        # coefficient matrix \n",
        "        zeta = 0.01\n",
        "        # spring constant\n",
        "        k = omega**2\n",
        "        # damping coeff\n",
        "        c = 2*zeta*omega    \n",
        "        C = np.array([[0, 1],[-k, -c]])\n",
        "        \n",
        "        #RHS of the ODE system\n",
        "        def rhs(y, t):\n",
        "            return np.dot(C, y)\n",
        "        \n",
        "        y = scipy.integrate.odeint(rhs, y0, self.t)\n",
        "        \n",
        "        return y"
      ]
    },
    {
      "cell_type": "markdown",
      "metadata": {
        "id": "fUppDuAgPDR5"
      },
      "source": [
        "First, let's demonstrate how the solver works:"
      ]
    },
    {
      "cell_type": "code",
      "execution_count": 3,
      "metadata": {
        "tags": [
          "hide-output"
        ],
        "id": "dWCqThjLPDR9",
        "outputId": "9c36cb2c-d1a3-4381-bca9-abf6740d9df6",
        "colab": {
          "base_uri": "https://localhost:8080/"
        }
      },
      "outputs": [
        {
          "output_type": "stream",
          "name": "stdout",
          "text": [
            "[[ 1.271 -0.017]\n",
            " [ 1.215 -2.185]\n",
            " [ 1.054 -4.151]\n",
            " [ 0.802 -5.745]\n",
            " [ 0.482 -6.83 ]\n",
            " [ 0.122 -7.316]\n",
            " [-0.246 -7.164]\n",
            " [-0.591 -6.39 ]\n",
            " [-0.883 -5.066]\n",
            " [-1.096 -3.31 ]\n",
            " [-1.212 -1.277]\n",
            " [-1.223  0.855]\n",
            " [-1.127  2.901]\n",
            " [-0.934  4.682]\n",
            " [-0.661  6.046]\n",
            " [-0.333  6.877]\n",
            " [ 0.023  7.106]\n",
            " [ 0.375  6.716]\n",
            " [ 0.692  5.746]\n",
            " [ 0.947  4.282]\n",
            " [ 1.118  2.455]\n",
            " [ 1.191  0.426]\n",
            " [ 1.161 -1.629]\n",
            " [ 1.029 -3.529]\n",
            " [ 0.809 -5.113]\n",
            " [ 0.521 -6.242]\n",
            " [ 0.188 -6.823]\n",
            " [-0.159 -6.808]\n",
            " [-0.49  -6.202]\n",
            " [-0.776 -5.061]\n",
            " [-0.993 -3.487]\n",
            " [-1.123 -1.619]\n",
            " [-1.155  0.378]\n",
            " [-1.086  2.33 ]\n",
            " [-0.923  4.069]\n",
            " [-0.681  5.444]\n",
            " [-0.381  6.338]\n",
            " [-0.05   6.676]\n",
            " [ 0.283  6.433]\n",
            " [ 0.59   5.632]\n",
            " [ 0.844  4.347]\n",
            " [ 1.023  2.692]\n",
            " [ 1.112  0.813]\n",
            " [ 1.104 -1.125]\n",
            " [ 1.    -2.954]\n",
            " [ 0.81  -4.516]\n",
            " [ 0.551 -5.677]\n",
            " [ 0.245 -6.338]\n",
            " [-0.08  -6.444]\n",
            " [-0.396 -5.99 ]\n",
            " [-0.676 -5.019]\n",
            " [-0.896 -3.617]\n",
            " [-1.036 -1.91 ]\n",
            " [-1.086 -0.047]\n",
            " [-1.041  1.809]\n",
            " [-0.906  3.497]\n",
            " [-0.693  4.872]\n",
            " [-0.421  5.815]\n",
            " [-0.114  6.248]\n",
            " [ 0.201  6.135]\n",
            " [ 0.496  5.49 ]\n",
            " [ 0.747  4.373]\n",
            " [ 0.932  2.882]\n",
            " [ 1.034  1.15 ]\n",
            " [ 1.046 -0.672]\n",
            " [ 0.967 -2.425]\n",
            " [ 0.805 -3.957]\n",
            " [ 0.574 -5.136]\n",
            " [ 0.294 -5.862]\n",
            " [-0.01  -6.075]\n",
            " [-0.311 -5.759]\n",
            " [-0.583 -4.945]\n",
            " [-0.803 -3.706]\n",
            " [-0.952 -2.152]\n",
            " [-1.017 -0.421]\n",
            " [-0.994  1.336]\n",
            " [-0.885  2.967]\n",
            " [-0.699  4.331]\n",
            " [-0.454  5.31 ]\n",
            " [-0.17   5.823]\n",
            " [ 0.126  5.827]\n",
            " [ 0.41   5.325]\n",
            " [ 0.656  4.363]\n",
            " [ 0.844  3.028]\n",
            " [ 0.958  1.438]\n",
            " [ 0.987 -0.267]\n",
            " [ 0.931 -1.939]\n",
            " [ 0.794 -3.433]\n",
            " [ 0.59  -4.62 ]\n",
            " [ 0.335 -5.399]\n",
            " [ 0.052 -5.704]\n",
            " [-0.233 -5.512]\n",
            " [-0.496 -4.843]\n",
            " [-0.715 -3.757]\n",
            " [-0.871 -2.351]\n",
            " [-0.949 -0.749]\n",
            " [-0.945  0.908]\n",
            " [-0.859  2.477]\n",
            " [-0.699  3.821]\n",
            " [-0.479  4.826]]\n"
          ]
        }
      ],
      "source": [
        "solver = Solver()\n",
        " \n",
        "x = np.random.randn(solver.num_input)\n",
        "\n",
        "y = solver(x)\n",
        "\n",
        "print(y)"
      ]
    },
    {
      "cell_type": "markdown",
      "metadata": {
        "id": "X2lj_QEwPDSB"
      },
      "source": [
        "Notice the dimension of `y`:"
      ]
    },
    {
      "cell_type": "code",
      "execution_count": 4,
      "metadata": {
        "id": "-B47KyHOPDSE",
        "outputId": "65852ada-d101-4358-c54d-ce81d2007744",
        "colab": {
          "base_uri": "https://localhost:8080/"
        }
      },
      "outputs": [
        {
          "output_type": "execute_result",
          "data": {
            "text/plain": [
              "(100, 2)"
            ]
          },
          "metadata": {},
          "execution_count": 4
        }
      ],
      "source": [
        "y.shape"
      ]
    },
    {
      "cell_type": "markdown",
      "metadata": {
        "id": "lMjUfUUaPDSK"
      },
      "source": [
        "The 100 rows corresponds to timesteps.\n",
        "The 2 columns correspond to position and velocity.\n",
        "\n",
        "Let's plot a few samples:"
      ]
    },
    {
      "cell_type": "code",
      "execution_count": 5,
      "metadata": {
        "id": "su7qxWr5PDSR",
        "outputId": "88e35f76-fcdd-487a-ed01-cc99c1e60020",
        "colab": {
          "base_uri": "https://localhost:8080/",
          "height": 557
        }
      },
      "outputs": [
        {
          "output_type": "display_data",
          "data": {
            "text/plain": [
              "<Figure size 432x288 with 1 Axes>"
            ],
            "image/png": "[encoded data removed]"
          },
          "metadata": {
            "needs_background": "light"
          }
        },
        {
          "output_type": "display_data",
          "data": {
            "text/plain": [
              "<Figure size 432x288 with 1 Axes>"
            ],
            "image/png": "[encoded data removed]"
          },
          "metadata": {
            "needs_background": "light"
          }
        }
      ],
      "source": [
        "fig1, ax1 = plt.subplots()\n",
        "ax1.set_xlabel('$t$ (Time)')\n",
        "ax1.set_ylabel('$y(t)$ (Position)')\n",
        "\n",
        "fig2, ax2 = plt.subplots()\n",
        "ax2.set_xlabel('$t$ (Time)')\n",
        "ax2.set_ylabel('$\\dot{y}(t)$ (Velocity)')\n",
        "\n",
        "for i in range(2):\n",
        "    x = np.random.randn(solver.num_input)\n",
        "    y = solver(x)\n",
        "    \n",
        "    ax1.plot(solver.t, y[:, 0])\n",
        "    ax2.plot(\n",
        "        solver.t, y[:, 1],\n",
        "        label=f'Sample {i+1:d}')\n",
        "plt.legend(loc=\"best\");"
      ]
    },
    {
      "cell_type": "markdown",
      "metadata": {
        "id": "x-IayBXAPDSV"
      },
      "source": [
        "For your convenience, here is code that takes many samples of the solver at once:"
      ]
    },
    {
      "cell_type": "code",
      "execution_count": 6,
      "metadata": {
        "tags": [
          "hide-input"
        ],
        "id": "UTE8pNHaPDSY"
      },
      "outputs": [],
      "source": [
        "def take_samples_from_solver(num_samples):\n",
        "    \"\"\"Takes ``num_samples`` from the ODE solver.\n",
        "    \n",
        "    Returns them in an array of the form:\n",
        "    ``num_samples x 100 x 2`` \n",
        "    (100 timesteps, 2 states (position, velocity))\n",
        "    \"\"\"\n",
        "    samples = np.ndarray((num_samples, 100, 2))\n",
        "    for i in range(num_samples):\n",
        "        samples[i, :, :] = solver(\n",
        "            np.random.randn(solver.num_input)\n",
        "        )\n",
        "    return samples"
      ]
    },
    {
      "cell_type": "markdown",
      "metadata": {
        "id": "MW-_oLU1PDSb"
      },
      "source": [
        "It works like this:"
      ]
    },
    {
      "cell_type": "code",
      "execution_count": 7,
      "metadata": {
        "id": "IVHhye02PDSe",
        "outputId": "01720a26-2791-421d-8f3c-e4c505e5a9df",
        "colab": {
          "base_uri": "https://localhost:8080/"
        }
      },
      "outputs": [
        {
          "output_type": "stream",
          "name": "stdout",
          "text": [
            "(50, 100, 2)\n"
          ]
        }
      ],
      "source": [
        "samples = take_samples_from_solver(50)\n",
        "print(samples.shape)"
      ]
    },
    {
      "cell_type": "markdown",
      "metadata": {
        "id": "vjUqWwsvPDSh"
      },
      "source": [
        "Here, the first dimension corresponds to different samples.\n",
        "Then we have timesteps.\n",
        "And finally we have either position or velocity.\n",
        "\n",
        "As an example, the velocity of the 25th sample at the first ten timesteps is:"
      ]
    },
    {
      "cell_type": "code",
      "execution_count": 8,
      "metadata": {
        "id": "oLMWzIf_PDSj",
        "outputId": "1eb9035b-7544-4b19-8bb3-da72b82712ce",
        "colab": {
          "base_uri": "https://localhost:8080/"
        }
      },
      "outputs": [
        {
          "output_type": "execute_result",
          "data": {
            "text/plain": [
              "array([-0.034, -3.184, -5.723, -7.191, -7.326, -6.117, -3.796, -0.798,\n",
              "        2.319,  4.985])"
            ]
          },
          "metadata": {},
          "execution_count": 8
        }
      ],
      "source": [
        "samples[24, :10, 1]"
      ]
    },
    {
      "cell_type": "markdown",
      "metadata": {
        "id": "7Kx_FaiaPDSn"
      },
      "source": [
        "### Part A\n",
        "Take 100 samples of the solver output and plot the estimated mean position and velocity as a function of time along with a 95\\% epistemic uncertainty interval around it. \n",
        "This interval captures how sure you are about the mean response when using only 100 Monte Carlo samples.\n",
        "You need to use the central limit theorem to find it (see the lecture notes)."
      ]
    },
    {
      "cell_type": "code",
      "execution_count": 15,
      "metadata": {
        "id": "0ZiQfN9oPDSo"
      },
      "outputs": [],
      "source": [
        "from operator import pos\n",
        "num_samples = 1000\n",
        "samples = take_samples_from_solver(num_samples)\n",
        "# Sampled positions are: samples[:, :, 0]\n",
        "# Sampled velocities are: samples[:, :, 1]\n",
        "# Sampled position at the 10th timestep is: samples[:, 9, 0]\n",
        "# etc.\n",
        "pos_samp_all = samples[:, :, 0]\n",
        "vel_samp_all = samples[:, :, 1]\n",
        "# Your code here\n",
        "\n"
      ]
    },
    {
      "cell_type": "code",
      "execution_count": 17,
      "metadata": {
        "id": "ygetFwhGJ1Hq",
        "outputId": "5f7324b9-7d4d-4edc-d811-c5a017197090",
        "colab": {
          "base_uri": "https://localhost:8080/",
          "height": 285
        }
      },
      "outputs": [
        {
          "output_type": "display_data",
          "data": {
            "text/plain": [
              "<Figure size 432x288 with 1 Axes>"
            ],
            "image/png": "[encoded data removed]"
          },
          "metadata": {
            "needs_background": "light"
          }
        }
      ],
      "source": [
        "mu_50 ,mu_025, mu_975 = np.quantile(\n",
        "    pos_samp_all,\n",
        "    [0.5, 0.025, 0.975],\n",
        "    axis=0)\n",
        "ts = solver.t\n",
        "\n",
        "N = 100\n",
        "for i in range(num_samples):\n",
        "  pos_samp = pos_samp_all[i,:]\n",
        "  # Evaluate the sample average for all sample sizes \n",
        "  I_running = np.cumsum(pos_samp) / np.arange(1, N + 1)\n",
        "\n",
        "\n",
        "# Let's plot these:\n",
        "fig, ax = plt.subplots()\n",
        "ax.plot(ts, mu_50, label=\"Median\")\n",
        "ax.plot(ts, I_running, label=\"$\\mu$\")\n",
        "ax.plot(ts, mu_025, \"--\", label=\"2.5% quantile\")\n",
        "ax.plot(ts, mu_975, \":\", label=\"97.5% quantile\")\n",
        "ax.set_xlabel(\"$t$\")\n",
        "ax.set_ylabel(\"$y(t)$\")\n",
        "plt.legend(loc=\"best\");"
      ]
    },
    {
      "cell_type": "code",
      "source": [
        ""
      ],
      "metadata": {
        "id": "DvUVxh2Myfcq"
      },
      "execution_count": 9,
      "outputs": []
    },
    {
      "cell_type": "markdown",
      "metadata": {
        "id": "z-faghWxPDSq"
      },
      "source": [
        "### Part B\n",
        "\n",
        "Plot the epistemic uncertainty about the mean position at $t=5$s as a function of the number of samples. \n",
        "\n",
        "**Solution**:"
      ]
    },
    {
      "cell_type": "code",
      "execution_count": 10,
      "metadata": {
        "id": "XJvoisaTPDSr",
        "colab": {
          "base_uri": "https://localhost:8080/",
          "height": 285
        },
        "outputId": "bf539c93-1778-4d11-eae4-d2eb9cf9805c"
      },
      "outputs": [
        {
          "output_type": "display_data",
          "data": {
            "text/plain": [
              "<Figure size 432x288 with 1 Axes>"
            ],
            "image/png": "[encoded data removed]"
          },
          "metadata": {
            "needs_background": "light"
          }
        }
      ],
      "source": [
        "# Your code here\n",
        "N = num_samples\n",
        "# Get the corresponding Y's\n",
        "y_samples = pos_samp_all[:,99]\n",
        "\n",
        "# Evaluate the sample average for all sample sizes \n",
        "I_running = np.cumsum(y_samples) / np.arange(1, N + 1)\n",
        "\n",
        "# Evaluate the sample average for the squared of Y\n",
        "g2_running = np.cumsum(y_samples ** 2) / np.arange(1, N + 1)\n",
        "\n",
        "# Evaluate the running average of the variance\n",
        "sigma2_running = g2_running - I_running ** 2\n",
        "\n",
        "# Evaluate the running average of the standard deviation\n",
        "sigma_running = np.sqrt(sigma2_running / np.arange(1, N + 1))\n",
        "\n",
        "fig, ax = plt.subplots()\n",
        "# Here is the MC estimate:\n",
        "ax.plot(np.arange(1, N+1), sigma_running, 'b', lw=2)\n",
        "\n",
        "# and the labels\n",
        "ax.set_xlabel('$N$')\n",
        "ax.set_ylabel('Position $\\sigma$');"
      ]
    },
    {
      "cell_type": "markdown",
      "metadata": {
        "id": "ilrD3t23PDSt"
      },
      "source": [
        "### Part C\n",
        "Repeat part A and B for the squared response.\n",
        "That is, do exactly the same thing as above, but consider $y^2(t)$ and $\\dot{y}^2(t)$ instead of $y(t)$ and $\\dot{y}(t)$.\n",
        "How many samples do you need to estimate the mean squared response at $t=5$s with negligible epistemic uncertainty?\n",
        "\n",
        "**Solution**:"
      ]
    },
    {
      "cell_type": "code",
      "execution_count": null,
      "metadata": {
        "id": "6I4Qx2tQPDSv"
      },
      "outputs": [],
      "source": [
        "# Your code here"
      ]
    },
    {
      "cell_type": "markdown",
      "metadata": {
        "id": "OFrWcCRcPDSx"
      },
      "source": [
        "### Part D\n",
        "\n",
        "Now that you know how many samples you need to estimate the mean of the response and the square response, use the formula:\n",
        "\n",
        "$$\n",
        "\\mathbb{V}[y(t)] = \\mathbb{E}[y^2(t)] - \\left(\\mathbb{E}[y(t)]\\right)^2,\n",
        "$$\n",
        "\n",
        "and similarly for $\\dot{y}(t)$, to estimate the variance of the position and the velocity with negligible epistemic uncertainty.\n",
        "Plot both quantities as a function of time.\n",
        "\n",
        "**Solution**:"
      ]
    },
    {
      "cell_type": "code",
      "execution_count": null,
      "metadata": {
        "id": "zQ9M84pQPDS0"
      },
      "outputs": [],
      "source": [
        "# Your code here"
      ]
    },
    {
      "cell_type": "markdown",
      "metadata": {
        "id": "DFSSg2-OPDS1"
      },
      "source": [
        "### Part E\n",
        "\n",
        "Put together the estimated mean and variance to plot a 95\\% predictive interval for the position and the velocity as functions of time.\n",
        "\n",
        "Hint: You need to use the Central Limit Theorem. Check out the corresponding textbook example.\n",
        "**Solution**:"
      ]
    },
    {
      "cell_type": "code",
      "source": [
        "N = num_samples\n",
        "for i in range(num_samples):\n",
        "  pos_samp = pos_samp_all[i,:]\n",
        "  # Evaluate the sample average for all sample sizes \n",
        "  I_running = np.cumsum(pos_samp) / np.arange(1, N + 1)\n",
        "\n",
        "  # Evaluate the sample average for the squared of Y\n",
        "  g2_running = np.cumsum(pos_samp ** 2) / np.arange(1, N + 1)\n",
        "\n",
        "  # Evaluate the running average of the variance\n",
        "  sigma2_running = g2_running - I_running ** 2\n",
        "\n",
        "  # Alright, now we have quantified our uncertainty about I for every N\n",
        "  # from a single MC run. Let's plot a (about) 95% predictive interval\n",
        "  # Running lower bound for the predictive interval\n",
        "  I_lower_running = (\n",
        "      I_running - 2.0 * np.sqrt(sigma2_running / np.arange(1, N + 1))\n",
        "  )\n",
        "\n",
        "  # Running upper bound for the predictive interval\n",
        "  I_upper_running = (\n",
        "      I_running + 2.0 * np.sqrt(sigma2_running / np.arange(1, N + 1))\n",
        "  )\n",
        "\n",
        "# A common plot for all estimates\n",
        "fig, ax = plt.subplots()\n",
        "# Shaded area for the interval\n",
        "ax.fill_between(\n",
        "    solver.t,\n",
        "    I_lower_running,\n",
        "    I_upper_running,\n",
        "    alpha=0.25\n",
        ")\n",
        "# Here is the MC estimate:\n",
        "ax.plot(solver.t, I_running, 'b', lw=2)\n",
        "\n",
        "# and the labels\n",
        "ax.set_xlabel('time (sec)')\n",
        "ax.set_ylabel('$Position$');"
      ],
      "metadata": {
        "id": "mndidl9QMPnH"
      },
      "execution_count": null,
      "outputs": []
    },
    {
      "cell_type": "code",
      "source": [
        "for i in range(num_samples):\n",
        "  vel_samp = vel_samp_all[i,:]\n",
        "  # Evaluate the sample average for all sample sizes \n",
        "  I_running = np.cumsum(vel_samp) / np.arange(1, N + 1)\n",
        "\n",
        "  # Evaluate the sample average for the squared of Y\n",
        "  g2_running = np.cumsum(vel_samp ** 2) / np.arange(1, N + 1)\n",
        "\n",
        "  # Evaluate the running average of the variance\n",
        "  sigma2_running = g2_running - I_running ** 2\n",
        "\n",
        "  # Alright, now we have quantified our uncertainty about I for every N\n",
        "  # from a single MC run. Let's plot a (about) 95% predictive interval\n",
        "  # Running lower bound for the predictive interval\n",
        "  I_lower_running = (\n",
        "      I_running - 2.0 * np.sqrt(sigma2_running / np.arange(1, N + 1))\n",
        "  )\n",
        "\n",
        "  # Running upper bound for the predictive interval\n",
        "  I_upper_running = (\n",
        "      I_running + 2.0 * np.sqrt(sigma2_running / np.arange(1, N + 1))\n",
        "  )\n",
        "\n",
        "# A common plot for all estimates\n",
        "fig, ax = plt.subplots()\n",
        "# Shaded area for the interval\n",
        "ax.fill_between(\n",
        "    solver.t,\n",
        "    I_lower_running,\n",
        "    I_upper_running,\n",
        "    alpha=0.25\n",
        ")\n",
        "# Here is the MC estimate:\n",
        "ax.plot(solver.t, I_running, 'b', lw=2)\n",
        "\n",
        "# and the labels\n",
        "ax.set_xlabel('time (sec)')\n",
        "ax.set_ylabel('$Velocity$');"
      ],
      "metadata": {
        "id": "k8vXgOfk0cSP"
      },
      "execution_count": null,
      "outputs": []
    },
    {
      "cell_type": "markdown",
      "metadata": {
        "id": "WIn_DXDIPDS3"
      },
      "source": [
        "## Problem 1\n",
        "\n",
        "The [San Andreas fault](https://en.wikipedia.org/wiki/San_Andreas_Fault) extends through California forming the boundary between the Pacific and the North American tectonic plates.\n",
        "It has caused some of the major earthquakes on Earth.\n",
        "We are going to focus on Southern California and we would like to assess the probability of a major earthquake, defined as an earthquake of magnitude 6.5 or greater, during the next ten years."
      ]
    },
    {
      "cell_type": "markdown",
      "metadata": {
        "id": "xeHCefHUPDS4"
      },
      "source": [
        "A. The first thing we are going to do is go over a [database of past earthquakes](https://scedc.caltech.edu/significant/chron-index.html) that have occured in Southern California and collect the relevant data. We are going to start at 1900 because data before that time may are unreliable.\n",
        "Go over each decade and count the occurence of a major earthquake (i.e., count the number of organge and red colors in each decade). We have done this for you."
      ]
    },
    {
      "cell_type": "code",
      "execution_count": 1,
      "metadata": {
        "id": "JSNTn_fOPDS6",
        "colab": {
          "base_uri": "https://localhost:8080/",
          "height": 241
        },
        "outputId": "772e93a9-5d7e-4531-f9e2-958e6105f326"
      },
      "outputs": [
        {
          "output_type": "error",
          "ename": "NameError",
          "evalue": "ignored",
          "traceback": [
            "\u001b[0;31m---------------------------------------------------------------------------\u001b[0m",
            "\u001b[0;31mNameError\u001b[0m                                 Traceback (most recent call last)",
            "\u001b[0;32m<ipython-input-1-eca9f3ed171f>\u001b[0m in \u001b[0;36m<module>\u001b[0;34m()\u001b[0m\n\u001b[0;32m----> 1\u001b[0;31m eq_data = np.array([\n\u001b[0m\u001b[1;32m      2\u001b[0m     \u001b[0;36m0\u001b[0m\u001b[0;34m,\u001b[0m \u001b[0;31m# 1900-1909\u001b[0m\u001b[0;34m\u001b[0m\u001b[0;34m\u001b[0m\u001b[0m\n\u001b[1;32m      3\u001b[0m     \u001b[0;36m1\u001b[0m\u001b[0;34m,\u001b[0m \u001b[0;31m# 1910-1919\u001b[0m\u001b[0;34m\u001b[0m\u001b[0;34m\u001b[0m\u001b[0m\n\u001b[1;32m      4\u001b[0m     \u001b[0;36m2\u001b[0m\u001b[0;34m,\u001b[0m \u001b[0;31m# 1920-1929\u001b[0m\u001b[0;34m\u001b[0m\u001b[0;34m\u001b[0m\u001b[0m\n\u001b[1;32m      5\u001b[0m     \u001b[0;36m0\u001b[0m\u001b[0;34m,\u001b[0m \u001b[0;31m# 1930-1939\u001b[0m\u001b[0;34m\u001b[0m\u001b[0;34m\u001b[0m\u001b[0m\n",
            "\u001b[0;31mNameError\u001b[0m: name 'np' is not defined"
          ]
        }
      ],
      "source": [
        "eq_data = np.array([\n",
        "    0, # 1900-1909\n",
        "    1, # 1910-1919\n",
        "    2, # 1920-1929\n",
        "    0, # 1930-1939\n",
        "    3, # 1940-1949\n",
        "    2, # 1950-1959\n",
        "    1, # 1960-1969\n",
        "    2, # 1970-1979\n",
        "    1, # 1980-1989\n",
        "    4, # 1990-1999\n",
        "    0, # 2000-2009\n",
        "    2 # 2010-2019 \n",
        "])"
      ]
    },
    {
      "cell_type": "markdown",
      "metadata": {
        "id": "TerPBQriPDS7"
      },
      "source": [
        "Let's visualize them:"
      ]
    },
    {
      "cell_type": "code",
      "execution_count": null,
      "metadata": {
        "id": "S9X77JwRPDS-",
        "outputId": "4b6e92ef-5df0-4301-f24c-7fcb2479a974"
      },
      "outputs": [
        {
          "data": {
            "image/png": "[encoded data removed]",
            "text/plain": [
              "<Figure size 600x400 with 1 Axes>"
            ]
          },
          "metadata": {},
          "output_type": "display_data"
        }
      ],
      "source": [
        "fig, ax = plt.subplots()\n",
        "ax.bar(\n",
        "    np.linspace(1900, 2019, eq_data.shape[0]),\n",
        "    eq_data,\n",
        "    width=10\n",
        ")\n",
        "ax.set_xlabel('Decade')\n",
        "ax.set_ylabel('# of major earthquakes in Southern CA');"
      ]
    },
    {
      "cell_type": "markdown",
      "metadata": {
        "id": "fizcDx_HPDTB"
      },
      "source": [
        "A. The right way to model the number of earthquakes $X_n$ in a decade $n$ is using a Poisson distribution with unknown rate parameter $\\lambda$, i.e.,\n",
        "\n",
        "$$\n",
        "X_n | \\lambda \\sim \\operatorname{Poisson}(\\lambda).\n",
        "$$\n",
        "\n",
        "The probability mass function is:\n",
        "\n",
        "$$\n",
        "p(x_n|\\lambda) \\equiv p(X_n=x_n|\\lambda) = \\frac{\\lambda^{x_n}}{x_n!}e^{-\\lambda}.\n",
        "$$\n",
        "\n",
        "Here we have $N = 12$ observations, say $x_{1:N} = (x_1,\\dots,x_N)$ (stored in ``eq_data`` above).\n",
        "Find the *joint probability mass function* (otherwise known as the likelihood) $p(x_{1:N}|\\lambda)$ of these random variables.<br>\n",
        "*Hint: Assume that all measurements are independent. Then their joint pmf is the product of the individual pmfs.\n",
        "You should be able to simplify the expression considerably.*\n",
        "<br>\n",
        "**Answer:**\n",
        "<br><br><br><br><br><br><br><br>"
      ]
    },
    {
      "cell_type": "markdown",
      "metadata": {
        "id": "AG0jHTXBPDTD"
      },
      "source": [
        "B. The rate parameter $\\lambda$ (number of major earthquakes per ten years) is positive. What prior distribution should we assign to it if we expect it to be around 2?\n",
        "A convenient choice here is to pick a [Gamma](https://en.wikipedia.org/wiki/Gamma_distribution), see also [the scipy.stats page for the Gamma](https://docs.scipy.org/doc/scipy/reference/generated/scipy.stats.gamma.html) because it results in an analytical posterior.\n",
        "We write:\n",
        "\n",
        "$$\n",
        "\\lambda \\sim \\operatorname{Gamma}(\\alpha, \\beta),\n",
        "$$\n",
        "\n",
        "where $\\alpha$ and $\\beta$ are positive *hyper-parameters* that we have to set to represent our prior state of knowledge.\n",
        "The PDF is:\n",
        "\n",
        "$$\n",
        "p(\\lambda) = \\frac{\\beta^\\alpha \\lambda^{\\alpha-1}e^{-\\beta \\lambda}}{\\Gamma(\\alpha)},\n",
        "$$\n",
        "\n",
        "where we are not conditioning on $\\alpha$ and $\\beta$ because they should be fixed numbers.\n",
        "Use the code below to pick some some reasonable values for $\\alpha$ and $\\beta$.\n",
        "<br>\n",
        "**Just enter your choice of $\\alpha$ and $\\beta$ in the code block below.**\n",
        "<br>\n",
        "Hint: Notice that the maximum entropy distribution for a positive parameter with known expectation is the [Exponential](https://en.wikipedia.org/wiki/Exponential_distribution), e.g., see the Table in [this wiki page](https://en.wikipedia.org/wiki/Maximum_entropy_probability_distribution). Then notice that the Exponential is a special case of the Gamma (set $\\alpha=1$)."
      ]
    },
    {
      "cell_type": "code",
      "execution_count": null,
      "metadata": {
        "id": "Mdr_8pNaPDTG",
        "outputId": "b316f8c7-a3f8-4247-a30c-7a40557f39f0"
      },
      "outputs": [
        {
          "data": {
            "image/png": "[encoded data removed]",
            "text/plain": [
              "<Figure size 600x400 with 1 Axes>"
            ]
          },
          "metadata": {},
          "output_type": "display_data"
        }
      ],
      "source": [
        "import scipy.stats as st\n",
        "\n",
        "# You have to pick an alpha:\n",
        "alpha = 1.0\n",
        "# And you have to pick a beta:\n",
        "beta = 1.0\n",
        "\n",
        "# This is the prior on lambda:\n",
        "lambda_prior = st.gamma(alpha, scale=1.0 / beta) \n",
        "\n",
        "# Let's plot it:\n",
        "lambdas = np.linspace(0, lambda_prior.ppf(0.99), 100)\n",
        "fig, ax = plt.subplots()\n",
        "ax.plot(lambdas, lambda_prior.pdf(lambdas))\n",
        "ax.set_xlabel('$\\lambda$ (# or major earthquakes per decade)')\n",
        "ax.set_ylabel('$p(\\lambda)$');"
      ]
    },
    {
      "cell_type": "markdown",
      "metadata": {
        "id": "actbkfGzPDTJ"
      },
      "source": [
        "C. Show that the posterior of $\\lambda$ conditioned on $x_{1:N}$ is also a Gamma, but with updated hyperparameters.\n",
        "<br>\n",
        "Hint: When you write down the posterior of $\\lambda$ you can drop any multiplicative term that does not depend on it as it will be absorbed in the normalization constnat. This will simplify the notation a little bit.\n",
        "<br>\n",
        "**Answer:**\n",
        "<br><br><br><br><br><br><br><br>"
      ]
    },
    {
      "cell_type": "markdown",
      "metadata": {
        "id": "UP07E0m0PDTL"
      },
      "source": [
        "D. Prior-likelihood pairs that result in a posterior with the same form as the prior as known as conjugate distributions. Conjugate distributions are your only hope for analytical Bayesian inference.\n",
        "As a sanity check, look at the wikipedia page for [conjugate priors](https://en.wikipedia.org/wiki/Conjugate_prior), locate the Poisson-Gamma pair and verify your answer above.\n",
        "<br>\n",
        "*Nothing to report here. Just do it as a sanity check.*"
      ]
    },
    {
      "cell_type": "markdown",
      "metadata": {
        "id": "Yu59OJm0PDTP"
      },
      "source": [
        "E. Plot the prior and the posterior of $\\lambda$ on the same plot."
      ]
    },
    {
      "cell_type": "code",
      "execution_count": null,
      "metadata": {
        "id": "r9uSMxDbPDTS",
        "outputId": "3899b34c-e8ac-4f18-c15e-9d7e99db6a96"
      },
      "outputs": [
        {
          "data": {
            "image/png": "[encoded data removed]",
            "text/plain": [
              "<Figure size 600x400 with 1 Axes>"
            ]
          },
          "metadata": {},
          "output_type": "display_data"
        }
      ],
      "source": [
        "# Your expression for alpha posterior here:\n",
        "alpha_post = 1.0\n",
        "# Your expression for beta posterior here:\n",
        "beta_post = 1.0 \n",
        "# The posterior\n",
        "lambda_post = st.gamma(alpha_post, scale=1.0 / beta_post)\n",
        "\n",
        "# Plot it\n",
        "lambdas = np.linspace(0, lambda_post.ppf(0.99), 100)\n",
        "fig, ax = plt.subplots()\n",
        "ax.plot(lambdas, lambda_prior.pdf(lambdas))\n",
        "ax.plot(lambdas, lambda_post.pdf(lambdas))\n",
        "ax.set_xlabel('$\\lambda$ (# or major earthquakes per decade)')\n",
        "ax.set_ylabel('$p(\\lambda|x_{1:N})$');"
      ]
    },
    {
      "cell_type": "markdown",
      "metadata": {
        "id": "DlImnrCwPDTV"
      },
      "source": [
        "F. Let's work out the predictive distribution for the number of major earthquakes during the next decade.\n",
        "This is something that we did not do in class, but it will appear again and again in future lectures.\n",
        "Let $X$ be the random variable corresponding to the number of major eathquakes during the next decade.\n",
        "We need to calculate:\n",
        "\n",
        "$$\n",
        "p(x|x_{1:N}) = \\text{our state of knowledge about $X$ after seeing the data}.\n",
        "$$\n",
        "\n",
        "How do we do this?\n",
        "We just use the sum rule:\n",
        "\n",
        "$$\n",
        "p(x|x_{1:N}) = \\int_{0}^\\infty p(x|\\lambda, x_{1:N}) p(\\lambda|x_{1:N})d\\lambda = \\int_{0}^\\infty p(x|\\lambda) p(\\lambda|x_{1:N})d\\lambda,\n",
        "$$\n",
        "\n",
        "where going from the middle step to the rightmost one we used the assumption that the number of earthquakes occuring in each decade is independent.\n",
        "You can carray out this integration analytically (it gives a [negative Binomial](https://en.wikipedia.org/wiki/Negative_binomial_distribution) distribution) but we are not going to bother with it.\n",
        "\n",
        "Below you are going to write code to characterize it using Monte Carlo sampling.\n",
        "Basically, you can take a sample from the posterior predictive by:\n",
        "\n",
        "+ sampling a $\\lambda$ from its posterior $p(\\lambda|x_{1:N})$.\n",
        "+ sampling an $x$ from the likelihood $p(x|\\lambda)$.\n",
        "\n",
        "This is the same procedure we used for replicated experiments.\n",
        "\n",
        "Complete the code below:"
      ]
    },
    {
      "cell_type": "code",
      "execution_count": null,
      "metadata": {
        "id": "V7LCFJrTPDTX"
      },
      "outputs": [],
      "source": [
        "def sample_posterior_predictive(n, lambda_post):\n",
        "    \"\"\"Sample from the posterior predictive.\n",
        "    \n",
        "    Arguments\n",
        "    n           -- The number of samples to take.\n",
        "    lambda_post -- The posterior for lambda.\n",
        "    \n",
        "    Returns n samples from the posterior\n",
        "    \"\"\"\n",
        "    samples = np.array((n,), dtype=\"i\")\n",
        "    for i in range(n):\n",
        "        lambda_sample = # WRITE ME (SAMPLE FROM POSTERIOR)\n",
        "        samples[i] = # WRITE ME (SAMPLE FROM POISSON GIVEN LAMBDA_SAMPLE)\n",
        "    return samples"
      ]
    },
    {
      "cell_type": "markdown",
      "metadata": {
        "id": "36dY1OoQPDTZ"
      },
      "source": [
        "Test your code here:"
      ]
    },
    {
      "cell_type": "code",
      "execution_count": null,
      "metadata": {
        "id": "K-cd4o4kPDTa"
      },
      "outputs": [],
      "source": [
        "samples = sample_posterior_predictive(10, lambda_post)\n",
        "samples"
      ]
    },
    {
      "cell_type": "markdown",
      "metadata": {
        "id": "AHFY6DC3PDTb"
      },
      "source": [
        "G. Plot the predictive distribution $p(x|x_{1:N})$.\n",
        "<br>\n",
        "*Hint: Draw 1,000 samples using `sample_posterior_predictive` and then draw a histogram.*"
      ]
    },
    {
      "cell_type": "code",
      "execution_count": null,
      "metadata": {
        "id": "tcgPAJtaPDTc"
      },
      "outputs": [],
      "source": [
        "# Your code here"
      ]
    },
    {
      "cell_type": "markdown",
      "metadata": {
        "id": "wY_W3zUJPDTd"
      },
      "source": [
        "H. What is the probability that at least one major earthquake will occur during the next decade?\n",
        "<br>\n",
        "*Hint: You may use a Monte Carlo estimate of the probability. Ignore the uncertainty in the estimate.*"
      ]
    },
    {
      "cell_type": "code",
      "execution_count": null,
      "metadata": {
        "id": "dFBOf3u9PDTg"
      },
      "outputs": [],
      "source": [
        "num_samples = 10000\n",
        "samples = sample_posterior_predictive(num_samples, lambda_post)\n",
        "\n",
        "# Count how many major earthquakes occured:\n",
        "count = 0\n",
        "for i in range(num_samples):\n",
        "    if samples[i] >=1:\n",
        "        count += 1\n",
        "\n",
        "prob_of_major_eq = # YOUR ESTIMATE HERE\n",
        "\n",
        "print(f\"p(X >= 1 | data) = {prob_of_major_eq}\")"
      ]
    },
    {
      "cell_type": "markdown",
      "metadata": {
        "id": "xD2kHkScPDTi"
      },
      "source": [
        "I. Find a 95\\% credible interval for $\\lambda$."
      ]
    },
    {
      "cell_type": "code",
      "execution_count": null,
      "metadata": {
        "id": "N2NsAUHBPDTj"
      },
      "outputs": [],
      "source": [
        "# Write your code here and print() your answer"
      ]
    },
    {
      "cell_type": "markdown",
      "metadata": {
        "id": "KBncMM2zPDTk"
      },
      "source": [
        "J. Find the $\\lambda$ that minimizes the absolute loss (see lecture), call it $\\lambda^*_N$.\n",
        "Then, plot the fully Bayesian predictive $p(x|x_{1:N})$ in the same figure as $p(x|\\lambda^*_N)$."
      ]
    },
    {
      "cell_type": "code",
      "execution_count": null,
      "metadata": {
        "id": "1EsuVfFgPDTm"
      },
      "outputs": [],
      "source": [
        "# Write your code here and print() your answer"
      ]
    },
    {
      "cell_type": "markdown",
      "metadata": {
        "id": "ZuzY9O1ZPDTp"
      },
      "source": [
        "L. Draw replicated data from the model and compare them to the observed data.\n",
        "<br>\n",
        "Hint: Complete the missing code at the places indicated below."
      ]
    },
    {
      "cell_type": "code",
      "execution_count": null,
      "metadata": {
        "id": "T6Zun0vGPDTp"
      },
      "outputs": [],
      "source": [
        "def replicate_experiment(post_rv, n=len(eq_data), n_rep=9):\n",
        "    \"\"\"Replicate the experiment.\n",
        "    \n",
        "    Arguments\n",
        "    post_rv -- The random variable object corresponding to\n",
        "               the posterior from which to sample.\n",
        "    n       -- The number of observations.\n",
        "    nrep    -- The number of repetitions.\n",
        "    \n",
        "    Returns:\n",
        "    A numpy array of size n_rep x n.\n",
        "    \"\"\"\n",
        "    x_rep = np.ndarray((n_rep, n), dtype=\"i\")\n",
        "    for i in range(n_rep):\n",
        "        x_rep[i, :] = # Your code here"
      ]
    },
    {
      "cell_type": "markdown",
      "metadata": {
        "id": "pyN46rvSPDTq"
      },
      "source": [
        "Try your code here:"
      ]
    },
    {
      "cell_type": "code",
      "execution_count": null,
      "metadata": {
        "id": "DqNkDAW_PDTq"
      },
      "outputs": [],
      "source": [
        "x_rep = replicate_experiment(lambda_post)\n",
        "x_rep"
      ]
    },
    {
      "cell_type": "markdown",
      "metadata": {
        "id": "1q09jNh3PDTs"
      },
      "source": [
        "If it works, then try the following visualization:"
      ]
    },
    {
      "cell_type": "code",
      "execution_count": null,
      "metadata": {
        "id": "xcWImozdPDTt"
      },
      "outputs": [],
      "source": [
        "fig, ax = plt.subplots(\n",
        "    5,\n",
        "    2,\n",
        "    sharex='all',\n",
        "    sharey='all',\n",
        "    figsize=(20, 20)\n",
        ")\n",
        "ax[0, 0].bar(\n",
        "    np.linspace(1900, 2019, eq_data.shape[0]),\n",
        "    eq_data,\n",
        "    width=10,\n",
        "    color='red'\n",
        ")\n",
        "for i in range(1, n_rep + 1):\n",
        "    ax[int(i / 2), i % 2].bar(\n",
        "        np.linspace(1900, 2019, eq_data.shape[0]),\n",
        "        x_rep[i-1],\n",
        "        width=10\n",
        "    )"
      ]
    },
    {
      "cell_type": "markdown",
      "metadata": {
        "id": "fvqNxEkLPDTv"
      },
      "source": [
        "M. Plot the histograms and calculate the Bayesian p-values of the following test-quantities:\n",
        "\n",
        "+ Maximum number of consecutive decades with no earthquakes.\n",
        "+ Maximum number of consecutive decades with earthquakes.\n",
        "\n",
        "*Hint: You may reuse the code from the textbook.*"
      ]
    },
    {
      "cell_type": "code",
      "execution_count": null,
      "metadata": {
        "id": "FhBJXlt5PDTx"
      },
      "outputs": [],
      "source": [
        "def perform_diagnostics(post_rv, data, test_func, n_rep=1000):\n",
        "    \"\"\"Calculate Bayesian p-values.\n",
        "    \n",
        "    Arguments\n",
        "    post_rv   -- The random variable object corresponding to\n",
        "                 the posterior from which to sample.\n",
        "    data      -- The training data.\n",
        "    test_func -- The test function.\n",
        "    n         -- The number of observations.\n",
        "    nrep      -- The number of repetitions.\n",
        "    \n",
        "    Returns a dictionary that includes the observed value of\n",
        "    the test function (T_obs), the Bayesian p-value (p_val),\n",
        "    the replicated test statistic (T_rep),\n",
        "    and all the replicated data (data_rep).\n",
        "    \"\"\"\n",
        "    T_obs = test_func(data)\n",
        "    n = data.shape[0]\n",
        "    data_rep = replicate_experiment(post_rv, n_rep=n_rep)\n",
        "    T_rep = np.array(\n",
        "        tuple(\n",
        "            test_func(x)\n",
        "            for x in data_rep\n",
        "        )\n",
        "    )\n",
        "    p_val = (\n",
        "        np.sum(np.ones((n_rep,))[T_rep > T_obs]) / n_rep\n",
        "    )\n",
        "    return dict(\n",
        "        T_obs=T_obs,\n",
        "        p_val=p_val,\n",
        "        T_rep=T_rep,\n",
        "        data_rep=data_rep\n",
        "    )\n",
        "\n",
        "\n",
        "def plot_diagnostics(diagnostics):\n",
        "    \"\"\"Make the diagnostics plot.\n",
        "    \n",
        "    Arguments:\n",
        "    diagnostics -- The dictionary returned by perform_diagnostics()\n",
        "    \"\"\"\n",
        "    fig, ax = plt.subplots()\n",
        "    tmp = ax.hist(\n",
        "        diagnostics[\"T_rep\"],\n",
        "        density=True,\n",
        "        alpha=0.25,\n",
        "        label='Replicated test quantity'\n",
        "    )[0]\n",
        "    ax.plot(\n",
        "        diagnostics[\"T_obs\"] * np.ones((50,)),\n",
        "        np.linspace(0, tmp.max(), 50),\n",
        "        'k',\n",
        "        label='Observed test quantity'\n",
        "    )\n",
        "    plt.legend(loc='best');\n",
        "    \n",
        "\n",
        "def do_diagnostics(post_rv, data, test_func, n_rep=1000):\n",
        "    \"\"\"Calculate Bayesian p-values and make the corresponding\n",
        "    diagnostic plot.\n",
        "    \n",
        "    Arguments\n",
        "    post_rv   -- The random variable object corresponding to\n",
        "                 the posterior from which to sample.\n",
        "    data      -- The training data.\n",
        "    test_func -- The test function.\n",
        "    n         -- The number of observations.\n",
        "    nrep      -- The number of repetitions.\n",
        "    \n",
        "    Returns a dictionary that includes the observed value of\n",
        "    the test function (T_obs), the Bayesian p-value (p_val),\n",
        "    and the replicated experiment (data_rep).\n",
        "    \"\"\"\n",
        "    res = perform_diagnostics(\n",
        "        post_rv,\n",
        "        data,\n",
        "        test_func,\n",
        "        n_rep=n_rep\n",
        "    )\n",
        "\n",
        "    T_obs = res[\"T_obs\"]\n",
        "    p_val = res[\"p_val\"]\n",
        "\n",
        "    print(f'The observed test quantity is {T_obs}')\n",
        "    print(f'The Bayesian p_value is {p_val:.4f}')\n",
        "    \n",
        "    plot_diagnostics(res)"
      ]
    },
    {
      "cell_type": "code",
      "execution_count": null,
      "metadata": {
        "id": "75Rzz9uTPDT1"
      },
      "outputs": [],
      "source": [
        "# Here is the first test function for you\n",
        "def T_eq_max_neq(x):\n",
        "    \"\"\"Return the maximum number of consecutive decades\n",
        "    with no earthquakes.\"\"\"\n",
        "    count = 0\n",
        "    result = 0\n",
        "    for i in range(x.shape[0]):\n",
        "        if x[i] != 0:\n",
        "            count = 0\n",
        "        else:\n",
        "            count += 1\n",
        "            result = max(result, count)\n",
        "    return result\n",
        "    \n",
        "# Consult the textbook (Lecture 12) to figure out\n",
        "# how to use do_diagnostics()."
      ]
    },
    {
      "cell_type": "code",
      "execution_count": null,
      "metadata": {
        "id": "nZv-Hn3VPDT4"
      },
      "outputs": [],
      "source": [
        "# Write your code here for the second test quantity\n",
        "# (maximum number of consecutive decades with earthquakes)\n",
        "# Hint: copy paste your code from the previous cell\n",
        "# and make the necessary modifications"
      ]
    }
  ],
  "metadata": {
    "anaconda-cloud": {},
    "celltoolbar": "Tags",
    "kernelspec": {
      "display_name": "Python 3 (ipykernel)",
      "language": "python",
      "name": "python3"
    },
    "language_info": {
      "codemirror_mode": {
        "name": "ipython",
        "version": 3
      },
      "file_extension": ".py",
      "mimetype": "text/x-python",
      "name": "python",
      "nbconvert_exporter": "python",
      "pygments_lexer": "ipython3",
      "version": "3.9.12"
    },
    "latex_envs": {
      "bibliofile": "biblio.bib",
      "cite_by": "apalike",
      "current_citInitial": 1,
      "eqLabelWithNumbers": true,
      "eqNumInitial": 0
    },
    "colab": {
      "name": "homework-03.ipynb",
      "provenance": [],
      "include_colab_link": true
    }
  },
  "nbformat": 4,
  "nbformat_minor": 0
}